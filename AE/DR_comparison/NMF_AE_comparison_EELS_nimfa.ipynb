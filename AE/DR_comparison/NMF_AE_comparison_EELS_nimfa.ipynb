{
 "cells": [
  {
   "cell_type": "code",
   "execution_count": null,
   "id": "2826b8a3",
   "metadata": {},
   "outputs": [],
   "source": [
    "import time\n",
    "import numpy as np\n",
    "import matplotlib.pyplot as plt\n",
    "import matplotlib.colors as mcolors\n",
    "import matplotlib.cm as cm\n",
    "import ipywidgets as pyw\n",
    "import hyperspy.api as hys\n",
    "import tkinter.filedialog as tkf\n",
    "from tabulate import tabulate\n",
    "from sklearn.decomposition import NMF, PCA, FastICA, KernelPCA\n",
    "import malspy\n",
    "import nimfa\n",
    "plt.rcParams['font.family'] = 'Times New Roman'"
   ]
  },
  {
   "cell_type": "code",
   "execution_count": null,
   "id": "993809de",
   "metadata": {},
   "outputs": [],
   "source": [
    "# create a customized colorbar\n",
    "color_rep = [\"black\", \"red\", \"green\", \"blue\", \"purple\", \"purple\", \"yellow\", \"lime\", \n",
    "             \"cyan\", \"magenta\", \"lightgray\", \"peru\", \"springgreen\", \"deepskyblue\", \n",
    "             \"hotpink\", \"darkgray\"]\n",
    "print(len(color_rep))\n",
    "custom_cmap = mcolors.ListedColormap(color_rep)\n",
    "bounds = np.arange(-1, len(color_rep))\n",
    "norm = mcolors.BoundaryNorm(boundaries=bounds, ncolors=len(color_rep))\n",
    "sm = cm.ScalarMappable(cmap=custom_cmap, norm=norm)\n",
    "sm.set_array([])\n",
    "\n",
    "cm_rep = [\"gray\", \"Reds\", \"Greens\", \"Blues\", \"Oranges\", \"Purples\"]\n",
    "print(len(cm_rep))"
   ]
  },
  {
   "cell_type": "code",
   "execution_count": null,
   "id": "23529c77",
   "metadata": {},
   "outputs": [],
   "source": [
    "def data_load(adr, rescale=False, crop=None):\n",
    "    \"\"\"\n",
    "    load a spectrum image\n",
    "    \"\"\"\n",
    "    storage = []\n",
    "    shape = []\n",
    "    for i, adr in enumerate(adr):\n",
    "        temp = hys.load(adr)\n",
    "        temp = temp.isig[crop[0]:crop[1]]\n",
    "        temp = temp.data\n",
    "        if rescale:\n",
    "            tmp = np.max(temp, axis=2)\n",
    "            temp = temp / tmp[:, :, np.newaxis]\n",
    "        print(np.max(temp), np.min(temp))\n",
    "        print(temp.shape)\n",
    "\n",
    "        shape.append(temp.shape)\n",
    "        storage.append(temp)\n",
    "    \n",
    "    shape = np.asarray(shape)\n",
    "    return storage, shape"
   ]
  },
  {
   "cell_type": "code",
   "execution_count": null,
   "id": "24a0f4ff",
   "metadata": {},
   "outputs": [],
   "source": [
    "def reshape_coeff(coeffs, new_shape):\n",
    "    \"\"\"\n",
    "    reshape a coefficient matrix to restore the original scanning shapes.\n",
    "    \"\"\"\n",
    "    coeff_reshape = []\n",
    "    for i in range(len(new_shape)):\n",
    "        temp = coeffs[:int(new_shape[i, 0]*new_shape[i, 1]), :]\n",
    "        coeffs = np.delete(coeffs, range(int(new_shape[i, 0]*new_shape[i, 1])), axis=0)\n",
    "        temp = np.reshape(temp, (new_shape[i, 0], new_shape[i, 1], -1))\n",
    "        #print(temp.shape)\n",
    "        coeff_reshape.append(temp)\n",
    "        \n",
    "    return coeff_reshape"
   ]
  },
  {
   "cell_type": "code",
   "execution_count": null,
   "id": "6beb6714",
   "metadata": {},
   "outputs": [],
   "source": [
    "file_adr = []"
   ]
  },
  {
   "cell_type": "code",
   "execution_count": null,
   "id": "8d68ed0e",
   "metadata": {},
   "outputs": [],
   "source": [
    "file_adr.extend(tkf.askopenfilenames())\n",
    "print(len(file_adr))\n",
    "print(*file_adr, sep=\"\\n\")"
   ]
  },
  {
   "cell_type": "code",
   "execution_count": null,
   "id": "b394fdf7",
   "metadata": {},
   "outputs": [],
   "source": [
    "num_img = len(file_adr)\n",
    "print(num_img)"
   ]
  },
  {
   "cell_type": "code",
   "execution_count": null,
   "id": "fc1c9264",
   "metadata": {},
   "outputs": [],
   "source": [
    "# load spectrum images\n",
    "cr_range = [1.0, 3.56, 0.01] # actual input\n",
    "data_storage, data_shape = data_load(file_adr, rescale=True, crop=cr_range)\n",
    "print(len(data_storage))\n",
    "print(data_shape)\n",
    "\n",
    "e_range = np.arange(cr_range[0], cr_range[1], cr_range[2])\n",
    "depth = len(e_range)\n",
    "print(len(e_range))"
   ]
  },
  {
   "cell_type": "code",
   "execution_count": null,
   "id": "7f22858e",
   "metadata": {},
   "outputs": [],
   "source": [
    "# create the input dataset\n",
    "dataset_flat = []\n",
    "for i in range(num_img):\n",
    "    dataset_flat.extend(data_storage[i].clip(min=1E-5).reshape(-1, depth).tolist())\n",
    "    \n",
    "dataset_flat = np.asarray(dataset_flat)\n",
    "print(dataset_flat.shape)"
   ]
  },
  {
   "cell_type": "code",
   "execution_count": null,
   "id": "409992e3",
   "metadata": {},
   "outputs": [],
   "source": [
    "total_num = len(dataset_flat)\n",
    "ri = np.random.choice(total_num, total_num, replace=False)\n",
    "\n",
    "dataset_input = dataset_flat[ri]"
   ]
  },
  {
   "cell_type": "code",
   "execution_count": null,
   "id": "dd03b9d5",
   "metadata": {},
   "outputs": [],
   "source": [
    "num_comp = 5"
   ]
  },
  {
   "cell_type": "code",
   "execution_count": null,
   "id": "bc391660-d987-4a5e-bf89-ceead417187c",
   "metadata": {},
   "outputs": [],
   "source": [
    "lsnmf = nimfa.Lsnmf(dataset_input, seed=\"random_vcol\", rank=num_comp)\n",
    "lsnmf_fit = lsnmf()"
   ]
  },
  {
   "cell_type": "code",
   "execution_count": null,
   "id": "3ee0997d-9d13-4560-88f1-0daaf9551caa",
   "metadata": {},
   "outputs": [],
   "source": [
    "skl_comp_vectors = np.asarray(lsnmf_fit.coef())\n",
    "print(skl_comp_vectors.shape)\n",
    "\n",
    "skl_coeffs = np.asarray(lsnmf_fit.basis())\n",
    "print(skl_coeffs.shape)\n",
    "\n",
    "# convert the coefficient matrix into coefficient maps\n",
    "coeffs = np.zeros_like(skl_coeffs)\n",
    "coeffs[ri] = skl_coeffs.copy()\n",
    "coeffs_reshape = reshape_coeff(coeffs, data_shape)\n",
    "coeffs_reshape = np.asarray(coeffs_reshape)"
   ]
  },
  {
   "cell_type": "code",
   "execution_count": null,
   "id": "390781fe-6966-4b78-9ff5-82245340001e",
   "metadata": {},
   "outputs": [],
   "source": [
    "fig, ax = plt.subplots(1, 1, figsize=(8, 5)) # all loading vectors\n",
    "for i in range(num_comp):\n",
    "    ax.plot(e_range, skl_comp_vectors[i], \"-\", c=color_rep[i], label=\"loading vector %d\"%(i+1))\n",
    "#ax.grid()\n",
    "#ax.legend(fontsize=\"large\")\n",
    "ax.set_xlabel(\"eV\", fontsize=20)\n",
    "ax.tick_params(axis=\"both\", labelsize=20)\n",
    "#ax.axes.get_yaxis().set_visible(False)\n",
    "fig.tight_layout()\n",
    "plt.show()"
   ]
  },
  {
   "cell_type": "code",
   "execution_count": null,
   "id": "45f29bda-f750-48fe-adc4-05db6bb34497",
   "metadata": {},
   "outputs": [],
   "source": [
    "for i in range(num_comp):\n",
    "    fig, ax = plt.subplots(1, num_img, figsize=(120, 10))\n",
    "    min_val = np.min(coeffs_reshape[:][:, :, i])\n",
    "    max_val = np.max(coeffs_reshape[:][:, :, i])\n",
    "    for j in range(num_img):\n",
    "        tmp = ax[j].imshow(coeffs_reshape[j][:, :, i], \n",
    "                               vmin=min_val, vmax=max_val, cmap=\"inferno\")\n",
    "        #ax[j].set_title(\"loading vector %d map\"%(i+1), fontsize=10)\n",
    "        ax[j].axis(\"off\")\n",
    "    fig.tight_layout()\n",
    "    #fig.colorbar(tmp, cax=fig.add_axes([0.92, 0.15, 0.04, 0.7]))\n",
    "plt.show()"
   ]
  },
  {
   "cell_type": "code",
   "execution_count": null,
   "id": "03c3d129-3e76-47a0-a9a1-00827470b2b2",
   "metadata": {
    "tags": []
   },
   "outputs": [],
   "source": [
    "for i in range(num_comp):\n",
    "    fig, ax = plt.subplots(1, 1, figsize=(10, 10))\n",
    "    min_val = np.min(coeffs_reshape[:][:, :, i])\n",
    "    max_val = np.max(coeffs_reshape[:][:, :, i])\n",
    "    for j in range(1):\n",
    "        tmp = ax.imshow(np.zeros((10, 10)), \n",
    "                               vmin=min_val, vmax=max_val, cmap=\"inferno\")\n",
    "        #ax[j].set_title(\"loading vector %d map\"%(i+1), fontsize=10)\n",
    "        ax.axis(\"off\")\n",
    "    c_bar = fig.colorbar(tmp, cax=fig.add_axes([0.92, 0.15, 0.04, 0.7]))\n",
    "    c_bar.ax.tick_params(labelsize=30)\n",
    "plt.show()"
   ]
  },
  {
   "cell_type": "code",
   "execution_count": null,
   "id": "3c4d8a66-440a-4843-863f-d045c2b1eb15",
   "metadata": {},
   "outputs": [],
   "source": [
    "lsnmf = nimfa.Lsnmf(dataset_input, seed=\"random_vcol\", rank=num_comp, max_iter=100)\n",
    "lsnmf_fit = lsnmf()"
   ]
  },
  {
   "cell_type": "code",
   "execution_count": null,
   "id": "c379ee83-f216-4016-b6ad-39b255114993",
   "metadata": {},
   "outputs": [],
   "source": [
    "skl_comp_vectors = np.asarray(lsnmf_fit.coef())\n",
    "print(skl_comp_vectors.shape)\n",
    "\n",
    "skl_coeffs = np.asarray(lsnmf_fit.basis())\n",
    "print(skl_coeffs.shape)\n",
    "\n",
    "# convert the coefficient matrix into coefficient maps\n",
    "coeffs = np.zeros_like(skl_coeffs)\n",
    "coeffs[ri] = skl_coeffs.copy()\n",
    "coeffs_reshape = reshape_coeff(coeffs, data_shape)\n",
    "coeffs_reshape = np.asarray(coeffs_reshape)"
   ]
  },
  {
   "cell_type": "code",
   "execution_count": null,
   "id": "1830cadc-2caa-4528-af6a-6fb760d71c86",
   "metadata": {},
   "outputs": [],
   "source": [
    "fig, ax = plt.subplots(1, 1, figsize=(8, 5)) # all loading vectors\n",
    "for i in range(num_comp):\n",
    "    ax.plot(e_range, skl_comp_vectors[i], \"-\", c=color_rep[i], label=\"loading vector %d\"%(i+1))\n",
    "#ax.grid()\n",
    "#ax.legend(fontsize=\"large\")\n",
    "ax.set_xlabel(\"eV\", fontsize=20)\n",
    "ax.tick_params(axis=\"both\", labelsize=20)\n",
    "#ax.axes.get_yaxis().set_visible(False)\n",
    "fig.tight_layout()\n",
    "plt.show()"
   ]
  },
  {
   "cell_type": "code",
   "execution_count": null,
   "id": "14609646-9029-4898-bcc8-f348ee607186",
   "metadata": {},
   "outputs": [],
   "source": [
    "for i in range(num_comp):\n",
    "    fig, ax = plt.subplots(1, num_img, figsize=(120, 10))\n",
    "    min_val = np.min(coeffs_reshape[:][:, :, i])\n",
    "    max_val = np.max(coeffs_reshape[:][:, :, i])\n",
    "    for j in range(num_img):\n",
    "        tmp = ax[j].imshow(coeffs_reshape[j][:, :, i], \n",
    "                               vmin=min_val, vmax=max_val, cmap=\"inferno\")\n",
    "        #ax[j].set_title(\"loading vector %d map\"%(i+1), fontsize=10)\n",
    "        ax[j].axis(\"off\")\n",
    "    fig.tight_layout()\n",
    "    #fig.colorbar(tmp, cax=fig.add_axes([0.92, 0.15, 0.04, 0.7]))\n",
    "plt.show()"
   ]
  },
  {
   "cell_type": "code",
   "execution_count": null,
   "id": "96872aa7-87ac-4b0a-9e6a-4f65530838a8",
   "metadata": {
    "tags": []
   },
   "outputs": [],
   "source": [
    "for i in range(num_comp):\n",
    "    fig, ax = plt.subplots(1, 1, figsize=(10, 10))\n",
    "    min_val = np.min(coeffs_reshape[:][:, :, i])\n",
    "    max_val = np.max(coeffs_reshape[:][:, :, i])\n",
    "    for j in range(1):\n",
    "        tmp = ax.imshow(np.zeros((10, 10)), \n",
    "                               vmin=min_val, vmax=max_val, cmap=\"inferno\")\n",
    "        #ax[j].set_title(\"loading vector %d map\"%(i+1), fontsize=10)\n",
    "        ax.axis(\"off\")\n",
    "    c_bar = fig.colorbar(tmp, cax=fig.add_axes([0.92, 0.15, 0.04, 0.7]))\n",
    "    c_bar.ax.tick_params(labelsize=30)\n",
    "plt.show()"
   ]
  }
 ],
 "metadata": {
  "kernelspec": {
   "display_name": "Python 3 (ipykernel)",
   "language": "python",
   "name": "python3"
  },
  "language_info": {
   "codemirror_mode": {
    "name": "ipython",
    "version": 3
   },
   "file_extension": ".py",
   "mimetype": "text/x-python",
   "name": "python",
   "nbconvert_exporter": "python",
   "pygments_lexer": "ipython3",
   "version": "3.9.13"
  },
  "widgets": {
   "application/vnd.jupyter.widget-state+json": {
    "state": {},
    "version_major": 2,
    "version_minor": 0
   }
  }
 },
 "nbformat": 4,
 "nbformat_minor": 5
}
