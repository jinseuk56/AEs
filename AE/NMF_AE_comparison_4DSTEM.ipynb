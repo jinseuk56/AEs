{
 "cells": [
  {
   "cell_type": "code",
   "execution_count": null,
   "id": "f4caa3b1",
   "metadata": {},
   "outputs": [],
   "source": [
    "import time\n",
    "import numpy as np\n",
    "import matplotlib.pyplot as plt\n",
    "import matplotlib.colors as mcolors\n",
    "import matplotlib.cm as cm\n",
    "import ipywidgets as pyw\n",
    "import hyperspy.api as hys\n",
    "import tkinter.filedialog as tkf\n",
    "from tabulate import tabulate\n",
    "from sklearn.decomposition import NMF, PCA, FastICA, KernelPCA\n",
    "#import malspy"
   ]
  },
  {
   "cell_type": "code",
   "execution_count": null,
   "id": "2adf31a7",
   "metadata": {},
   "outputs": [],
   "source": [
    "def zero_one_rescale(spectrum):\n",
    "    \"\"\"\n",
    "    normalize one spectrum from 0.0 to 1.0\n",
    "    \"\"\"\n",
    "    spectrum = spectrum.clip(min=0.0)\n",
    "    min_val = np.min(spectrum)\n",
    "    \n",
    "    rescaled = spectrum - min_val\n",
    "    \n",
    "    if np.max(rescaled) != 0:\n",
    "        rescaled = rescaled / np.max(rescaled)\n",
    "    \n",
    "    return rescaled\n",
    "\n",
    "def reshape_coeff(coeffs, new_shape):\n",
    "    \"\"\"\n",
    "    reshape a coefficient matrix to restore the original scanning shapes.\n",
    "    \"\"\"\n",
    "    coeff_reshape = []\n",
    "    for i in range(len(new_shape)):\n",
    "        temp = coeffs[:int(new_shape[i, 0]*new_shape[i, 1]), :]\n",
    "        coeffs = np.delete(coeffs, range(int(new_shape[i, 0]*new_shape[i, 1])), axis=0)\n",
    "        temp = np.reshape(temp, (new_shape[i, 0], new_shape[i, 1], -1))\n",
    "        #print(temp.shape)\n",
    "        coeff_reshape.append(temp)\n",
    "        \n",
    "    return coeff_reshape\n",
    "\n",
    "def indices_at_r(shape, radius, center=None):\n",
    "    y, x = np.indices(shape)\n",
    "    if not center:\n",
    "        center = np.array([(y.max()-y.min())/2.0, (x.max()-x.min())/2.0])\n",
    "    r = np.hypot(y - center[0], x - center[1])\n",
    "    r = np.around(r)\n",
    "    \n",
    "    ri = np.where(r == radius)\n",
    "    \n",
    "    angle_arr = np.zeros(shape)\n",
    "    for i in range(shape[0]):\n",
    "        for j in range(shape[1]):\n",
    "            angle_arr[i, j] = np.angle(complex(x[i, j]-center[1], y[i, j]-center[0]), deg=True)\n",
    "            \n",
    "    angle_arr = angle_arr + 180\n",
    "    angle_arr = np.around(angle_arr)\n",
    "    \n",
    "    ai = np.argsort(angle_arr[ri])\n",
    "    r_sort = (ri[1][ai], ri[0][ai])\n",
    "    a_sort = np.sort(angle_arr[ri])\n",
    "        \n",
    "    return r_sort, a_sort\n",
    "\n",
    "def circle_flatten(f_stack, radial_range, c_pos):\n",
    "    k_indx = []\n",
    "    k_indy = []\n",
    "    \n",
    "    for r in range(radial_range[0], radial_range[1], radial_range[2]):\n",
    "        tmp_k, tmp_a = indices_at_r(f_stack.shape[2:], r, c_pos)\n",
    "        k_indx.extend(tmp_k[0].tolist())\n",
    "        k_indy.extend(tmp_k[1].tolist())\n",
    "    \n",
    "    k_indx = np.asarray(k_indx)\n",
    "    k_indy = np.asarray(k_indy)\n",
    "    flat_data = f_stack[:, :, k_indy, k_indx]\n",
    "    \n",
    "    return flat_data\n",
    "\n",
    "def flattening(fdata, flat_option=\"box\", crop_dist=None, c_pos=None):\n",
    "    \n",
    "    fdata_shape = fdata.shape\n",
    "    if flat_option == \"box\":\n",
    "        if crop_dist:     \n",
    "            box_size = np.array([crop_dist, crop_dist])\n",
    "        \n",
    "            for i in range(num_img):\n",
    "                h_si = np.floor(c_pos[0]-box_size[0]).astype(int)\n",
    "                h_fi = np.ceil(c_pos[0]+box_size[0]).astype(int)\n",
    "                w_si = np.floor(c_pos[1]-box_size[1]).astype(int)\n",
    "                w_fi = np.ceil(c_pos[1]+box_size[1]).astype(int)\n",
    "\n",
    "            tmp = fdata[:, :, h_si:h_fi, w_si:w_fi]\n",
    "            \n",
    "            fig, ax = plt.subplots(1, 1, figsize=(5, 5))\n",
    "            ax.imshow(np.log(np.mean(tmp, axis=(0, 1))), cmap=\"viridis\")\n",
    "            ax.axis(\"off\")\n",
    "            plt.show()\n",
    "            \n",
    "            tmp = tmp.reshape(fdata_shape[0], fdata_shape[1], -1)\n",
    "            return tmp\n",
    "\n",
    "        else:\n",
    "            tmp = fdata.reshape(fdata_shape[0], fdata_shape[1], -1)\n",
    "            return tmp\n",
    "\n",
    "        \n",
    "    elif flat_option == \"radial\":\n",
    "        if len(crop_dist) != 3:\n",
    "            print(\"Warning! 'crop_dist' must be a list containing 3 elements\")\n",
    "            \n",
    "        tmp = circle_flatten(fdata, crop_dist, c_pos)\n",
    "        return tmp\n",
    "        \n",
    "    else:\n",
    "        print(\"Warning! Wrong option ('flat_option')\")\n",
    "        return\n",
    "\n",
    "def fourd_roll_axis(stack):\n",
    "    stack = np.rollaxis(np.rollaxis(stack, 2, 0), 3, 1)\n",
    "    return stack\n",
    "\n",
    "def radial_indices(shape, radial_range, center=None):\n",
    "    y, x = np.indices(shape)\n",
    "    if not center:\n",
    "        center = np.array([(y.max()-y.min())/2.0, (x.max()-x.min())/2.0])\n",
    "    \n",
    "    r = np.hypot(y - center[0], x - center[1])\n",
    "    ri = np.ones(r.shape)\n",
    "    \n",
    "    if len(np.unique(radial_range)) > 1:\n",
    "        ri[np.where(r <= radial_range[0])] = 0\n",
    "        ri[np.where(r > radial_range[1])] = 0\n",
    "        \n",
    "    else:\n",
    "        r = np.round(r)\n",
    "        ri[np.where(r != round(radial_range[0]))] = 0\n",
    "    \n",
    "    return ri\n",
    "\n",
    "def label_arrangement(label_arr, new_shape):\n",
    "    \"\"\"\n",
    "    reshape a clustering result obtained by performing OPTICS\n",
    "    \"\"\"\n",
    "    label_sort = np.unique(label_arr)\n",
    "    #print(label_sort)\n",
    "    num_label = len(label_sort)\n",
    "    hist, edge = np.histogram(label_arr, bins=num_label)\n",
    "    #print(hist)\n",
    "    label_reshape = reshape_coeff(label_arr.reshape(-1, 1), new_shape)\n",
    "    \n",
    "    for i in range(len(label_reshape)):\n",
    "        label_reshape[i] = np.squeeze(label_reshape[i])\n",
    "        \n",
    "    selected = []\n",
    "    for i in range(num_label):\n",
    "        temp = []\n",
    "        for j in range(len(label_reshape)):\n",
    "            img_temp = np.zeros_like(label_reshape[j])\n",
    "            img_temp[np.where(label_reshape[j] == label_sort[i])] = 1.0\n",
    "            temp.append(img_temp)\n",
    "        selected.append(temp)    \n",
    "        \n",
    "    return label_reshape, selected, hist"
   ]
  },
  {
   "cell_type": "code",
   "execution_count": null,
   "id": "40805976",
   "metadata": {},
   "outputs": [],
   "source": [
    "file_adr = []"
   ]
  },
  {
   "cell_type": "code",
   "execution_count": null,
   "id": "79b18ac6",
   "metadata": {},
   "outputs": [],
   "source": [
    "file_adr.extend(tkf.askopenfilenames())\n",
    "print(len(file_adr))\n",
    "print(*file_adr, sep=\"\\n\")"
   ]
  },
  {
   "cell_type": "code",
   "execution_count": null,
   "id": "6637d31d",
   "metadata": {},
   "outputs": [],
   "source": [
    "num_img = len(file_adr)\n",
    "print(num_img)"
   ]
  },
  {
   "cell_type": "code",
   "execution_count": null,
   "id": "220c2dac",
   "metadata": {},
   "outputs": [],
   "source": [
    "# load 4D-STEM data\n",
    "data_original = []\n",
    "data_shape = []\n",
    "for i in range(num_img):\n",
    "    tmp = hys.load(file_adr[i]).data\n",
    "    if file_adr[i][-3:]==\"dm3\" or file_adr[i][-3:]==\"dm4\":\n",
    "        tmp = fourd_roll_axis(tmp)\n",
    "    print(tmp.shape)\n",
    "    data_shape.append(list(tmp.shape[:2]))\n",
    "    data_original.append(tmp)\n",
    "    \n",
    "data_shape = np.asarray(data_shape)"
   ]
  },
  {
   "cell_type": "code",
   "execution_count": null,
   "id": "90868b7a",
   "metadata": {},
   "outputs": [],
   "source": [
    "# find the center position\n",
    "center_pos = []\n",
    "cbox_edge = 150\n",
    "center_removed_ = False\n",
    "for i in range(num_img):\n",
    "    mean_dp = np.mean(data_original[i], axis=(0, 1))\n",
    "    cbox_outy = int(mean_dp.shape[0]/2 - cbox_edge/2)\n",
    "    cbox_outx = int(mean_dp.shape[1]/2 - cbox_edge/2)\n",
    "    center_box = mean_dp[cbox_outy:-cbox_outy, cbox_outx:-cbox_outx]\n",
    "    Y, X = np.indices(center_box.shape)\n",
    "    com_y = np.sum(center_box * Y) / np.sum(center_box)\n",
    "    com_x = np.sum(center_box * X) / np.sum(center_box)\n",
    "    c_pos = [np.around(com_y+cbox_outy), np.around(com_x+cbox_outx)]\n",
    "    center_pos.append(c_pos)\n",
    "print(center_pos)"
   ]
  },
  {
   "cell_type": "code",
   "execution_count": null,
   "id": "ff170315-50c0-468d-8740-d3f13e548db3",
   "metadata": {},
   "outputs": [],
   "source": [
    "np.seterr(divide='ignore')\n",
    "for i in range(num_img):\n",
    "    fig, ax = plt.subplots(1, 1, figsize=(10, 10))\n",
    "    ax.imshow(np.log(np.mean(data_original[i], axis=(0, 1))), cmap=\"viridis\")\n",
    "    ax.scatter(center_pos[i][1], center_pos[i][0], c=\"r\", s=10)\n",
    "    ax.axis(\"off\")\n",
    "    plt.show()"
   ]
  },
  {
   "cell_type": "code",
   "execution_count": null,
   "id": "729c5c99",
   "metadata": {},
   "outputs": [],
   "source": [
    "# get rid of the center beam (optional)\n",
    "center_removed_ = True\n",
    "center_radius = 10\n",
    "data_cr = []\n",
    "for i in range(num_img):\n",
    "    ri = radial_indices(data_original[i].shape[2:], [center_radius, 100], center=center_pos[i])\n",
    "    data_cr.append(np.multiply(data_original[i], ri))"
   ]
  },
  {
   "cell_type": "code",
   "execution_count": null,
   "id": "452ef753-e4d5-4ada-a2c4-8df2099b8892",
   "metadata": {},
   "outputs": [],
   "source": [
    "if center_removed_:\n",
    "    for i in range(num_img):\n",
    "        fig, ax = plt.subplots(1, 1, figsize=(10, 10))\n",
    "        ax.imshow(np.log(np.mean(data_cr[i], axis=(0, 1))), cmap=\"viridis\")\n",
    "        ax.scatter(center_pos[i][1], center_pos[i][0], c=\"r\", s=10)\n",
    "        ax.axis(\"off\")\n",
    "        plt.show()"
   ]
  },
  {
   "cell_type": "code",
   "execution_count": null,
   "id": "351ac692",
   "metadata": {},
   "outputs": [],
   "source": [
    "# 2D diffraction pattern -> 1D data\n",
    "# option 1 : flatten a box\n",
    "radial_flat_ = False\n",
    "\n",
    "dataset = []\n",
    "w_size = 100\n",
    "for i in range(num_img):\n",
    "    if center_removed_:\n",
    "        flattened = flattening(data_cr[i], flat_option=\"box\", crop_dist=w_size, c_pos=center_pos[i])\n",
    "    \n",
    "    else:\n",
    "        flattened = flattening(data_original[i], flat_option=\"box\", crop_dist=w_size, c_pos=center_pos[i])\n",
    "    \n",
    "    dataset.append(flattened)\n",
    "    \n",
    "s_length = (w_size*2)**2"
   ]
  },
  {
   "cell_type": "code",
   "execution_count": null,
   "id": "1e6e2b02-6537-4b54-a9ed-908200ad2b65",
   "metadata": {},
   "outputs": [],
   "source": [
    "# 2D diffraction pattern -> 1D data\n",
    "# option 2 : flatten radially\n",
    "radial_flat_ = True\n",
    "\n",
    "dataset = []\n",
    "radial_range = [45, 60, 1]\n",
    "k_indx = []\n",
    "k_indy = []\n",
    "a_ind = []\n",
    "\n",
    "for r in range(radial_range[0], radial_range[1], radial_range[2]):\n",
    "    tmp_k, tmp_a = indices_at_r((radial_range[1]*2, radial_range[1]*2), r, (radial_range[1], radial_range[1]))\n",
    "    k_indx.extend(tmp_k[0].tolist())\n",
    "    k_indy.extend(tmp_k[1].tolist())\n",
    "    a_ind.extend(tmp_a.tolist())\n",
    "    \n",
    "s_length = len(k_indx)\n",
    "\n",
    "for i in range(num_img):\n",
    "    if center_removed_:\n",
    "        flattened = circle_flatten(data_cr[i], radial_range, center_pos[i])\n",
    "    else:\n",
    "        flattened = circle_flatten(data_original[i], radial_range, center_pos[i])\n",
    "        \n",
    "    dataset.append(flattened)"
   ]
  },
  {
   "cell_type": "code",
   "execution_count": null,
   "id": "23772253",
   "metadata": {},
   "outputs": [],
   "source": [
    "# create the input dataset\n",
    "dataset_flat = []\n",
    "for i in range(num_img):\n",
    "    print(dataset[i].shape)\n",
    "    dataset_flat.extend(dataset[i].reshape(-1, s_length))\n",
    "dataset_flat = np.asarray(dataset_flat).clip(min=0.0)\n",
    "print(dataset_flat.shape)"
   ]
  },
  {
   "cell_type": "code",
   "execution_count": null,
   "id": "b0b7d793",
   "metadata": {},
   "outputs": [],
   "source": [
    "# convert values into log scale (optional)\n",
    "dataset_flat[np.where(dataset_flat==0.0)] = 1.0\n",
    "dataset_flat = np.log(dataset_flat)"
   ]
  },
  {
   "cell_type": "code",
   "execution_count": null,
   "id": "e5828683-392a-421f-9fba-ffb035df48c3",
   "metadata": {},
   "outputs": [],
   "source": [
    "# max-normalize each flattened diffraction pattern (optional)\n",
    "dataset_flat = dataset_flat / np.max(dataset_flat, axis=1)[:, np.newaxis]\n",
    "dataset_flat = dataset_flat.clip(min=0.0)\n",
    "print(dataset_flat.shape)"
   ]
  },
  {
   "cell_type": "code",
   "execution_count": null,
   "id": "de07d164-fb0d-475b-b8cd-b05ff4c837a9",
   "metadata": {},
   "outputs": [],
   "source": [
    "total_num = len(dataset_flat)\n",
    "ri = np.random.choice(total_num, total_num, replace=False)\n",
    "\n",
    "dataset_input = dataset_flat[ri]\n",
    "dataset_input = dataset_input.astype(np.float32)"
   ]
  },
  {
   "cell_type": "code",
   "execution_count": null,
   "id": "b985c00e",
   "metadata": {},
   "outputs": [],
   "source": [
    "num_comp = 4"
   ]
  },
  {
   "cell_type": "code",
   "execution_count": null,
   "id": "a5b2e686",
   "metadata": {},
   "outputs": [],
   "source": [
    "%matplotlib inline"
   ]
  },
  {
   "cell_type": "code",
   "execution_count": null,
   "id": "5c9f3299",
   "metadata": {},
   "outputs": [],
   "source": [
    "%matplotlib qt"
   ]
  },
  {
   "cell_type": "code",
   "execution_count": null,
   "id": "73259840",
   "metadata": {},
   "outputs": [],
   "source": [
    "# NMF decomposition (linear dimensionality reduction)\n",
    "# please visit the below link for detailed information on NMF\n",
    "# https://scikit-learn.org/stable/modules/generated/sklearn.decomposition.NMF.html?highlight=nmf#sklearn.decomposition.NMF\n",
    "\n",
    "skl_nmf = NMF(n_components=num_comp, init=\"nndsvda\", solver=\"mu\", max_iter=2000, \n",
    "              verbose=True, beta_loss=\"frobenius\", l1_ratio=0.0, alpha=0.0)\n",
    "\n",
    "skl_coeffs = skl_nmf.fit_transform(dataset_input)\n",
    "skl_comp_vectors = skl_nmf.components_\n",
    "print(skl_coeffs.shape)\n",
    "print(skl_comp_vectors.shape)"
   ]
  },
  {
   "cell_type": "code",
   "execution_count": null,
   "id": "5e431526",
   "metadata": {},
   "outputs": [],
   "source": [
    "# convert the coefficient matrix into coefficient maps\n",
    "coeffs = np.zeros_like(skl_coeffs)\n",
    "coeffs[ri] = skl_coeffs.copy()\n",
    "coeffs_reshape = reshape_coeff(coeffs, data_shape)"
   ]
  },
  {
   "cell_type": "code",
   "execution_count": null,
   "id": "454d2f54",
   "metadata": {},
   "outputs": [],
   "source": [
    "# visualize loading vectors\n",
    "if radial_flat_:\n",
    "    for i in range(nmf_num_comp):\n",
    "        tmp = np.zeros((radial_range[1]*2, radial_range[1]*2))\n",
    "        tmp[k_indy, k_indx] = skl_comp_vectors[i]\n",
    "\n",
    "        fig, ax = plt.subplots(1, 1, figsize=(5, 5))\n",
    "        ax.imshow(tmp, cmap=\"viridis\")\n",
    "        ax.axis(\"off\")\n",
    "        fig.tight_layout()\n",
    "        plt.show()\n",
    "\n",
    "else:\n",
    "    for i in range(num_comp):\n",
    "        fig, ax = plt.subplots(1, 1, figsize=(5, 5))\n",
    "        ax.imshow(skl_comp_vectors[i].reshape((w_size*2, w_size*2)), cmap=\"viridis\")\n",
    "        ax.axis(\"off\")\n",
    "        fig.tight_layout()\n",
    "        plt.show()"
   ]
  },
  {
   "cell_type": "code",
   "execution_count": null,
   "id": "2df867fb",
   "metadata": {},
   "outputs": [],
   "source": [
    "# visualize the coefficient maps\n",
    "if num_img != 1:\n",
    "    for i in range(num_comp):\n",
    "        fig, ax = plt.subplots(1, num_img, figsize=(5*num_img, 5))\n",
    "        for j in range(num_img):\n",
    "            tmp = ax[j].imshow(coeffs_reshape[j][:, :, i], cmap=\"viridis\")\n",
    "            ax[j].set_title(\"loading vector %d map\"%(i+1), fontsize=10)\n",
    "            ax[j].axis(\"off\")\n",
    "            #fig.colorbar(tmp, cax=fig.add_axes([0.92, 0.15, 0.04, 0.7]))\n",
    "        plt.show()\n",
    "else:            \n",
    "    for i in range(num_comp):\n",
    "        fig, ax = plt.subplots(1, 1, figsize=(5*num_img, 5))\n",
    "        tmp = ax.imshow(coeffs_reshape[0][:, :, i], cmap=\"viridis\")\n",
    "        ax.set_title(\"loading vector %d map\"%(i+1), fontsize=10)\n",
    "        ax.axis(\"off\")\n",
    "        #fig.colorbar(tmp, cax=fig.add_axes([0.92, 0.15, 0.04, 0.7]))\n",
    "        plt.show()"
   ]
  },
  {
   "cell_type": "code",
   "execution_count": null,
   "id": "baa7c8d6-da5b-4aad-a5d7-68d4a5d49064",
   "metadata": {},
   "outputs": [],
   "source": [
    "skl_nmf = PCA(n_components=10, whiten=True, svd_solver=\"randomized\")\n",
    "\n",
    "skl_coeffs = skl_nmf.fit_transform(dataset_input)\n",
    "skl_comp_vectors = skl_nmf.components_\n",
    "print(skl_coeffs.shape)\n",
    "print(skl_comp_vectors.shape)"
   ]
  },
  {
   "cell_type": "code",
   "execution_count": null,
   "id": "3f8104ae-34fe-4d6a-bf61-0b2c414f1fc0",
   "metadata": {},
   "outputs": [],
   "source": [
    "# convert the coefficient matrix into coefficient maps\n",
    "coeffs = np.zeros_like(skl_coeffs)\n",
    "coeffs[ri] = skl_coeffs.copy()\n",
    "coeffs_reshape = reshape_coeff(coeffs, data_shape)"
   ]
  },
  {
   "cell_type": "code",
   "execution_count": null,
   "id": "a1443b0e-2e5f-4de9-8bec-a1a137012a7d",
   "metadata": {},
   "outputs": [],
   "source": [
    "# visualize loading vectors\n",
    "if radial_flat_:\n",
    "    for i in range(nmf_num_comp):\n",
    "        tmp = np.zeros((radial_range[1]*2, radial_range[1]*2))\n",
    "        tmp[k_indy, k_indx] = skl_comp_vectors[i]\n",
    "\n",
    "        fig, ax = plt.subplots(1, 1, figsize=(5, 5))\n",
    "        ax.imshow(tmp, cmap=\"viridis\")\n",
    "        ax.axis(\"off\")\n",
    "        fig.tight_layout()\n",
    "        plt.show()\n",
    "\n",
    "else:\n",
    "    for i in range(num_comp):\n",
    "        fig, ax = plt.subplots(1, 1, figsize=(5, 5))\n",
    "        ax.imshow(skl_comp_vectors[i].reshape((w_size*2, w_size*2)), cmap=\"viridis\")\n",
    "        ax.axis(\"off\")\n",
    "        fig.tight_layout()\n",
    "        plt.show()"
   ]
  },
  {
   "cell_type": "code",
   "execution_count": null,
   "id": "7f9d59c5-c9ab-439f-8b5d-371e989dcb9e",
   "metadata": {},
   "outputs": [],
   "source": [
    "# visualize the coefficient maps\n",
    "if num_img != 1:\n",
    "    for i in range(num_comp):\n",
    "        fig, ax = plt.subplots(1, num_img, figsize=(5*num_img, 5))\n",
    "        for j in range(num_img):\n",
    "            tmp = ax[j].imshow(coeffs_reshape[j][:, :, i], cmap=\"viridis\")\n",
    "            ax[j].set_title(\"loading vector %d map\"%(i+1), fontsize=10)\n",
    "            ax[j].axis(\"off\")\n",
    "            #fig.colorbar(tmp, cax=fig.add_axes([0.92, 0.15, 0.04, 0.7]))\n",
    "        plt.show()\n",
    "else:            \n",
    "    for i in range(num_comp):\n",
    "        fig, ax = plt.subplots(1, 1, figsize=(5*num_img, 5))\n",
    "        tmp = ax.imshow(coeffs_reshape[0][:, :, i], cmap=\"viridis\")\n",
    "        ax.set_title(\"loading vector %d map\"%(i+1), fontsize=10)\n",
    "        ax.axis(\"off\")\n",
    "        #fig.colorbar(tmp, cax=fig.add_axes([0.92, 0.15, 0.04, 0.7]))\n",
    "        plt.show()"
   ]
  },
  {
   "cell_type": "code",
   "execution_count": null,
   "id": "6c72793f-d790-4223-bf03-99ed564ae5f7",
   "metadata": {},
   "outputs": [],
   "source": [
    "print(skl_nmf.explained_variance_)\n",
    "print(skl_nmf.explained_variance_ratio_)\n",
    "print(np.sum(skl_nmf.explained_variance_ratio_))"
   ]
  },
  {
   "cell_type": "code",
   "execution_count": null,
   "id": "94ca843f-f047-4bf3-aa45-af84a05db779",
   "metadata": {},
   "outputs": [],
   "source": [
    "fig, ax = plt.subplots(1, 1, figsize=(15, 8))\n",
    "ax.plot(np.cumsum(skl_nmf.explained_variance_ratio_), 'k-')\n",
    "ax.plot(np.cumsum(skl_nmf.explained_variance_ratio_), 'r+')\n",
    "plt.show()"
   ]
  },
  {
   "cell_type": "code",
   "execution_count": null,
   "id": "fa4af771-ce47-4810-83b9-839233ec50f2",
   "metadata": {},
   "outputs": [],
   "source": [
    "skl_nmf = FastICA(n_components=num_comp)\n",
    "\n",
    "skl_coeffs = skl_nmf.fit_transform(dataset_input)\n",
    "skl_comp_vectors = skl_nmf.components_\n",
    "print(skl_coeffs.shape)\n",
    "print(skl_comp_vectors.shape)"
   ]
  },
  {
   "cell_type": "code",
   "execution_count": null,
   "id": "364350bc-4484-4ab1-9745-829f2729a1db",
   "metadata": {},
   "outputs": [],
   "source": [
    "# convert the coefficient matrix into coefficient maps\n",
    "coeffs = np.zeros_like(skl_coeffs)\n",
    "coeffs[ri] = skl_coeffs.copy()\n",
    "coeffs_reshape = reshape_coeff(coeffs, data_shape)"
   ]
  },
  {
   "cell_type": "code",
   "execution_count": null,
   "id": "8c15ef92-8662-4b8d-8092-c29e3ec976a8",
   "metadata": {},
   "outputs": [],
   "source": [
    "# visualize loading vectors\n",
    "if radial_flat_:\n",
    "    for i in range(nmf_num_comp):\n",
    "        tmp = np.zeros((radial_range[1]*2, radial_range[1]*2))\n",
    "        tmp[k_indy, k_indx] = skl_comp_vectors[i]\n",
    "\n",
    "        fig, ax = plt.subplots(1, 1, figsize=(5, 5))\n",
    "        ax.imshow(tmp, cmap=\"viridis\")\n",
    "        ax.axis(\"off\")\n",
    "        fig.tight_layout()\n",
    "        plt.show()\n",
    "\n",
    "else:\n",
    "    for i in range(num_comp):\n",
    "        fig, ax = plt.subplots(1, 1, figsize=(5, 5))\n",
    "        ax.imshow(skl_comp_vectors[i].reshape((w_size*2, w_size*2)), cmap=\"viridis\")\n",
    "        ax.axis(\"off\")\n",
    "        fig.tight_layout()\n",
    "        plt.show()"
   ]
  },
  {
   "cell_type": "code",
   "execution_count": null,
   "id": "3b01b16a-dcdb-4f12-9001-233e9c00b9f8",
   "metadata": {},
   "outputs": [],
   "source": [
    "# visualize the coefficient maps\n",
    "if num_img != 1:\n",
    "    for i in range(num_comp):\n",
    "        fig, ax = plt.subplots(1, num_img, figsize=(5*num_img, 5))\n",
    "        for j in range(num_img):\n",
    "            tmp = ax[j].imshow(coeffs_reshape[j][:, :, i], cmap=\"viridis\")\n",
    "            ax[j].set_title(\"loading vector %d map\"%(i+1), fontsize=10)\n",
    "            ax[j].axis(\"off\")\n",
    "            #fig.colorbar(tmp, cax=fig.add_axes([0.92, 0.15, 0.04, 0.7]))\n",
    "        plt.show()\n",
    "else:            \n",
    "    for i in range(num_comp):\n",
    "        fig, ax = plt.subplots(1, 1, figsize=(5*num_img, 5))\n",
    "        tmp = ax.imshow(coeffs_reshape[0][:, :, i], cmap=\"viridis\")\n",
    "        ax.set_title(\"loading vector %d map\"%(i+1), fontsize=10)\n",
    "        ax.axis(\"off\")\n",
    "        #fig.colorbar(tmp, cax=fig.add_axes([0.92, 0.15, 0.04, 0.7]))\n",
    "        plt.show()"
   ]
  },
  {
   "cell_type": "code",
   "execution_count": null,
   "id": "acacea4d",
   "metadata": {
    "tags": []
   },
   "outputs": [],
   "source": [
    "# https://github.com/MotokiShiga/malspy\n",
    "# NMF with automatic relevance determination and soft orthogonality penalty\n",
    "model_nmf_ardso = malspy.NMF_ARD_SO(n_components=num_comp, wo=0.1, reps=5, max_itr=100)\n",
    "model_nmf_ardso.fit(dataset_input)\n",
    "model_nmf_ardso.plot_spectra(figsize=(6, 3), normalize=False)\n",
    "ardso_coeffs = model_nmf_ardso.C_\n",
    "print(ardso_coeffs.shape)\n",
    "ardso_comp_vectors = model_nmf_ardso.S_\n",
    "ardso_comp_vectors = np.rollaxis(ardso_comp_vectors, 1, 0)\n",
    "print(ardso_comp_vectors.shape)"
   ]
  },
  {
   "cell_type": "code",
   "execution_count": null,
   "id": "a2092606",
   "metadata": {},
   "outputs": [],
   "source": [
    "# convert the coefficient matrix into coefficient maps\n",
    "coeffs = np.zeros_like(ardso_coeffs)\n",
    "coeffs[ri] = ardso_coeffs.copy()\n",
    "coeffs_reshape = reshape_coeff(coeffs, data_shape)"
   ]
  },
  {
   "cell_type": "code",
   "execution_count": null,
   "id": "66fa2e8b",
   "metadata": {},
   "outputs": [],
   "source": [
    "# visualize loading vectors\n",
    "for i in range(num_comp):\n",
    "    fig, ax = plt.subplots(1, 1, figsize=(5, 5))\n",
    "    ax.imshow(ardso_comp_vectors[i].reshape(box_size*2), cmap=\"viridis\")\n",
    "    ax.axis(\"off\")\n",
    "    fig.tight_layout()\n",
    "    plt.show()"
   ]
  },
  {
   "cell_type": "code",
   "execution_count": null,
   "id": "7eeb769d",
   "metadata": {
    "tags": []
   },
   "outputs": [],
   "source": [
    "# visualize the coefficient maps\n",
    "if num_img != 1:\n",
    "    for i in range(num_comp):\n",
    "        fig, ax = plt.subplots(1, num_img, figsize=(5*num_img, 5))\n",
    "        for j in range(num_img):\n",
    "            tmp = ax[j].imshow(coeffs_reshape[j][:, :, i], cmap=\"viridis\")\n",
    "            ax[j].set_title(\"loading vector %d map\"%(i+1), fontsize=10)\n",
    "            ax[j].axis(\"off\")\n",
    "            #fig.colorbar(tmp, cax=fig.add_axes([0.92, 0.15, 0.04, 0.7]))\n",
    "        plt.show()\n",
    "else:            \n",
    "    for i in range(num_comp):\n",
    "        fig, ax = plt.subplots(1, 1, figsize=(5*num_img, 5))\n",
    "        tmp = ax.imshow(coeffs_reshape[0][:, :, i], cmap=\"viridis\")\n",
    "        ax.set_title(\"loading vector %d map\"%(i+1), fontsize=10)\n",
    "        ax.axis(\"off\")\n",
    "        #fig.colorbar(tmp, cax=fig.add_axes([0.92, 0.15, 0.04, 0.7]))\n",
    "        plt.show()"
   ]
  },
  {
   "cell_type": "code",
   "execution_count": null,
   "id": "81073cba",
   "metadata": {
    "tags": []
   },
   "outputs": [],
   "source": [
    "# https://github.com/MotokiShiga/malspy\n",
    "# NMF with soft orthogonality penalty\n",
    "model_nmf_so = malspy.NMF_SO(n_components=num_comp, wo=0.10, reps=5, max_itr=100)\n",
    "model_nmf_so.fit(dataset_input)\n",
    "so_coeffs = model_nmf_so.C_\n",
    "print(so_coeffs.shape)\n",
    "so_comp_vectors = model_nmf_so.S_\n",
    "so_comp_vectors = np.rollaxis(so_comp_vectors, 1, 0)\n",
    "print(so_comp_vectors.shape)"
   ]
  },
  {
   "cell_type": "code",
   "execution_count": null,
   "id": "eeb2e00c",
   "metadata": {},
   "outputs": [],
   "source": [
    "# convert the coefficient matrix into coefficient maps\n",
    "coeffs = np.zeros_like(so_coeffs)\n",
    "coeffs[ri] = so_coeffs.copy()\n",
    "coeffs_reshape = reshape_coeff(coeffs, data_shape)"
   ]
  },
  {
   "cell_type": "code",
   "execution_count": null,
   "id": "a25fc938",
   "metadata": {},
   "outputs": [],
   "source": [
    "# visualize loading vectors\n",
    "for i in range(num_comp):\n",
    "    fig, ax = plt.subplots(1, 1, figsize=(5, 5))\n",
    "    ax.imshow(so_comp_vectors[i].reshape(box_size*2), cmap=\"viridis\")\n",
    "    ax.axis(\"off\")\n",
    "    fig.tight_layout()\n",
    "    plt.show()"
   ]
  },
  {
   "cell_type": "code",
   "execution_count": null,
   "id": "0197096f",
   "metadata": {},
   "outputs": [],
   "source": [
    "# visualize the coefficient maps\n",
    "min_val = np.min(coeffs)\n",
    "max_val = np.max(coeffs)\n",
    "if num_img != 1:\n",
    "    for i in range(num_comp):\n",
    "        fig, ax = plt.subplots(1, num_img, figsize=(5*num_img, 5))\n",
    "        for j in range(num_img):\n",
    "            tmp = ax[j].imshow(coeffs_reshape[j][:, :, i], cmap=\"viridis\")\n",
    "            ax[j].set_title(\"loading vector %d map\"%(i+1), fontsize=10)\n",
    "            ax[j].axis(\"off\")\n",
    "            #fig.colorbar(tmp, cax=fig.add_axes([0.92, 0.15, 0.04, 0.7]))\n",
    "        plt.show()\n",
    "else:            \n",
    "    for i in range(num_comp):\n",
    "        fig, ax = plt.subplots(1, 1, figsize=(5*num_img, 5))\n",
    "        tmp = ax.imshow(coeffs_reshape[0][:, :, i], cmap=\"viridis\")\n",
    "        ax.set_title(\"loading vector %d map\"%(i+1), fontsize=10)\n",
    "        ax.axis(\"off\")\n",
    "        #fig.colorbar(tmp, cax=fig.add_axes([0.92, 0.15, 0.04, 0.7]))\n",
    "        plt.show()"
   ]
  }
 ],
 "metadata": {
  "kernelspec": {
   "display_name": "Python 3 (ipykernel)",
   "language": "python",
   "name": "python3"
  },
  "language_info": {
   "codemirror_mode": {
    "name": "ipython",
    "version": 3
   },
   "file_extension": ".py",
   "mimetype": "text/x-python",
   "name": "python",
   "nbconvert_exporter": "python",
   "pygments_lexer": "ipython3",
   "version": "3.9.13"
  },
  "widgets": {
   "application/vnd.jupyter.widget-state+json": {
    "state": {},
    "version_major": 2,
    "version_minor": 0
   }
  }
 },
 "nbformat": 4,
 "nbformat_minor": 5
}
