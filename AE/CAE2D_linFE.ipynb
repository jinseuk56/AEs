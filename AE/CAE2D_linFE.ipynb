{
 "cells": [
  {
   "cell_type": "code",
   "execution_count": null,
   "id": "6de3dba8",
   "metadata": {},
   "outputs": [],
   "source": [
    "import sys\n",
    "sys.path.append(\"/home/jinseuk56/Desktop/github_repo/AEs/VAE/\")\n",
    "from AEs_module import *\n",
    "import time\n",
    "import numpy as np\n",
    "import scipy.stats as stats\n",
    "import matplotlib.pyplot as plt\n",
    "import matplotlib.colors as mcolors\n",
    "import matplotlib.cm as cm\n",
    "import ipywidgets as pyw\n",
    "import tkinter.filedialog as tkf\n",
    "import tifffile\n",
    "from tabulate import tabulate\n",
    "import torch\n",
    "import torch.nn as nn\n",
    "import torch.nn.functional as F\n",
    "import torch.optim as optim\n",
    "from torch import linalg as LA"
   ]
  },
  {
   "cell_type": "code",
   "execution_count": null,
   "id": "cf46f7ca",
   "metadata": {},
   "outputs": [],
   "source": [
    "file_adr = tkf.askopenfilenames()\n",
    "print(*file_adr, sep=\"\\n\")"
   ]
  },
  {
   "cell_type": "code",
   "execution_count": null,
   "id": "fdf84f5e-3335-4da0-8720-e0d6ebadbfdf",
   "metadata": {},
   "outputs": [],
   "source": [
    "data_load = load_data(file_adr, dat_dim=4, dat_unit='1/nm', rescale=False)"
   ]
  },
  {
   "cell_type": "code",
   "execution_count": null,
   "id": "ad7f20d5-8fab-4b5e-beae-1e9fca4956c7",
   "metadata": {},
   "outputs": [],
   "source": [
    "data_load.find_center(cbox_edge=10, center_remove=0, result_visual=True, log_scale=True)"
   ]
  },
  {
   "cell_type": "code",
   "execution_count": null,
   "id": "2256a57f-6d48-48b9-a618-85d5efb09fbd",
   "metadata": {},
   "outputs": [],
   "source": [
    "data_load.make_input(min_val=1E-6, max_normalize=True, \n",
    "           log_scale=False, radial_flat=False, \n",
    "           w_size=32, radial_range=None, final_dim=2)"
   ]
  },
  {
   "cell_type": "code",
   "execution_count": null,
   "id": "3f32e26a",
   "metadata": {},
   "outputs": [],
   "source": [
    "if torch.cuda.is_available():\n",
    "    print(\"%d gpu available\"%(torch.cuda.device_count()))\n",
    "    cuda_device = torch.device(\"cuda:0\")\n",
    "    print(torch.cuda.get_device_name(cuda_device))\n",
    "    torch.cuda.set_device(cuda_device)\n",
    "    print(torch.cuda.memory_summary(device=cuda_device))\n",
    "else:\n",
    "    cuda_device = None"
   ]
  },
  {
   "cell_type": "code",
   "execution_count": null,
   "id": "0c74abe9",
   "metadata": {},
   "outputs": [],
   "source": [
    "num_comp = 2\n",
    "channels = [32, 64, 128, 256]\n",
    "kernels = [4, 4, 4, 4]\n",
    "padding = [1, 1, 1, 1]\n",
    "stride = [2, 2, 2, 2]\n",
    "pooling = [1, 1, 1, 1]\n",
    "\n",
    "dat_dim = []\n",
    "tmp_dim = data_load.w_size*2\n",
    "for i in range(len(kernels)):\n",
    "    tmp_dim += (-kernels[i]+2*padding[i])\n",
    "    tmp_dim /= stride[i]\n",
    "    tmp_dim += 1\n",
    "    tmp_dim /= pooling[i]\n",
    "    dat_dim.append(int(tmp_dim))\n",
    "\n",
    "print(dat_dim)\n",
    "print(kernels)\n",
    "print(channels)\n",
    "print(padding)\n",
    "print(stride)\n",
    "print(pooling)"
   ]
  },
  {
   "cell_type": "code",
   "execution_count": null,
   "id": "39d888c0-021e-42b6-8907-5f59ef83e9a4",
   "metadata": {},
   "outputs": [],
   "source": [
    "parallel_ = False\n",
    "\n",
    "enc_model = CAE2D_encoder(dat_dim[-1], channels, kernels, stride, padding, pooling)\n",
    "if parallel_:\n",
    "    enc_model = nn.DataParallel(enc_model)\n",
    "enc_model.cuda(cuda_device)\n",
    "print(enc_model)"
   ]
  },
  {
   "cell_type": "code",
   "execution_count": null,
   "id": "62b31aef-5ea2-4e0d-8cee-bb69c284a150",
   "metadata": {},
   "outputs": [],
   "source": [
    "dec_kernel = [4, 4, 4, 4]\n",
    "dec_stride = [2, 2, 2, 2]\n",
    "dec_padding = [1, 1, 1, 1]\n",
    "dec_outpad = [0, 0, 1, 1]\n",
    "\n",
    "dec_dim = []\n",
    "enc_dim = dat_dim[-1]\n",
    "for i in range(len(dec_kernel)):\n",
    "    enc_dim = (enc_dim-1)*dec_stride[i] + dec_kernel[i] - 2*dec_padding[i] + dec_outpad[i]\n",
    "    dec_dim.append(enc_dim)\n",
    "    \n",
    "print(dec_dim)\n",
    "\n",
    "dec_kernel.reverse()\n",
    "dec_stride.reverse()\n",
    "dec_padding.reverse()\n",
    "dec_outpad.reverse()\n",
    "\n",
    "final_kernel = 4\n",
    "print(dec_dim[-1] - final_kernel + 1)"
   ]
  },
  {
   "cell_type": "code",
   "execution_count": null,
   "id": "647c18e7",
   "metadata": {},
   "outputs": [],
   "source": [
    "dec_model = linFE_decoder(num_comp, (2*data_load.w_size)**2)\n",
    "\n",
    "if parallel_:\n",
    "    dec_model = nn.DataParallel(dec_model)\n",
    "    \n",
    "dec_model.cuda(cuda_device)\n",
    "print(dec_model)"
   ]
  },
  {
   "cell_type": "code",
   "execution_count": null,
   "id": "7498b624",
   "metadata": {},
   "outputs": [],
   "source": [
    "batch_size = 510\n",
    "mini_batches = [data_load.dataset_input[k:k+batch_size] for k in range(0, len(data_load.dataset_input), batch_size)]\n",
    "print(len(mini_batches))\n",
    "print(len(mini_batches[-1]))"
   ]
  },
  {
   "cell_type": "code",
   "execution_count": null,
   "id": "d09e2c51",
   "metadata": {},
   "outputs": [],
   "source": [
    "params = list(enc_model.parameters()) + list(dec_model.parameters())\n",
    "optimizer = optim.Adam(params)"
   ]
  },
  {
   "cell_type": "code",
   "execution_count": null,
   "id": "7ea86b79",
   "metadata": {},
   "outputs": [],
   "source": [
    "start = time.time()\n",
    "n_epoch = 200\n",
    "ae_coeffs = []\n",
    "ae_bias = []\n",
    "for epoch in range(n_epoch):\n",
    "    for i, m_batch in enumerate(mini_batches):\n",
    "        \n",
    "        x = torch.from_numpy(m_batch)\n",
    "        x = x.to(torch.float32)\n",
    "        x = x.to(cuda_device)\n",
    "        x.requires_grad_(requires_grad=False)\n",
    "        \n",
    "        encoded = enc_model(x)\n",
    "        decoded = dec_model(encoded)\n",
    "        \n",
    "        if parallel_:\n",
    "            model_access = dec_model.module\n",
    "        else:\n",
    "            model_access = dec_model\n",
    "        \n",
    "        \n",
    "        main_loss = F.binary_cross_entropy(decoded.view(-1, data_load.w_size, data_load.w_size), x, reduction=\"mean\")\n",
    "        #main_loss = LA.norm((decoded - flat_x), 2) / len(m_batch)\n",
    "        \n",
    "        optimizer.zero_grad()\n",
    "        main_loss.backward()\n",
    "        optimizer.step()\n",
    "        \n",
    "        model_access.decoder[0].weight.data.clamp_(min=0.0)\n",
    "        \n",
    "        if epoch == n_epoch-1:\n",
    "            coeff_batch = encoded.data.cpu().numpy().tolist()\n",
    "            ae_coeffs.extend(coeff_batch)            \n",
    "    \n",
    "    \n",
    "    if epoch == 0:\n",
    "        print(torch.cuda.memory_summary(device=cuda_device))\n",
    "    \n",
    "    if (epoch+1) % int(n_epoch/10) == 0:\n",
    "        print(tabulate([\n",
    "                        [\"epoch\", epoch+1], \n",
    "                        [\"main loss\", main_loss.item()],\n",
    "                        ]))\n",
    "        print(\"%.2f minutes have passed\"%((time.time()-start)/60))\n",
    "        \n",
    "        fig, ax = plt.subplots(1, num_comp, figsize=(5*num_comp, 5))\n",
    "        for i in range(num_comp):\n",
    "            ax[i].imshow(model_access.decoder[0].weight.data.cpu()[:, i].reshape(data_load.w_size, data_load.w_size), cmap=\"viridis\")\n",
    "            ax[i].axis(\"off\")\n",
    "        fig.tight_layout()\n",
    "        plt.show()\n",
    "\n",
    "print(\"The training has been finished.\")"
   ]
  },
  {
   "cell_type": "code",
   "execution_count": null,
   "id": "92f58085",
   "metadata": {},
   "outputs": [],
   "source": [
    "ae_coeffs = np.asarray(ae_coeffs)\n",
    "ae_comp_vectors = model_access.decoder[0].weight.data.cpu().numpy().T\n",
    "print(ae_coeffs.shape)\n",
    "print(ae_comp_vectors.shape)\n",
    "\n",
    "# convert the coefficient matrix into coefficient maps\n",
    "coeffs = np.zeros_like(ae_coeffs)\n",
    "coeffs[data_load.ri] = ae_coeffs.copy()\n",
    "coeffs_reshape = reshape_coeff(coeffs, data_load.data_shape)"
   ]
  },
  {
   "cell_type": "code",
   "execution_count": null,
   "id": "fd81994c",
   "metadata": {},
   "outputs": [],
   "source": [
    "# visualize loading vectors\n",
    "for i in range(num_comp):\n",
    "    fig, ax = plt.subplots(1, 1, figsize=(5, 5))\n",
    "    ax.imshow(ae_comp_vectors[i].reshape(data_load.w_size, data_load.w_size), cmap=\"viridis\")\n",
    "    ax.axis(\"off\")\n",
    "    fig.tight_layout()\n",
    "    plt.show()"
   ]
  },
  {
   "cell_type": "code",
   "execution_count": null,
   "id": "acdafdc3",
   "metadata": {},
   "outputs": [],
   "source": [
    "# visualize the coefficient maps\n",
    "if data_load.num_img != 1:\n",
    "    for i in range(num_comp):\n",
    "        fig, ax = plt.subplots(data_load.num_img, 1, figsize=(10*data_load.num_img, 10))\n",
    "        for j in range(data_load.num_img):\n",
    "            tmp = ax[j].imshow(coeffs_reshape[j][:, :, i], cmap=\"viridis\")\n",
    "            ax[j].set_title(\"loading vector %d map\"%(i+1), fontsize=10)\n",
    "            ax[j].axis(\"off\")\n",
    "            #fig.colorbar(tmp, cax=fig.add_axes([0.92, 0.15, 0.04, 0.7]))\n",
    "        plt.show()\n",
    "else:            \n",
    "    for i in range(num_comp):\n",
    "        fig, ax = plt.subplots(1, 1, figsize=(5*data_load.num_img, 5))\n",
    "        tmp = ax.imshow(coeffs_reshape[0][:, :, i], cmap=\"viridis\")\n",
    "        ax.set_title(\"loading vector %d map\"%(i+1), fontsize=10)\n",
    "        ax.axis(\"off\")\n",
    "        #fig.colorbar(tmp, cax=fig.add_axes([0.92, 0.15, 0.04, 0.7]))\n",
    "        plt.show()"
   ]
  },
  {
   "cell_type": "code",
   "execution_count": null,
   "id": "1beadfdb",
   "metadata": {},
   "outputs": [],
   "source": [
    "# 2D subspace\n",
    "fig, ax = plt.subplots(1, 1, figsize=(7, 7))\n",
    "\n",
    "def projection(c1, c2):\n",
    "    ax.cla()\n",
    "    ax.scatter(coeffs[:, c1], coeffs[:, c2], s=30, c=\"black\", alpha=0.5)\n",
    "    ax.grid()\n",
    "    ax.set_xlabel(\"loading vector %d\"%(c1+1), fontsize=15)\n",
    "    ax.set_ylabel(\"loading vector %d\"%(c2+1), fontsize=15)\n",
    "    ax.tick_params(axis=\"both\", labelsize=15)\n",
    "    fig.canvas.draw()\n",
    "    fig.tight_layout()\n",
    "\n",
    "x_widget = pyw.IntSlider(min=0, max=num_comp-1, step=1, value=1)\n",
    "y_widget = pyw.IntSlider(min=0, max=num_comp-1, step=1, value=2)\n",
    "\n",
    "pyw.interact(projection, c1=x_widget, c2=y_widget)\n",
    "plt.show()"
   ]
  }
 ],
 "metadata": {
  "kernelspec": {
   "display_name": "Python 3 (ipykernel)",
   "language": "python",
   "name": "python3"
  },
  "language_info": {
   "codemirror_mode": {
    "name": "ipython",
    "version": 3
   },
   "file_extension": ".py",
   "mimetype": "text/x-python",
   "name": "python",
   "nbconvert_exporter": "python",
   "pygments_lexer": "ipython3",
   "version": "3.10.11"
  },
  "widgets": {
   "application/vnd.jupyter.widget-state+json": {
    "state": {},
    "version_major": 2,
    "version_minor": 0
   }
  }
 },
 "nbformat": 4,
 "nbformat_minor": 5
}
