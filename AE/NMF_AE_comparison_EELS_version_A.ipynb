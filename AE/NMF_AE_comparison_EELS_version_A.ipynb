{
 "cells": [
  {
   "cell_type": "code",
   "execution_count": null,
   "id": "8fe6b05f",
   "metadata": {},
   "outputs": [],
   "source": [
    "import time\n",
    "import numpy as np\n",
    "import matplotlib.pyplot as plt\n",
    "import matplotlib.colors as mcolors\n",
    "import matplotlib.cm as cm\n",
    "import ipywidgets as pyw\n",
    "import hyperspy.api as hys\n",
    "import tkinter.filedialog as tkf\n",
    "from tabulate import tabulate\n",
    "from sklearn.decomposition import NMF\n",
    "import malspy\n",
    "plt.rcParams['font.family'] = 'Times New Roman'"
   ]
  },
  {
   "cell_type": "code",
   "execution_count": null,
   "id": "ff8c9ae4",
   "metadata": {},
   "outputs": [],
   "source": [
    "# create a customized colorbar\n",
    "color_rep = [\"black\", \"red\", \"green\", \"blue\", \"orange\", \"purple\", \"yellow\", \"lime\", \n",
    "             \"cyan\", \"magenta\", \"lightgray\", \"peru\", \"springgreen\", \"deepskyblue\", \n",
    "             \"hotpink\", \"darkgray\"]\n",
    "print(len(color_rep))\n",
    "custom_cmap = mcolors.ListedColormap(color_rep)\n",
    "bounds = np.arange(-1, len(color_rep))\n",
    "norm = mcolors.BoundaryNorm(boundaries=bounds, ncolors=len(color_rep))\n",
    "sm = cm.ScalarMappable(cmap=custom_cmap, norm=norm)\n",
    "sm.set_array([])\n",
    "\n",
    "cm_rep = [\"gray\", \"Reds\", \"Greens\", \"Blues\", \"Oranges\", \"Purples\"]\n",
    "print(len(cm_rep))"
   ]
  },
  {
   "cell_type": "code",
   "execution_count": null,
   "id": "c50875c3",
   "metadata": {},
   "outputs": [],
   "source": [
    "def zero_one_rescale(spectrum):\n",
    "    \"\"\"\n",
    "    normalize one spectrum from 0.0 to 1.0\n",
    "    \"\"\"\n",
    "    spectrum = spectrum.clip(min=0.0)\n",
    "    min_val = np.min(spectrum)\n",
    "    \n",
    "    rescaled = spectrum - min_val\n",
    "    \n",
    "    if np.max(rescaled) != 0:\n",
    "        rescaled = rescaled / np.max(rescaled)\n",
    "    \n",
    "    return rescaled"
   ]
  },
  {
   "cell_type": "code",
   "execution_count": null,
   "id": "7aeb49d9",
   "metadata": {},
   "outputs": [],
   "source": [
    "def data_load(adr, rescale=False, crop=None):\n",
    "    \"\"\"\n",
    "    load a spectrum image\n",
    "    \"\"\"\n",
    "    storage = []\n",
    "    shape = []\n",
    "    for i, adr in enumerate(adr):\n",
    "        temp = hys.load(adr)\n",
    "        if rescale:\n",
    "            temp.data = temp.data / np.max(temp.data)\n",
    "        temp = temp.isig[crop[0]:crop[1]]\n",
    "        temp = temp.data\n",
    "        print(np.max(temp), np.min(temp))\n",
    "        print(temp.shape)\n",
    "\n",
    "        shape.append(temp.shape)\n",
    "        storage.append(temp)\n",
    "    \n",
    "    shape = np.asarray(shape)\n",
    "    return storage, shape"
   ]
  },
  {
   "cell_type": "code",
   "execution_count": null,
   "id": "cfd7fc0b",
   "metadata": {},
   "outputs": [],
   "source": [
    "def binning_SI(si, bin_y, bin_x, str_y, str_x, offset, depth, rescale=True):\n",
    "    \"\"\"\n",
    "    re-bin a spectrum image\n",
    "    \"\"\"\n",
    "    si = np.asarray(si)\n",
    "    rows = range(0, si.shape[0]-bin_y+1, str_y)\n",
    "    cols = range(0, si.shape[1]-bin_x+1, str_x)\n",
    "    new_shape = (len(rows), len(cols))\n",
    "    \n",
    "    binned = []\n",
    "    for i in rows:\n",
    "        for j in cols:\n",
    "            temp_sum = np.mean(si[i:i+bin_y, j:j+bin_x, offset:(offset+depth)], axis=(0, 1))\n",
    "            if rescale:\n",
    "                binned.append(zero_one_rescale(temp_sum))\n",
    "            else:\n",
    "                binned.append(temp_sum)\n",
    "            \n",
    "    binned = np.asarray(binned).reshape(new_shape[0], new_shape[1], depth)\n",
    "    \n",
    "    return binned"
   ]
  },
  {
   "cell_type": "code",
   "execution_count": null,
   "id": "8ee5e608",
   "metadata": {},
   "outputs": [],
   "source": [
    "def reshape_coeff(coeffs, new_shape):\n",
    "    \"\"\"\n",
    "    reshape a coefficient matrix to restore the original scanning shapes.\n",
    "    \"\"\"\n",
    "    coeff_reshape = []\n",
    "    for i in range(len(new_shape)):\n",
    "        temp = coeffs[:int(new_shape[i, 0]*new_shape[i, 1]), :]\n",
    "        coeffs = np.delete(coeffs, range(int(new_shape[i, 0]*new_shape[i, 1])), axis=0)\n",
    "        temp = np.reshape(temp, (new_shape[i, 0], new_shape[i, 1], -1))\n",
    "        #print(temp.shape)\n",
    "        coeff_reshape.append(temp)\n",
    "        \n",
    "    return coeff_reshape"
   ]
  },
  {
   "cell_type": "code",
   "execution_count": null,
   "id": "bdf40dba",
   "metadata": {},
   "outputs": [],
   "source": [
    "file_adr = []"
   ]
  },
  {
   "cell_type": "code",
   "execution_count": null,
   "id": "22632e34",
   "metadata": {},
   "outputs": [],
   "source": [
    "file_adr.extend(tkf.askopenfilenames())\n",
    "print(len(file_adr))\n",
    "print(*file_adr, sep=\"\\n\")"
   ]
  },
  {
   "cell_type": "code",
   "execution_count": null,
   "id": "d1e04e8f",
   "metadata": {},
   "outputs": [],
   "source": [
    "num_img = len(file_adr)\n",
    "print(num_img)"
   ]
  },
  {
   "cell_type": "code",
   "execution_count": null,
   "id": "f77bf011",
   "metadata": {},
   "outputs": [],
   "source": [
    "# load spectrum images\n",
    "cr_range = [0.1, 0.3, 0.005] # actual input\n",
    "data_storage, data_shape = data_load(file_adr, rescale=False, crop=cr_range, roll_axis=False)\n",
    "print(len(data_storage))\n",
    "print(data_shape)\n",
    "\n",
    "e_range = np.arange(cr_range[0], cr_range[1], cr_range[2])\n",
    "print(len(e_range))"
   ]
  },
  {
   "cell_type": "code",
   "execution_count": null,
   "id": "ae43c8da",
   "metadata": {},
   "outputs": [],
   "source": [
    "# re-bin spectrum images in order to mitigate noises\n",
    "bin_y = 1 # binning size (height)\n",
    "bin_x = 1 # binning size (width)\n",
    "str_y = 1 # stride width-direction\n",
    "str_x = 1 # stride height-direction\n",
    "\n",
    "# actual input\n",
    "dataset = []\n",
    "data_shape_new = []\n",
    "offset = 0\n",
    "depth = len(e_range)\n",
    "for img in data_storage:\n",
    "    print(img.shape)\n",
    "    processed = binning_SI(img, bin_y, bin_x, str_y, str_x, offset, depth, rescale=True) # include the step for re-scaling the actual input\n",
    "    print(processed.shape)\n",
    "    data_shape_new.append(processed.shape)\n",
    "    dataset.append(processed)\n",
    "    \n",
    "data_shape_new = np.asarray(data_shape_new)\n",
    "print(data_shape_new)"
   ]
  },
  {
   "cell_type": "code",
   "execution_count": null,
   "id": "1aa5b1c6",
   "metadata": {},
   "outputs": [],
   "source": [
    "# create the input dataset\n",
    "dataset_flat = []\n",
    "for i in range(num_img):\n",
    "    dataset_flat.extend(dataset[i].clip(min=0.0).reshape(-1, depth).tolist())\n",
    "    \n",
    "dataset_flat = np.asarray(dataset_flat)\n",
    "print(dataset_flat.shape)"
   ]
  },
  {
   "cell_type": "code",
   "execution_count": null,
   "id": "4a8128f0",
   "metadata": {},
   "outputs": [],
   "source": [
    "total_num = len(dataset_flat)\n",
    "ri = np.random.choice(total_num, total_num, replace=False)\n",
    "\n",
    "dataset_input = dataset_flat[ri]"
   ]
  },
  {
   "cell_type": "code",
   "execution_count": null,
   "id": "b106aad1",
   "metadata": {},
   "outputs": [],
   "source": [
    "num_comp = 3"
   ]
  },
  {
   "cell_type": "code",
   "execution_count": null,
   "id": "86eb0651",
   "metadata": {},
   "outputs": [],
   "source": [
    "# https://github.com/MotokiShiga/malspy\n",
    "# NMF with automatic relevance determination and soft orthogonality penalty\n",
    "model_nmf_ardso = malspy.NMF_ARD_SO(n_components=num_comp, wo=0.1, reps=5, max_itr=100)\n",
    "model_nmf_ardso.fit(dataset_input)\n",
    "model_nmf_ardso.plot_spectra(figsize=(6, 3), normalize=False)\n",
    "ardso_coeffs = model_nmf_ardso.C_\n",
    "print(ardso_coeffs.shape)\n",
    "ardso_comp_vectors = model_nmf_ardso.S_\n",
    "ardso_comp_vectors = np.rollaxis(ardso_comp_vectors, 1, 0)\n",
    "print(ardso_comp_vectors.shape)"
   ]
  },
  {
   "cell_type": "code",
   "execution_count": null,
   "id": "6a83d312",
   "metadata": {},
   "outputs": [],
   "source": [
    "# convert the coefficient matrix into coefficient maps\n",
    "coeffs = np.zeros_like(ardso_coeffs)\n",
    "coeffs[ri] = ardso_coeffs.copy()\n",
    "coeffs_reshape = reshape_coeff(coeffs, data_shape_new)"
   ]
  },
  {
   "cell_type": "code",
   "execution_count": null,
   "id": "e1e8ac43",
   "metadata": {},
   "outputs": [],
   "source": [
    "fig, ax = plt.subplots(1, 1, figsize=(8, 5)) # all loading vectors\n",
    "\n",
    "for i in range(len(ardso_comp_vectors)):\n",
    "    ax.plot(e_range, ardso_comp_vectors[i], \"-\", c=color_rep[i+1], label=\"loading vector %d\"%(i+1))\n",
    "ax.grid()\n",
    "ax.legend(fontsize=\"large\")\n",
    "ax.set_xlabel(\"eV\", fontsize=10)\n",
    "ax.tick_params(axis=\"both\", labelsize=15)\n",
    "ax.axes.get_yaxis().set_visible(False)\n",
    "\n",
    "fig.tight_layout()\n",
    "plt.show()"
   ]
  },
  {
   "cell_type": "code",
   "execution_count": null,
   "id": "8a2b7713",
   "metadata": {
    "tags": []
   },
   "outputs": [],
   "source": [
    "# visualize the coefficient maps\n",
    "if num_img != 1:\n",
    "    for i in range(len(ardso_comp_vectors)):\n",
    "        fig, ax = plt.subplots(1, num_img, figsize=(5*num_img, 5))\n",
    "        for j in range(num_img):\n",
    "            tmp = ax[j].imshow(coeffs_reshape[j][:, :, i], cmap=\"viridis\")\n",
    "            ax[j].set_title(\"loading vector %d map\"%(i+1), fontsize=10)\n",
    "            ax[j].axis(\"off\")\n",
    "            fig.colorbar(tmp, cax=fig.add_axes([0.92, 0.15, 0.04, 0.7]))\n",
    "        plt.show()\n",
    "else:            \n",
    "    for i in range(len(ardso_comp_vectors)):\n",
    "        fig, ax = plt.subplots(1, 1, figsize=(5*num_img, 5))\n",
    "        tmp = ax.imshow(coeffs_reshape[0][:, :, i], cmap=\"viridis\")\n",
    "        ax.set_title(\"loading vector %d map\"%(i+1), fontsize=10)\n",
    "        ax.axis(\"off\")\n",
    "        fig.colorbar(tmp, cax=fig.add_axes([0.92, 0.15, 0.04, 0.7]))\n",
    "        plt.show()"
   ]
  },
  {
   "cell_type": "code",
   "execution_count": null,
   "id": "8516f921",
   "metadata": {},
   "outputs": [],
   "source": [
    "import tifffile\n",
    "for i in range(num_comp):\n",
    "    tilt_series = []\n",
    "    for j in range(num_img):\n",
    "        tilt_series.append(coeffs_reshape[j][:, :, i].astype(np.float32))\n",
    "    tilt_series = np.asarray(tilt_series)\n",
    "    tifffile.imsave(\"tilt_series_latent_%02d.tif\"%(i+1), tilt_series)"
   ]
  },
  {
   "cell_type": "code",
   "execution_count": null,
   "id": "c0c04978",
   "metadata": {
    "tags": []
   },
   "outputs": [],
   "source": [
    "# https://github.com/MotokiShiga/malspy\n",
    "# NMF with soft orthogonality penalty\n",
    "model_nmf_so = malspy.NMF_SO(n_components=num_comp, wo=0.10, reps=5, max_itr=100)\n",
    "model_nmf_so.fit(dataset_input)\n",
    "so_coeffs = model_nmf_so.C_\n",
    "print(so_coeffs.shape)\n",
    "so_comp_vectors = model_nmf_so.S_\n",
    "so_comp_vectors = np.rollaxis(so_comp_vectors, 1, 0)\n",
    "print(so_comp_vectors.shape)"
   ]
  },
  {
   "cell_type": "code",
   "execution_count": null,
   "id": "3b90fdce",
   "metadata": {},
   "outputs": [],
   "source": [
    "# convert the coefficient matrix into coefficient maps\n",
    "coeffs = np.zeros_like(so_coeffs)\n",
    "coeffs[ri] = so_coeffs.copy()\n",
    "coeffs_reshape = reshape_coeff(coeffs, data_shape_new)"
   ]
  },
  {
   "cell_type": "code",
   "execution_count": null,
   "id": "2867d80e",
   "metadata": {},
   "outputs": [],
   "source": [
    "fig, ax = plt.subplots(1, 1, figsize=(5, 5)) # all loading vectors\n",
    "for i in range(num_comp):\n",
    "    ax.plot(e_range, so_comp_vectors[i], \"-\", c=color_rep[i+1], label=\"loading vector %d\"%(i+1))\n",
    "ax.grid()\n",
    "ax.legend(fontsize=\"large\")\n",
    "ax.set_xlabel(\"eV\", fontsize=10)\n",
    "ax.tick_params(axis=\"x\", labelsize=10)\n",
    "ax.axes.get_yaxis().set_visible(False)\n",
    "\n",
    "fig.tight_layout()\n",
    "plt.show()"
   ]
  },
  {
   "cell_type": "code",
   "execution_count": null,
   "id": "e830fa8e",
   "metadata": {},
   "outputs": [],
   "source": [
    "# visualize the coefficient maps\n",
    "if num_img != 1:\n",
    "    for i in range(num_comp):\n",
    "        fig, ax = plt.subplots(1, num_img, figsize=(5*num_img, 5))\n",
    "        for j in range(num_img):\n",
    "            tmp = ax[j].imshow(coeffs_reshape[j][:, :, i], cmap=\"viridis\")\n",
    "            ax[j].set_title(\"loading vector %d map\"%(i+1), fontsize=10)\n",
    "            ax[j].axis(\"off\")\n",
    "            fig.colorbar(tmp, cax=fig.add_axes([0.92, 0.15, 0.04, 0.7]))\n",
    "        plt.show()\n",
    "else:            \n",
    "    for i in range(num_comp):\n",
    "        fig, ax = plt.subplots(1, 1, figsize=(5*num_img, 5))\n",
    "        tmp = ax.imshow(coeffs_reshape[0][:, :, i], cmap=\"viridis\")\n",
    "        ax.set_title(\"loading vector %d map\"%(i+1), fontsize=10)\n",
    "        ax.axis(\"off\")\n",
    "        fig.colorbar(tmp, cax=fig.add_axes([0.92, 0.15, 0.04, 0.7]))\n",
    "        plt.show()"
   ]
  },
  {
   "cell_type": "code",
   "execution_count": null,
   "id": "d75e5c7f",
   "metadata": {},
   "outputs": [],
   "source": [
    "import tifffile\n",
    "for i in range(num_comp):\n",
    "    tilt_series = []\n",
    "    for j in range(num_img):\n",
    "        tilt_series.append(coeffs_reshape[j][:, :, i].astype(np.float32))\n",
    "    tilt_series = np.asarray(tilt_series)\n",
    "    tifffile.imsave(\"tilt_series_latent_%02d.tif\"%(i+1), tilt_series)"
   ]
  },
  {
   "cell_type": "code",
   "execution_count": null,
   "id": "faaba0cf",
   "metadata": {},
   "outputs": [],
   "source": [
    "# NMF decomposition (linear dimensionality reduction)\n",
    "# please visit the below link for detailed information on NMF\n",
    "# https://scikit-learn.org/stable/modules/generated/sklearn.decomposition.NMF.html?highlight=nmf#sklearn.decomposition.NMF\n",
    "\n",
    "skl_nmf = NMF(n_components=num_comp, init=\"nndsvda\", solver=\"mu\", max_iter=2000, \n",
    "              verbose=True, beta_loss=\"frobenius\", l1_ratio=0.0, alpha=0.0)\n",
    "\n",
    "skl_coeffs = skl_nmf.fit_transform(dataset_input)\n",
    "skl_comp_vectors = skl_nmf.components_\n",
    "print(skl_coeffs.shape)\n",
    "print(skl_comp_vectors.shape)"
   ]
  },
  {
   "cell_type": "code",
   "execution_count": null,
   "id": "a51aed76",
   "metadata": {},
   "outputs": [],
   "source": [
    "# convert the coefficient matrix into coefficient maps\n",
    "coeffs = np.zeros_like(skl_coeffs)\n",
    "coeffs[ri] = skl_coeffs.copy()\n",
    "coeffs_reshape = reshape_coeff(coeffs, data_shape_new)"
   ]
  },
  {
   "cell_type": "code",
   "execution_count": null,
   "id": "0ef32ac5",
   "metadata": {},
   "outputs": [],
   "source": [
    "# visualize loading vectors\n",
    "\n",
    "fig, ax = plt.subplots(1, 2, figsize=(10, 4)) # all loading vectors\n",
    "for i in range(num_comp):\n",
    "    ax[0].plot(e_range, skl_comp_vectors[i], \"-\", c=color_rep[i+1], label=\"loading vector %d\"%(i+1))\n",
    "ax[0].grid()\n",
    "ax[0].legend(fontsize=\"large\")\n",
    "ax[0].set_xlabel(\"eV\", fontsize=10)\n",
    "ax[0].tick_params(axis=\"x\", labelsize=10)\n",
    "ax[0].axes.get_yaxis().set_visible(False)\n",
    "\n",
    "sel_nmf_comp = [2, 3] # choose several loading vectors to visualize\n",
    "for i in sel_nmf_comp:\n",
    "    ax[1].plot(e_range, skl_comp_vectors[i-1], \"-\", c=color_rep[i], label=\"loading vector %d\"%(i))\n",
    "ax[1].grid()\n",
    "ax[1].legend(fontsize=\"large\")\n",
    "ax[1].set_xlabel(\"eV\", fontsize=10)\n",
    "ax[1].tick_params(axis=\"x\", labelsize=10)\n",
    "ax[1].axes.get_yaxis().set_visible(False)\n",
    "\n",
    "fig.tight_layout()\n",
    "plt.show()"
   ]
  },
  {
   "cell_type": "code",
   "execution_count": null,
   "id": "9fdb0847",
   "metadata": {},
   "outputs": [],
   "source": [
    "# visualize the coefficient maps\n",
    "if num_img != 1:\n",
    "    for i in range(num_comp):\n",
    "        fig, ax = plt.subplots(1, num_img, figsize=(5*num_img, 5))\n",
    "        for j in range(num_img):\n",
    "            tmp = ax[j].imshow(coeffs_reshape[j][:, :, i], cmap=\"viridis\")\n",
    "            ax[j].set_title(\"loading vector %d map\"%(i+1), fontsize=10)\n",
    "            ax[j].axis(\"off\")\n",
    "            fig.colorbar(tmp, cax=fig.add_axes([0.92, 0.15, 0.04, 0.7]))\n",
    "        plt.show()\n",
    "else:            \n",
    "    for i in range(num_comp):\n",
    "        fig, ax = plt.subplots(1, 1, figsize=(5*num_img, 5))\n",
    "        tmp = ax.imshow(coeffs_reshape[0][:, :, i], cmap=\"viridis\")\n",
    "        ax.set_title(\"loading vector %d map\"%(i+1), fontsize=10)\n",
    "        ax.axis(\"off\")\n",
    "        fig.colorbar(tmp, cax=fig.add_axes([0.92, 0.15, 0.04, 0.7]))\n",
    "        plt.show()"
   ]
  },
  {
   "cell_type": "code",
   "execution_count": null,
   "id": "9bc9205a",
   "metadata": {},
   "outputs": [],
   "source": [
    "import tifffile\n",
    "for i in range(num_comp):\n",
    "    tilt_series = []\n",
    "    for j in range(num_img):\n",
    "        tilt_series.append(coeffs_reshape[j][:, :, i].astype(np.float32))\n",
    "    tilt_series = np.asarray(tilt_series)\n",
    "    tifffile.imsave(\"tilt_series_latent_%02d.tif\"%(i+1), tilt_series)"
   ]
  }
 ],
 "metadata": {
  "kernelspec": {
   "display_name": "Python 3 (ipykernel)",
   "language": "python",
   "name": "python3"
  },
  "language_info": {
   "codemirror_mode": {
    "name": "ipython",
    "version": 3
   },
   "file_extension": ".py",
   "mimetype": "text/x-python",
   "name": "python",
   "nbconvert_exporter": "python",
   "pygments_lexer": "ipython3",
   "version": "3.9.6"
  },
  "widgets": {
   "application/vnd.jupyter.widget-state+json": {
    "state": {},
    "version_major": 2,
    "version_minor": 0
   }
  }
 },
 "nbformat": 4,
 "nbformat_minor": 5
}
