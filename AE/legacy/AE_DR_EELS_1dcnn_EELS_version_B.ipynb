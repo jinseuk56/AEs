{
 "cells": [
  {
   "cell_type": "code",
   "execution_count": null,
   "id": "3799509c",
   "metadata": {},
   "outputs": [],
   "source": [
    "import time\n",
    "import numpy as np\n",
    "import matplotlib.pyplot as plt\n",
    "import matplotlib.colors as mcolors\n",
    "import matplotlib.cm as cm\n",
    "import ipywidgets as pyw\n",
    "import hyperspy.api as hys\n",
    "import tkinter.filedialog as tkf\n",
    "from tabulate import tabulate\n",
    "import torch\n",
    "import torch.nn as nn\n",
    "import torch.nn.functional as F\n",
    "import torch.optim as optim\n",
    "from torch import linalg as LA\n",
    "from torch.utils.tensorboard import SummaryWriter\n",
    "from torchvision.utils import make_grid\n",
    "plt.rcParams['font.family'] = 'Times New Roman'"
   ]
  },
  {
   "cell_type": "code",
   "execution_count": null,
   "id": "819d5dda",
   "metadata": {},
   "outputs": [],
   "source": [
    "# create a customized colorbar\n",
    "color_rep = [\"black\", \"red\", \"green\", \"blue\", \"orange\", \"purple\", \"yellow\", \"lime\", \n",
    "             \"cyan\", \"magenta\", \"lightgray\", \"peru\", \"springgreen\", \"deepskyblue\", \n",
    "             \"hotpink\", \"darkgray\"]\n",
    "print(len(color_rep))\n",
    "custom_cmap = mcolors.ListedColormap(color_rep)\n",
    "bounds = np.arange(-1, len(color_rep))\n",
    "norm = mcolors.BoundaryNorm(boundaries=bounds, ncolors=len(color_rep))\n",
    "sm = cm.ScalarMappable(cmap=custom_cmap, norm=norm)\n",
    "sm.set_array([])\n",
    "\n",
    "cm_rep = [\"gray\", \"Reds\", \"Greens\", \"Blues\", \"Oranges\", \"Purples\"]\n",
    "print(len(cm_rep))"
   ]
  },
  {
   "cell_type": "code",
   "execution_count": null,
   "id": "6366c5a3",
   "metadata": {},
   "outputs": [],
   "source": [
    "def data_load(adr, rescale=False, crop=None):\n",
    "    \"\"\"\n",
    "    load a spectrum image\n",
    "    \"\"\"\n",
    "    storage = []\n",
    "    shape = []\n",
    "    for i, adr in enumerate(adr):\n",
    "        temp = hys.load(adr)\n",
    "        if rescale:\n",
    "            temp.data = temp.data / np.max(temp.data)\n",
    "        temp = temp.isig[crop[0]:crop[1]]\n",
    "        temp = temp.data\n",
    "        print(np.max(temp), np.min(temp))\n",
    "        print(temp.shape)\n",
    "\n",
    "        shape.append(temp.shape)\n",
    "        storage.append(temp)\n",
    "    \n",
    "    shape = np.asarray(shape)\n",
    "    return storage, shape"
   ]
  },
  {
   "cell_type": "code",
   "execution_count": null,
   "id": "a87520c2",
   "metadata": {},
   "outputs": [],
   "source": [
    "def reshape_coeff(coeffs, new_shape):\n",
    "    \"\"\"\n",
    "    reshape a coefficient matrix to restore the original scanning shapes.\n",
    "    \"\"\"\n",
    "    coeff_reshape = []\n",
    "    for i in range(len(new_shape)):\n",
    "        temp = coeffs[:int(new_shape[i, 0]*new_shape[i, 1]), :]\n",
    "        coeffs = np.delete(coeffs, range(int(new_shape[i, 0]*new_shape[i, 1])), axis=0)\n",
    "        temp = np.reshape(temp, (new_shape[i, 0], new_shape[i, 1], -1))\n",
    "        #print(temp.shape)\n",
    "        coeff_reshape.append(temp)\n",
    "        \n",
    "    return coeff_reshape"
   ]
  },
  {
   "cell_type": "code",
   "execution_count": null,
   "id": "bd32dc34",
   "metadata": {},
   "outputs": [],
   "source": [
    "file_adr = []"
   ]
  },
  {
   "cell_type": "code",
   "execution_count": null,
   "id": "f4e621bf",
   "metadata": {},
   "outputs": [],
   "source": [
    "file_adr.extend(tkf.askopenfilenames())\n",
    "print(len(file_adr))\n",
    "print(*file_adr, sep=\"\\n\")"
   ]
  },
  {
   "cell_type": "code",
   "execution_count": null,
   "id": "76954a36",
   "metadata": {},
   "outputs": [],
   "source": [
    "num_img = len(file_adr)\n",
    "print(num_img)"
   ]
  },
  {
   "cell_type": "code",
   "execution_count": null,
   "id": "084263d8",
   "metadata": {},
   "outputs": [],
   "source": [
    "# load spectrum images\n",
    "cr_range = [1.0, 3.0, 0.01] # actual input\n",
    "data_storage, data_shape = data_load(file_adr, rescale=True, crop=cr_range)\n",
    "print(len(data_storage))\n",
    "print(data_shape)\n",
    "\n",
    "e_range = np.arange(cr_range[0], cr_range[1], cr_range[2])\n",
    "depth = len(e_range)\n",
    "print(len(e_range))"
   ]
  },
  {
   "cell_type": "code",
   "execution_count": null,
   "id": "1472c608",
   "metadata": {},
   "outputs": [],
   "source": [
    "# create the input dataset\n",
    "dataset_flat = []\n",
    "for i in range(num_img):\n",
    "    dataset_flat.extend(data_storage[i].clip(min=0.0).reshape(-1, depth).tolist())\n",
    "    \n",
    "dataset_flat = np.asarray(dataset_flat)\n",
    "print(dataset_flat.shape)"
   ]
  },
  {
   "cell_type": "code",
   "execution_count": null,
   "id": "2b4a1a49",
   "metadata": {},
   "outputs": [],
   "source": [
    "# optional\n",
    "tmp = np.max(dataset_flat, axis=1)\n",
    "tmp[np.where(tmp==0)] = 1.0\n",
    "dataset_flat = dataset_flat / tmp.reshape(-1, 1)\n",
    "print(dataset_flat.shape)"
   ]
  },
  {
   "cell_type": "code",
   "execution_count": null,
   "id": "e94880d2",
   "metadata": {},
   "outputs": [],
   "source": [
    "total_num = len(dataset_flat)\n",
    "ri = np.random.choice(total_num, total_num, replace=False)\n",
    "\n",
    "dataset_input = dataset_flat[ri]"
   ]
  },
  {
   "cell_type": "code",
   "execution_count": null,
   "id": "2a98c67b",
   "metadata": {},
   "outputs": [],
   "source": [
    "class conv_ae(nn.Module):\n",
    "    def __init__(self, input_size, encoded_dimension, channels, kernels):\n",
    "        super(conv_ae, self).__init__()\n",
    "\n",
    "        self.input_size = input_size\n",
    "        self.encoded_dimension = encoded_dimension\n",
    "        \n",
    "        self.cnn_encoder = nn.Sequential(\n",
    "            nn.Conv1d(1, channels[0], kernels[0], bias=True),\n",
    "            nn.BatchNorm1d(channels[0]),\n",
    "            nn.ReLU(),\n",
    "            nn.AvgPool1d(2),\n",
    "            nn.Conv1d(channels[0], channels[1], kernels[1], bias=True),\n",
    "            nn.BatchNorm1d(channels[1]),\n",
    "            nn.ReLU(),\n",
    "            nn.AvgPool1d(2),\n",
    "            nn.Conv1d(channels[1], channels[2], kernels[2], bias=True),\n",
    "            nn.BatchNorm1d(channels[2]),\n",
    "            nn.ReLU(),\n",
    "            nn.AvgPool1d(2),\n",
    "            nn.Conv1d(channels[2], channels[3], kernels[3], bias=True),\n",
    "            nn.BatchNorm1d(channels[3]),\n",
    "            nn.ReLU(),\n",
    "            nn.AvgPool1d(2),\n",
    "            nn.Flatten(),\n",
    "        )\n",
    "        \n",
    "        self.decoder = nn.Sequential(\n",
    "            nn.Linear(self.encoded_dimension[1], self.input_size, bias=False),\n",
    "            nn.Sigmoid(),\n",
    "        )\n",
    "    def forward(self, x):\n",
    "        x = x.view(-1, 1, self.input_size)\n",
    "        encoded = self.cnn_encoder(x)\n",
    "        decoded = self.decoder(encoded)\n",
    "        return encoded, decoded"
   ]
  },
  {
   "cell_type": "code",
   "execution_count": null,
   "id": "8b39f2f7",
   "metadata": {},
   "outputs": [],
   "source": [
    "if torch.cuda.is_available():\n",
    "    print(\"%d gpu available\"%(torch.cuda.device_count()))\n",
    "    cuda_device = torch.device(\"cuda:0\")\n",
    "    print(torch.cuda.get_device_name(cuda_device))\n",
    "    torch.cuda.set_device(cuda_device)\n",
    "else:\n",
    "    cuda_device = None"
   ]
  },
  {
   "cell_type": "code",
   "execution_count": null,
   "id": "604082e8",
   "metadata": {},
   "outputs": [],
   "source": [
    "num_comp = 5\n",
    "channels = [100, 50, 25, num_comp]\n",
    "kernels = [5, 15, 25, 0]\n",
    "pooling = [2, 2, 2, 2]\n",
    "\n",
    "dat_dim = []\n",
    "tmp_dim = depth\n",
    "for i in range(len(kernels)):\n",
    "    tmp_dim += (-kernels[i]+1)\n",
    "    tmp_dim /= pooling[i]\n",
    "    dat_dim.append(int(tmp_dim))\n",
    "    \n",
    "kernels[-1] = dat_dim[-2] - pooling[-1] + 1\n",
    "dat_dim[-1] = 1\n",
    "\n",
    "print(dat_dim)\n",
    "print(kernels)\n",
    "print(channels)\n",
    "print(pooling)"
   ]
  },
  {
   "cell_type": "code",
   "execution_count": null,
   "id": "6dcfbdc3",
   "metadata": {},
   "outputs": [],
   "source": [
    "model = conv_ae(depth, [dat_dim[-1]*channels[-1], num_comp], channels, kernels)\n",
    "model.cuda(cuda_device)\n",
    "print(model)"
   ]
  },
  {
   "cell_type": "code",
   "execution_count": null,
   "id": "2565aff9",
   "metadata": {},
   "outputs": [],
   "source": [
    "batch_size = 1000\n",
    "mini_batches = [dataset_input[k:k+batch_size] for k in range(0, len(dataset_input), batch_size)]"
   ]
  },
  {
   "cell_type": "code",
   "execution_count": null,
   "id": "97ff7fb0",
   "metadata": {},
   "outputs": [],
   "source": [
    "n_epoch = 10\n",
    "lmbd_tv = 0.0000\n",
    "lmbd_reg = 0.0\n",
    "alpha = 1.0"
   ]
  },
  {
   "cell_type": "code",
   "execution_count": null,
   "id": "fc7e08d3",
   "metadata": {},
   "outputs": [],
   "source": [
    "l_rate = 0.01\n",
    "#optimizer = optim.SGD(model.parameters(), lr=l_rate)\n",
    "optimizer = optim.Adam(model.parameters(), lr=l_rate)\n",
    "torch.nn.init.orthogonal_(model.decoder[0].weight)\n",
    "#torch.nn.init.xavier_normal_(model.decoder[0].weight)\n",
    "print(optimizer)"
   ]
  },
  {
   "cell_type": "code",
   "execution_count": null,
   "id": "8aece59a",
   "metadata": {
    "tags": []
   },
   "outputs": [],
   "source": [
    "start = time.time()\n",
    "ae_coeffs = []\n",
    "ae_bias = []\n",
    "for epoch in range(n_epoch):\n",
    "    for i, m_batch in enumerate(mini_batches):\n",
    "        \n",
    "        x = torch.from_numpy(mini_batches[i])\n",
    "        x = x.to(torch.float32)\n",
    "        x = x.to(cuda_device)\n",
    "        x.requires_grad_(requires_grad=False)\n",
    "        \n",
    "        encoded, decoded = model(x)\n",
    "        \n",
    "        l1_reg = 0\n",
    "        l2_reg = 0\n",
    "        tv_reg = 0\n",
    "\n",
    "        for i in range(num_comp):\n",
    "            tv_reg += lmbd_tv*LA.norm(torch.gradient(model.decoder[0].weight[:, i])[0], 1)\n",
    "            l1_reg += lmbd_reg*alpha*(LA.norm(model.decoder[0].weight[:, i], 1))\n",
    "            l2_reg += lmbd_reg*(1-alpha)*(LA.norm(model.decoder[0].weight[:, i], 2))\n",
    "        \n",
    "        main_loss = F.binary_cross_entropy(decoded, x, reduction=\"mean\")\n",
    "        #main_loss = F.mse_loss(decoded, x, reduction=\"mean\")\n",
    "        total_loss = main_loss + l1_reg + l2_reg + tv_reg\n",
    "        \n",
    "        optimizer.zero_grad()\n",
    "        total_loss.backward()\n",
    "        optimizer.step()\n",
    "        \n",
    "        model.decoder[0].weight.data.clamp_(min=0.0)\n",
    "        \n",
    "        if epoch == n_epoch-1:\n",
    "            coeff_batch = encoded.data.cpu().numpy().tolist()\n",
    "            ae_coeffs.extend(coeff_batch)            \n",
    "    \n",
    "    \n",
    "    if epoch == 0:\n",
    "        print(torch.cuda.memory_summary(device=cuda_device))\n",
    "    \n",
    "    if (epoch+1) % int(n_epoch/10) == 0:\n",
    "        print(tabulate([\n",
    "                        [\"epoch\", epoch+1], \n",
    "                        [\"total loss\", total_loss.item()],\n",
    "                        [\"-main loss\", main_loss.item(), main_loss.item()*100/total_loss.item()],\n",
    "                        [\"-L1 reg.\", l1_reg.item(), l1_reg.item()*100/total_loss.item()],\n",
    "                        [\"-L2 reg.\", l2_reg.item(), l2_reg.item()*100/total_loss.item()],\n",
    "                        [\"-TV reg.\", tv_reg.item(), tv_reg.item()*100/total_loss.item()],\n",
    "                        ]))\n",
    "        print(\"%.2f minutes have passed\"%((time.time()-start)/60))\n",
    "        \n",
    "        fig, ax = plt.subplots(1, num_comp, figsize=(5*num_comp, 5))\n",
    "        for i in range(num_comp):\n",
    "            ax[i].plot(e_range, model.decoder[0].weight.data.cpu()[:, i])\n",
    "            ax[i].grid()\n",
    "        fig.tight_layout()\n",
    "        plt.show()\n",
    "\n",
    "print(\"The training has been finished.\")"
   ]
  },
  {
   "cell_type": "code",
   "execution_count": null,
   "id": "19aa8da9",
   "metadata": {},
   "outputs": [],
   "source": [
    "ae_coeffs = np.asarray(ae_coeffs)\n",
    "ae_comp_vectors = model.decoder[0].weight.data.cpu().numpy().T\n",
    "print(ae_coeffs.shape)\n",
    "print(ae_comp_vectors.shape)\n",
    "\n",
    "# convert the coefficient matrix into coefficient maps\n",
    "coeffs = np.zeros_like(ae_coeffs)\n",
    "coeffs[ri] = ae_coeffs.copy()\n",
    "coeffs_reshape = reshape_coeff(coeffs, data_shape)"
   ]
  },
  {
   "cell_type": "code",
   "execution_count": null,
   "id": "5e1a5c91",
   "metadata": {},
   "outputs": [],
   "source": [
    "# visualize loading vectors\n",
    "\n",
    "fig, ax = plt.subplots(1, 1, figsize=(8, 5)) # all loading vectors\n",
    "for i in range(num_comp):\n",
    "    ax.plot(e_range, ae_comp_vectors[i], \"-\", c=color_rep[i+1], label=\"loading vector %d\"%(i+1))\n",
    "ax.grid()\n",
    "#ax.legend(fontsize=\"large\")\n",
    "ax.set_xlabel(\"eV\", fontsize=15)\n",
    "ax.tick_params(axis=\"both\", labelsize=15)\n",
    "#ax.axes.get_yaxis().set_visible(False)\n",
    "\n",
    "fig.tight_layout()\n",
    "plt.show()"
   ]
  },
  {
   "cell_type": "code",
   "execution_count": null,
   "id": "dd4d66da",
   "metadata": {},
   "outputs": [],
   "source": [
    "%matplotlib inline"
   ]
  },
  {
   "cell_type": "code",
   "execution_count": null,
   "id": "e1da6937",
   "metadata": {},
   "outputs": [],
   "source": [
    "%matplotlib qt"
   ]
  },
  {
   "cell_type": "code",
   "execution_count": null,
   "id": "20ce3ae2-d676-4e84-b8e1-7f43fb44c3bc",
   "metadata": {},
   "outputs": [],
   "source": [
    "for i in range(num_comp):\n",
    "    for j in range(num_img):\n",
    "        print(\"LV %d map, %d th image\"%(i+1, j+1))\n",
    "        fig, ax = plt.subplots(1, 1, figsize=(6, 5))\n",
    "        tmp_img = coeffs_reshape[j][:, :, i].copy()\n",
    "        tmp = ax.imshow(tmp_img, vmin=np.min(coeffs_reshape), vmax=np.max(coeffs_reshape), cmap=\"viridis\")\n",
    "        ax.axis(\"off\")\n",
    "        fig.colorbar(tmp, cax=fig.add_axes([0.88, 0.15, 0.04, 0.7]))\n",
    "        fig.tight_layout()\n",
    "        plt.show()"
   ]
  },
  {
   "cell_type": "code",
   "execution_count": null,
   "id": "3eb9cb37",
   "metadata": {
    "tags": []
   },
   "outputs": [],
   "source": [
    "# visualize coefficient maps\n",
    "\n",
    "if num_img != 1:\n",
    "    for i in range(num_comp):\n",
    "        fig, ax = plt.subplots(1, num_img, figsize=(5*num_img, 5))\n",
    "        for j in range(num_img):\n",
    "            tmp = ax[j].imshow(coeffs_reshape[j][:, :, i], \n",
    "                               vmin=np.percentile(coeffs_reshape[j][:, :, i], 50), cmap=\"viridis\")\n",
    "            ax[j].set_title(\"loading vector %d map\"%(i+1), fontsize=10)\n",
    "            ax[j].axis(\"off\")\n",
    "            \n",
    "else:\n",
    "    for i in range(num_comp):\n",
    "        fig, ax = plt.subplots(1, 1, figsize=(5*num_img, 5))\n",
    "        tmp = ax.imshow(coeffs_reshape[0][:, :, i], \n",
    "                        vmin=np.percentile(coeffs_reshape[0][:, :, i], 50), cmap=\"viridis\")\n",
    "        ax.set_title(\"loading vector %d map\"%(i+1), fontsize=10)\n",
    "        ax.axis(\"off\")\n",
    "        fig.tight_layout()\n",
    "        #fig.colorbar(tmp, cax=fig.add_axes([0.88, 0.15, 0.04, 0.7]))\n",
    "        plt.show()\n",
    "        \n",
    "plt.show()"
   ]
  },
  {
   "cell_type": "code",
   "execution_count": null,
   "id": "01f7bc9a",
   "metadata": {},
   "outputs": [],
   "source": [
    "import tifffile\n",
    "for i in range(num_comp):\n",
    "    tilt_series = []\n",
    "    for j in range(num_img):\n",
    "        tilt_series.append(coeffs_reshape[j][:, :, i].astype(np.float32))\n",
    "    tilt_series = np.asarray(tilt_series)\n",
    "    tifffile.imsave(\"tilt_series_L_form_latent_%02d.tif\"%(i+1), tilt_series)"
   ]
  },
  {
   "cell_type": "code",
   "execution_count": null,
   "id": "52573267",
   "metadata": {},
   "outputs": [],
   "source": [
    "# 2D subspace\n",
    "%matplotlib qt\n",
    "fig, ax = plt.subplots(1, 1, figsize=(7, 7))\n",
    "\n",
    "def projection(c1, c2):\n",
    "    ax.cla()\n",
    "    ax.scatter(coeffs[:, c1], coeffs[:, c2], s=30, c=\"black\", alpha=0.5)\n",
    "    ax.grid()\n",
    "    ax.set_xlabel(\"loading vector %d\"%(c1+1), fontsize=15)\n",
    "    ax.set_ylabel(\"loading vector %d\"%(c2+1), fontsize=15)\n",
    "    ax.tick_params(axis=\"both\", labelsize=15)\n",
    "    fig.canvas.draw()\n",
    "    fig.tight_layout()\n",
    "\n",
    "x_widget = pyw.IntSlider(min=0, max=num_comp-1, step=1, value=0)\n",
    "y_widget = pyw.IntSlider(min=0, max=num_comp-1, step=1, value=1)\n",
    "\n",
    "pyw.interact(projection, c1=x_widget, c2=y_widget)\n",
    "plt.show()"
   ]
  }
 ],
 "metadata": {
  "kernelspec": {
   "display_name": "Python 3 (ipykernel)",
   "language": "python",
   "name": "python3"
  },
  "language_info": {
   "codemirror_mode": {
    "name": "ipython",
    "version": 3
   },
   "file_extension": ".py",
   "mimetype": "text/x-python",
   "name": "python",
   "nbconvert_exporter": "python",
   "pygments_lexer": "ipython3",
   "version": "3.9.6"
  },
  "widgets": {
   "application/vnd.jupyter.widget-state+json": {
    "state": {
     "c25ec7e699664ac391f6fbc61d99beab": {
      "model_module": "@jupyter-widgets/base",
      "model_module_version": "1.2.0",
      "model_name": "LayoutModel",
      "state": {
       "display": "flex",
       "flex_flow": "row",
       "justify_content": "space-between"
      }
     }
    },
    "version_major": 2,
    "version_minor": 0
   }
  }
 },
 "nbformat": 4,
 "nbformat_minor": 5
}
