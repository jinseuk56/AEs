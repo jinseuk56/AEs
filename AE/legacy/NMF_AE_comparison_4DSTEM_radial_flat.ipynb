{
 "cells": [
  {
   "cell_type": "code",
   "execution_count": null,
   "id": "78a8816a",
   "metadata": {},
   "outputs": [],
   "source": [
    "import time\n",
    "import numpy as np\n",
    "import matplotlib.pyplot as plt\n",
    "import matplotlib.colors as mcolors\n",
    "import matplotlib.cm as cm\n",
    "import ipywidgets as pyw\n",
    "import hyperspy.api as hys\n",
    "import tkinter.filedialog as tkf\n",
    "from tabulate import tabulate\n",
    "from sklearn.decomposition import NMF\n",
    "import malspy"
   ]
  },
  {
   "cell_type": "code",
   "execution_count": null,
   "id": "83962ad6",
   "metadata": {},
   "outputs": [],
   "source": [
    "# create a customized colorbar\n",
    "color_rep = [\"black\", \"red\", \"green\", \"blue\", \"orange\", \"purple\", \"yellow\", \"lime\", \n",
    "             \"cyan\", \"magenta\", \"lightgray\", \"peru\", \"springgreen\", \"deepskyblue\", \n",
    "             \"hotpink\", \"darkgray\"]\n",
    "print(len(color_rep))\n",
    "custom_cmap = mcolors.ListedColormap(color_rep)\n",
    "bounds = np.arange(-1, len(color_rep))\n",
    "norm = mcolors.BoundaryNorm(boundaries=bounds, ncolors=len(color_rep))\n",
    "sm = cm.ScalarMappable(cmap=custom_cmap, norm=norm)\n",
    "sm.set_array([])\n",
    "\n",
    "cm_rep = [\"gray\", \"Reds\", \"Greens\", \"Blues\", \"Oranges\", \"Purples\"]\n",
    "print(len(cm_rep))"
   ]
  },
  {
   "cell_type": "code",
   "execution_count": null,
   "id": "a1c9ee5c",
   "metadata": {},
   "outputs": [],
   "source": [
    "def zero_one_rescale(spectrum):\n",
    "    \"\"\"\n",
    "    normalize one spectrum from 0.0 to 1.0\n",
    "    \"\"\"\n",
    "    spectrum = spectrum.clip(min=0.0)\n",
    "    min_val = np.min(spectrum)\n",
    "    \n",
    "    rescaled = spectrum - min_val\n",
    "    \n",
    "    if np.max(rescaled) != 0:\n",
    "        rescaled = rescaled / np.max(rescaled)\n",
    "    \n",
    "    return rescaled"
   ]
  },
  {
   "cell_type": "code",
   "execution_count": null,
   "id": "e62d299b",
   "metadata": {},
   "outputs": [],
   "source": [
    "def indices_at_r(shape, radius, center=None):\n",
    "    y, x = np.indices(shape)\n",
    "    if not center:\n",
    "        center = np.array([(y.max()-y.min())/2.0, (x.max()-x.min())/2.0])\n",
    "    r = np.hypot(y - center[0], x - center[1])\n",
    "    r = np.around(r)\n",
    "    \n",
    "    ri = np.where(r == radius)\n",
    "    \n",
    "    angle_arr = np.zeros(shape)\n",
    "    for i in range(shape[0]):\n",
    "        for j in range(shape[1]):\n",
    "            angle_arr[i, j] = np.angle(complex(x[i, j]-center[1], y[i, j]-center[0]), deg=True)\n",
    "            \n",
    "    angle_arr = angle_arr + 180\n",
    "    angle_arr = np.around(angle_arr)\n",
    "    \n",
    "    ai = np.argsort(angle_arr[ri])\n",
    "    r_sort = (ri[1][ai], ri[0][ai])\n",
    "    a_sort = np.sort(angle_arr[ri])\n",
    "        \n",
    "    return r_sort, a_sort"
   ]
  },
  {
   "cell_type": "code",
   "execution_count": null,
   "id": "134cbf83",
   "metadata": {},
   "outputs": [],
   "source": [
    "def circle_flatten(f_stack, radial_range, c_pos):\n",
    "    k_indx = []\n",
    "    k_indy = []\n",
    "    \n",
    "    for r in range(radial_range[0], radial_range[1], radial_range[2]):\n",
    "        tmp_k, tmp_a = indices_at_r(f_stack.shape[2:], r, c_pos)\n",
    "        k_indx.extend(tmp_k[0].tolist())\n",
    "        k_indy.extend(tmp_k[1].tolist())\n",
    "    \n",
    "    k_indx = np.asarray(k_indx)\n",
    "    k_indy = np.asarray(k_indy)\n",
    "    flat_data = f_stack[:, :, k_indy, k_indx]\n",
    "    print(flat_data.shape)\n",
    "    \n",
    "    return flat_data"
   ]
  },
  {
   "cell_type": "code",
   "execution_count": null,
   "id": "9c895c9e",
   "metadata": {},
   "outputs": [],
   "source": [
    "def reshape_coeff(coeffs, new_shape):\n",
    "    \"\"\"\n",
    "    reshape a coefficient matrix to restore the original scanning shapes.\n",
    "    \"\"\"\n",
    "    coeff_reshape = []\n",
    "    for i in range(len(new_shape)):\n",
    "        temp = coeffs[:int(new_shape[i, 0]*new_shape[i, 1]), :]\n",
    "        coeffs = np.delete(coeffs, range(int(new_shape[i, 0]*new_shape[i, 1])), axis=0)\n",
    "        temp = np.reshape(temp, (new_shape[i, 0], new_shape[i, 1], -1))\n",
    "        #print(temp.shape)\n",
    "        coeff_reshape.append(temp)\n",
    "        \n",
    "    return coeff_reshape"
   ]
  },
  {
   "cell_type": "code",
   "execution_count": null,
   "id": "8f56c7a3",
   "metadata": {},
   "outputs": [],
   "source": [
    "def fourd_roll_axis(stack):\n",
    "    stack = np.rollaxis(np.rollaxis(stack, 2, 0), 3, 1)\n",
    "    return stack"
   ]
  },
  {
   "cell_type": "code",
   "execution_count": null,
   "id": "e0b41fba",
   "metadata": {},
   "outputs": [],
   "source": [
    "file_adr = []"
   ]
  },
  {
   "cell_type": "code",
   "execution_count": null,
   "id": "418c2756",
   "metadata": {},
   "outputs": [],
   "source": [
    "file_adr.extend(tkf.askopenfilenames())\n",
    "print(len(file_adr))\n",
    "print(*file_adr, sep=\"\\n\")"
   ]
  },
  {
   "cell_type": "code",
   "execution_count": null,
   "id": "f351b9f2",
   "metadata": {},
   "outputs": [],
   "source": [
    "num_img = len(file_adr)\n",
    "print(num_img)"
   ]
  },
  {
   "cell_type": "code",
   "execution_count": null,
   "id": "f60bd4b0",
   "metadata": {},
   "outputs": [],
   "source": [
    "data_original = []\n",
    "data_shape = []\n",
    "for i in range(num_img):\n",
    "    tmp = hys.load(file_adr[i]).data\n",
    "    tmp = fourd_roll_axis(tmp)\n",
    "    print(tmp.shape)\n",
    "    data_shape.append(list(tmp.shape[:2]))\n",
    "    data_original.append(tmp)\n",
    "    \n",
    "data_shape = np.asarray(data_shape)"
   ]
  },
  {
   "cell_type": "code",
   "execution_count": null,
   "id": "c69771aa",
   "metadata": {},
   "outputs": [],
   "source": [
    "center_pos = []\n",
    "cbox_edge = 100\n",
    "for i in range(num_img):\n",
    "    mean_dp = np.mean(data_original[i], axis=(0, 1))\n",
    "    cbox_outy = int(mean_dp.shape[0]/2 - cbox_edge/2)\n",
    "    cbox_outx = int(mean_dp.shape[1]/2 - cbox_edge/2)\n",
    "    center_box = mean_dp[cbox_outy:-cbox_outy, cbox_outx:-cbox_outx]\n",
    "    Y, X = np.indices(center_box.shape)\n",
    "    com_y = np.sum(center_box * Y) / np.sum(center_box)\n",
    "    com_x = np.sum(center_box * X) / np.sum(center_box)\n",
    "    c_pos = [np.around(com_y+cbox_outy), np.around(com_x+cbox_outx)]\n",
    "    center_pos.append(c_pos)\n",
    "print(center_pos)"
   ]
  },
  {
   "cell_type": "code",
   "execution_count": null,
   "id": "6f6063be",
   "metadata": {},
   "outputs": [],
   "source": [
    "radial_range = [0, 30, 1]\n",
    "k_indx = []\n",
    "k_indy = []\n",
    "a_ind = []\n",
    "\n",
    "for r in range(radial_range[0], radial_range[1], radial_range[2]):\n",
    "    tmp_k, tmp_a = indices_at_r((radial_range[1]*2, radial_range[1]*2), r, (radial_range[1], radial_range[1]))\n",
    "    k_indx.extend(tmp_k[0].tolist())\n",
    "    k_indy.extend(tmp_k[1].tolist())\n",
    "    a_ind.extend(tmp_a.tolist())\n",
    "    \n",
    "print(len(k_indx))\n",
    "print(len(k_indy))\n",
    "print(len(a_ind))\n",
    "\n",
    "s_length = len(k_indx)"
   ]
  },
  {
   "cell_type": "code",
   "execution_count": null,
   "id": "c03399ee",
   "metadata": {},
   "outputs": [],
   "source": [
    "dataset = []\n",
    "for i in range(num_img):\n",
    "    tmp = circle_flatten(data_original[i], radial_range, center_pos[i])\n",
    "    dataset.extend(tmp.tolist())\n",
    "\n",
    "dataset = np.asarray(dataset)\n",
    "print(dataset.shape)"
   ]
  },
  {
   "cell_type": "code",
   "execution_count": null,
   "id": "05c9b9a1",
   "metadata": {},
   "outputs": [],
   "source": [
    "# create the input dataset\n",
    "dataset_flat = dataset.reshape(-1, s_length)\n",
    "print(dataset_flat.shape)"
   ]
  },
  {
   "cell_type": "code",
   "execution_count": null,
   "id": "298cd8a9",
   "metadata": {},
   "outputs": [],
   "source": [
    "total_num = len(dataset_flat)\n",
    "ri = np.random.choice(total_num, total_num, replace=False)\n",
    "\n",
    "dataset_input = dataset_flat[ri]"
   ]
  },
  {
   "cell_type": "code",
   "execution_count": null,
   "id": "30aeeaf2",
   "metadata": {},
   "outputs": [],
   "source": [
    "num_comp = 5"
   ]
  },
  {
   "cell_type": "code",
   "execution_count": null,
   "id": "1ab4729a",
   "metadata": {},
   "outputs": [],
   "source": [
    "%matplotlib inline"
   ]
  },
  {
   "cell_type": "code",
   "execution_count": null,
   "id": "c2ee9f23",
   "metadata": {},
   "outputs": [],
   "source": [
    "%matplotlib qt"
   ]
  },
  {
   "cell_type": "code",
   "execution_count": null,
   "id": "3cd5683c",
   "metadata": {},
   "outputs": [],
   "source": [
    "# https://github.com/MotokiShiga/malspy\n",
    "# NMF with automatic relevance determination and soft orthogonality penalty\n",
    "model_nmf_ardso = malspy.NMF_ARD_SO(n_components=num_comp, wo=0.1, reps=5, max_itr=100)\n",
    "model_nmf_ardso.fit(dataset_input)\n",
    "model_nmf_ardso.plot_spectra(figsize=(6, 3), normalize=False)\n",
    "ardso_coeffs = model_nmf_ardso.C_\n",
    "print(ardso_coeffs.shape)\n",
    "ardso_comp_vectors = model_nmf_ardso.S_\n",
    "ardso_comp_vectors = np.rollaxis(ardso_comp_vectors, 1, 0)\n",
    "print(ardso_comp_vectors.shape)"
   ]
  },
  {
   "cell_type": "code",
   "execution_count": null,
   "id": "38b1fac3",
   "metadata": {},
   "outputs": [],
   "source": [
    "# convert the coefficient matrix into coefficient maps\n",
    "coeffs = np.zeros_like(ardso_coeffs)\n",
    "coeffs[ri] = ardso_coeffs.copy()\n",
    "coeffs_reshape = reshape_coeff(coeffs, data_shape)"
   ]
  },
  {
   "cell_type": "code",
   "execution_count": null,
   "id": "66bc7f02",
   "metadata": {},
   "outputs": [],
   "source": [
    "for i in range(num_comp):\n",
    "    tmp = np.zeros((radial_range[1]*2, radial_range[1]*2))\n",
    "    tmp[k_indy, k_indx] = ardso_comp_vectors[i]\n",
    "    \n",
    "    fig, ax = plt.subplots(1, 1, figsize=(5, 5))\n",
    "    ax.imshow(tmp, cmap=\"viridis\")\n",
    "    ax.axis(\"off\")\n",
    "    fig.tight_layout()\n",
    "    plt.show()"
   ]
  },
  {
   "cell_type": "code",
   "execution_count": null,
   "id": "4faa3236",
   "metadata": {
    "tags": []
   },
   "outputs": [],
   "source": [
    "# visualize the coefficient maps\n",
    "if num_img != 1:\n",
    "    for i in range(num_comp):\n",
    "        fig, ax = plt.subplots(1, num_img, figsize=(5*num_img, 5))\n",
    "        for j in range(num_img):\n",
    "            tmp = ax[j].imshow(coeffs_reshape[j][:, :, i], cmap=\"viridis\")\n",
    "            ax[j].set_title(\"loading vector %d map\"%(i+1), fontsize=10)\n",
    "            ax[j].axis(\"off\")\n",
    "            #fig.colorbar(tmp, cax=fig.add_axes([0.92, 0.15, 0.04, 0.7]))\n",
    "        plt.show()\n",
    "else:            \n",
    "    for i in range(num_comp):\n",
    "        fig, ax = plt.subplots(1, 1, figsize=(5*num_img, 5))\n",
    "        tmp = ax.imshow(coeffs_reshape[0][:, :, i],cmap=\"viridis\")\n",
    "        ax.set_title(\"loading vector %d map\"%(i+1), fontsize=10)\n",
    "        ax.axis(\"off\")\n",
    "        #fig.colorbar(tmp, cax=fig.add_axes([0.92, 0.15, 0.04, 0.7]))\n",
    "        plt.show()"
   ]
  },
  {
   "cell_type": "code",
   "execution_count": null,
   "id": "17eed921",
   "metadata": {
    "tags": []
   },
   "outputs": [],
   "source": [
    "# https://github.com/MotokiShiga/malspy\n",
    "# NMF with soft orthogonality penalty\n",
    "model_nmf_so = malspy.NMF_SO(n_components=num_comp, wo=0.10, reps=5, max_itr=100)\n",
    "model_nmf_so.fit(dataset_input)\n",
    "so_coeffs = model_nmf_so.C_\n",
    "print(so_coeffs.shape)\n",
    "so_comp_vectors = model_nmf_so.S_\n",
    "so_comp_vectors = np.rollaxis(so_comp_vectors, 1, 0)\n",
    "print(so_comp_vectors.shape)"
   ]
  },
  {
   "cell_type": "code",
   "execution_count": null,
   "id": "9221c758",
   "metadata": {},
   "outputs": [],
   "source": [
    "# convert the coefficient matrix into coefficient maps\n",
    "coeffs = np.zeros_like(so_coeffs)\n",
    "coeffs[ri] = so_coeffs.copy()\n",
    "coeffs_reshape = reshape_coeff(coeffs, data_shape)"
   ]
  },
  {
   "cell_type": "code",
   "execution_count": null,
   "id": "6647cccb",
   "metadata": {},
   "outputs": [],
   "source": [
    "for i in range(num_comp):\n",
    "    tmp = np.zeros((radial_range[1]*2, radial_range[1]*2))\n",
    "    tmp[k_indy, k_indx] = so_comp_vectors[i]\n",
    "    \n",
    "    fig, ax = plt.subplots(1, 1, figsize=(5, 5))\n",
    "    ax.imshow(tmp, cmap=\"viridis\")\n",
    "    ax.axis(\"off\")\n",
    "    fig.tight_layout()\n",
    "    plt.show()"
   ]
  },
  {
   "cell_type": "code",
   "execution_count": null,
   "id": "3c856235",
   "metadata": {},
   "outputs": [],
   "source": [
    "# visualize the coefficient maps\n",
    "if num_img != 1:\n",
    "    for i in range(num_comp):\n",
    "        fig, ax = plt.subplots(1, num_img, figsize=(5*num_img, 5))\n",
    "        for j in range(num_img):\n",
    "            tmp = ax[j].imshow(coeffs_reshape[j][:, :, i], cmap=\"viridis\")\n",
    "            ax[j].set_title(\"loading vector %d map\"%(i+1), fontsize=10)\n",
    "            ax[j].axis(\"off\")\n",
    "            #fig.colorbar(tmp, cax=fig.add_axes([0.92, 0.15, 0.04, 0.7]))\n",
    "        plt.show()\n",
    "else:            \n",
    "    for i in range(num_comp):\n",
    "        fig, ax = plt.subplots(1, 1, figsize=(5*num_img, 5))\n",
    "        tmp = ax.imshow(coeffs_reshape[0][:, :, i],cmap=\"viridis\")\n",
    "        ax.set_title(\"loading vector %d map\"%(i+1), fontsize=10)\n",
    "        ax.axis(\"off\")\n",
    "        #fig.colorbar(tmp, cax=fig.add_axes([0.92, 0.15, 0.04, 0.7]))\n",
    "        plt.show()"
   ]
  },
  {
   "cell_type": "code",
   "execution_count": null,
   "id": "083a460d",
   "metadata": {},
   "outputs": [],
   "source": [
    "# NMF decomposition (linear dimensionality reduction)\n",
    "# please visit the below link for detailed information on NMF\n",
    "# https://scikit-learn.org/stable/modules/generated/sklearn.decomposition.NMF.html?highlight=nmf#sklearn.decomposition.NMF\n",
    "\n",
    "skl_nmf = NMF(n_components=num_comp, init=\"nndsvda\", solver=\"mu\", max_iter=2000, \n",
    "              verbose=True, beta_loss=\"frobenius\", l1_ratio=0.0, alpha=0.0)\n",
    "\n",
    "skl_coeffs = skl_nmf.fit_transform(dataset_input)\n",
    "skl_comp_vectors = skl_nmf.components_\n",
    "print(skl_coeffs.shape)\n",
    "print(skl_comp_vectors.shape)"
   ]
  },
  {
   "cell_type": "code",
   "execution_count": null,
   "id": "01915057",
   "metadata": {},
   "outputs": [],
   "source": [
    "# convert the coefficient matrix into coefficient maps\n",
    "coeffs = np.zeros_like(skl_coeffs)\n",
    "coeffs[ri] = skl_coeffs.copy()\n",
    "coeffs_reshape = reshape_coeff(coeffs, data_shape)"
   ]
  },
  {
   "cell_type": "code",
   "execution_count": null,
   "id": "ac8c3df8",
   "metadata": {},
   "outputs": [],
   "source": [
    "for i in range(num_comp):\n",
    "    tmp = np.zeros((radial_range[1]*2, radial_range[1]*2))\n",
    "    tmp[k_indy, k_indx] = skl_comp_vectors[i]\n",
    "    \n",
    "    fig, ax = plt.subplots(1, 1, figsize=(5, 5))\n",
    "    ax.imshow(tmp, cmap=\"viridis\")\n",
    "    ax.axis(\"off\")\n",
    "    fig.tight_layout()\n",
    "    plt.show()"
   ]
  },
  {
   "cell_type": "code",
   "execution_count": null,
   "id": "fbdab944",
   "metadata": {},
   "outputs": [],
   "source": [
    "# visualize the coefficient maps\n",
    "if num_img != 1:\n",
    "    for i in range(num_comp):\n",
    "        fig, ax = plt.subplots(1, num_img, figsize=(5*num_img, 5))\n",
    "        for j in range(num_img):\n",
    "            tmp = ax[j].imshow(coeffs_reshape[j][:, :, i], cmap=\"viridis\")\n",
    "            ax[j].set_title(\"loading vector %d map\"%(i+1), fontsize=10)\n",
    "            ax[j].axis(\"off\")\n",
    "            #fig.colorbar(tmp, cax=fig.add_axes([0.92, 0.15, 0.04, 0.7]))\n",
    "        plt.show()\n",
    "else:            \n",
    "    for i in range(num_comp):\n",
    "        fig, ax = plt.subplots(1, 1, figsize=(5*num_img, 5))\n",
    "        tmp = ax.imshow(coeffs_reshape[0][:, :, i],cmap=\"viridis\")\n",
    "        ax.set_title(\"loading vector %d map\"%(i+1), fontsize=10)\n",
    "        ax.axis(\"off\")\n",
    "        #fig.colorbar(tmp, cax=fig.add_axes([0.92, 0.15, 0.04, 0.7]))\n",
    "        plt.show()"
   ]
  },
  {
   "cell_type": "code",
   "execution_count": null,
   "id": "4f41474d",
   "metadata": {},
   "outputs": [],
   "source": []
  }
 ],
 "metadata": {
  "kernelspec": {
   "display_name": "Python 3 (ipykernel)",
   "language": "python",
   "name": "python3"
  },
  "language_info": {
   "codemirror_mode": {
    "name": "ipython",
    "version": 3
   },
   "file_extension": ".py",
   "mimetype": "text/x-python",
   "name": "python",
   "nbconvert_exporter": "python",
   "pygments_lexer": "ipython3",
   "version": "3.8.11"
  },
  "widgets": {
   "application/vnd.jupyter.widget-state+json": {
    "state": {},
    "version_major": 2,
    "version_minor": 0
   }
  }
 },
 "nbformat": 4,
 "nbformat_minor": 5
}
