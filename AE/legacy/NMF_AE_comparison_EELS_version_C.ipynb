{
 "cells": [
  {
   "cell_type": "code",
   "execution_count": null,
   "id": "2826b8a3",
   "metadata": {},
   "outputs": [],
   "source": [
    "import time\n",
    "import numpy as np\n",
    "import matplotlib.pyplot as plt\n",
    "import matplotlib.colors as mcolors\n",
    "import matplotlib.cm as cm\n",
    "import ipywidgets as pyw\n",
    "import hyperspy.api as hys\n",
    "import tkinter.filedialog as tkf\n",
    "from tabulate import tabulate\n",
    "from sklearn.decomposition import NMF\n",
    "import malspy\n",
    "plt.rcParams['font.family'] = 'Times New Roman'"
   ]
  },
  {
   "cell_type": "code",
   "execution_count": null,
   "id": "993809de",
   "metadata": {},
   "outputs": [],
   "source": [
    "# create a customized colorbar\n",
    "color_rep = [\"black\", \"red\", \"green\", \"blue\", \"orange\", \"purple\", \"yellow\", \"lime\", \n",
    "             \"cyan\", \"magenta\", \"lightgray\", \"peru\", \"springgreen\", \"deepskyblue\", \n",
    "             \"hotpink\", \"darkgray\"]\n",
    "print(len(color_rep))\n",
    "custom_cmap = mcolors.ListedColormap(color_rep)\n",
    "bounds = np.arange(-1, len(color_rep))\n",
    "norm = mcolors.BoundaryNorm(boundaries=bounds, ncolors=len(color_rep))\n",
    "sm = cm.ScalarMappable(cmap=custom_cmap, norm=norm)\n",
    "sm.set_array([])\n",
    "\n",
    "cm_rep = [\"gray\", \"Reds\", \"Greens\", \"Blues\", \"Oranges\", \"Purples\"]\n",
    "print(len(cm_rep))"
   ]
  },
  {
   "cell_type": "code",
   "execution_count": null,
   "id": "23529c77",
   "metadata": {},
   "outputs": [],
   "source": [
    "def data_load(adr, zlp_adr, zlp_normalize=None, crop=None):\n",
    "    \"\"\"\n",
    "    load a spectrum image\n",
    "    \"\"\"\n",
    "    storage = []\n",
    "    shape = []\n",
    "    for i, adr in enumerate(adr):\n",
    "        temp = hys.load(adr)\n",
    "        #print(temp.axes_manager[2])\n",
    "        \n",
    "        zlp = hys.load(zlp_adr[i])\n",
    "        if zlp_normalize==\"sum\":\n",
    "            zlp_tmp = np.sum(zlp.data, axis=2)\n",
    "        elif zlp_normalize==\"max\":\n",
    "            zlp_tmp = np.max(zlp.data, axis=2)\n",
    "        else:\n",
    "            \"You chose a wrong option\"\n",
    "            return\n",
    "        #print(np.max(zlp_tmp), np.min(zlp_tmp))\n",
    "        #print(zlp_tmp.shape)\n",
    "        \n",
    "        temp.data = temp.data / zlp_tmp[:, :, np.newaxis]\n",
    "        #print(np.max(temp.data), np.min(temp.data))\n",
    "        temp = temp.isig[crop[0]:crop[1]]\n",
    "        temp = temp.data\n",
    "        print(temp.shape)\n",
    "\n",
    "        shape.append(temp.shape)\n",
    "        storage.append(temp)\n",
    "    \n",
    "    shape = np.asarray(shape)\n",
    "    return storage, shape"
   ]
  },
  {
   "cell_type": "code",
   "execution_count": null,
   "id": "24a0f4ff",
   "metadata": {},
   "outputs": [],
   "source": [
    "def reshape_coeff(coeffs, new_shape):\n",
    "    \"\"\"\n",
    "    reshape a coefficient matrix to restore the original scanning shapes.\n",
    "    \"\"\"\n",
    "    coeff_reshape = []\n",
    "    for i in range(len(new_shape)):\n",
    "        temp = coeffs[:int(new_shape[i, 0]*new_shape[i, 1]), :]\n",
    "        coeffs = np.delete(coeffs, range(int(new_shape[i, 0]*new_shape[i, 1])), axis=0)\n",
    "        temp = np.reshape(temp, (new_shape[i, 0], new_shape[i, 1], -1))\n",
    "        #print(temp.shape)\n",
    "        coeff_reshape.append(temp)\n",
    "        \n",
    "    return coeff_reshape"
   ]
  },
  {
   "cell_type": "code",
   "execution_count": null,
   "id": "6beb6714",
   "metadata": {},
   "outputs": [],
   "source": [
    "file_adr = []"
   ]
  },
  {
   "cell_type": "code",
   "execution_count": null,
   "id": "8d68ed0e",
   "metadata": {},
   "outputs": [],
   "source": [
    "file_adr.extend(tkf.askopenfilenames())\n",
    "print(len(file_adr))\n",
    "print(*file_adr, sep=\"\\n\")"
   ]
  },
  {
   "cell_type": "code",
   "execution_count": null,
   "id": "ab1ea0ab-996b-4c96-96cf-a49a1dcb368a",
   "metadata": {},
   "outputs": [],
   "source": [
    "zlp_adr = []"
   ]
  },
  {
   "cell_type": "code",
   "execution_count": null,
   "id": "ff14d725-d79a-402f-97a2-4bab1aa157b7",
   "metadata": {},
   "outputs": [],
   "source": [
    "zlp_adr.extend(tkf.askopenfilenames())\n",
    "print(len(zlp_adr))\n",
    "print(*zlp_adr, sep=\"\\n\")"
   ]
  },
  {
   "cell_type": "code",
   "execution_count": null,
   "id": "b394fdf7",
   "metadata": {},
   "outputs": [],
   "source": [
    "num_img = len(file_adr)\n",
    "print(num_img)"
   ]
  },
  {
   "cell_type": "code",
   "execution_count": null,
   "id": "fc1c9264",
   "metadata": {},
   "outputs": [],
   "source": [
    "# load spectrum images\n",
    "cr_range = [0.5, 3.0, 0.01] # actual input\n",
    "data_storage, data_shape = data_load(file_adr, zlp_adr, zlp_normalize=\"sum\", crop=cr_range)\n",
    "print(len(data_storage))\n",
    "print(data_shape)\n",
    "\n",
    "e_range = np.arange(cr_range[0], cr_range[1], cr_range[2])\n",
    "depth = len(e_range)\n",
    "print(len(e_range))"
   ]
  },
  {
   "cell_type": "code",
   "execution_count": null,
   "id": "7f22858e",
   "metadata": {},
   "outputs": [],
   "source": [
    "# create the input dataset\n",
    "dataset_flat = []\n",
    "for i in range(num_img):\n",
    "    dataset_flat.extend(data_storage[i].clip(min=0.0).reshape(-1, depth).tolist())\n",
    "    \n",
    "dataset_flat = np.asarray(dataset_flat)\n",
    "print(dataset_flat.shape)"
   ]
  },
  {
   "cell_type": "code",
   "execution_count": null,
   "id": "795f1118",
   "metadata": {},
   "outputs": [],
   "source": [
    "# optional\n",
    "tmp = np.max(dataset_flat, axis=1)\n",
    "tmp[np.where(tmp==0)] = 1.0\n",
    "dataset_flat = dataset_flat / tmp.reshape(-1, 1)\n",
    "print(dataset_flat.shape)"
   ]
  },
  {
   "cell_type": "code",
   "execution_count": null,
   "id": "409992e3",
   "metadata": {},
   "outputs": [],
   "source": [
    "total_num = len(dataset_flat)\n",
    "ri = np.random.choice(total_num, total_num, replace=False)\n",
    "\n",
    "dataset_input = dataset_flat[ri]"
   ]
  },
  {
   "cell_type": "code",
   "execution_count": null,
   "id": "dd03b9d5",
   "metadata": {},
   "outputs": [],
   "source": [
    "num_comp = 5"
   ]
  },
  {
   "cell_type": "code",
   "execution_count": null,
   "id": "7f1507bd",
   "metadata": {},
   "outputs": [],
   "source": [
    "# https://github.com/MotokiShiga/malspy\n",
    "# NMF with automatic relevance determination and soft orthogonality penalty\n",
    "model_nmf_ardso = malspy.NMF_ARD_SO(n_components=num_comp, wo=0.1, reps=5, max_itr=100)\n",
    "model_nmf_ardso.fit(dataset_input)\n",
    "model_nmf_ardso.plot_spectra(figsize=(6, 3), normalize=False)\n",
    "ardso_coeffs = model_nmf_ardso.C_\n",
    "print(ardso_coeffs.shape)\n",
    "ardso_comp_vectors = model_nmf_ardso.S_\n",
    "ardso_comp_vectors = np.rollaxis(ardso_comp_vectors, 1, 0)\n",
    "print(ardso_comp_vectors.shape)"
   ]
  },
  {
   "cell_type": "code",
   "execution_count": null,
   "id": "2161d973",
   "metadata": {},
   "outputs": [],
   "source": [
    "# convert the coefficient matrix into coefficient maps\n",
    "coeffs = np.zeros_like(ardso_coeffs)\n",
    "coeffs[ri] = ardso_coeffs.copy()\n",
    "coeffs_reshape = reshape_coeff(coeffs, data_shape)"
   ]
  },
  {
   "cell_type": "code",
   "execution_count": null,
   "id": "e99201d0",
   "metadata": {},
   "outputs": [],
   "source": [
    "fig, ax = plt.subplots(1, 1, figsize=(5, 5)) # all loading vectors\n",
    "\n",
    "for i in range(len(ardso_comp_vectors)):\n",
    "    ax.plot(e_range, ardso_comp_vectors[i], \"-\", c=color_rep[i+1], label=\"loading vector %d\"%(i+1))\n",
    "ax.grid()\n",
    "ax.legend(fontsize=\"large\")\n",
    "ax.set_xlabel(\"eV\", fontsize=10)\n",
    "ax.tick_params(axis=\"x\", labelsize=10)\n",
    "ax.axes.get_yaxis().set_visible(False)\n",
    "\n",
    "fig.tight_layout()\n",
    "plt.show()"
   ]
  },
  {
   "cell_type": "code",
   "execution_count": null,
   "id": "186b7562",
   "metadata": {
    "tags": []
   },
   "outputs": [],
   "source": [
    "# visualize the coefficient maps\n",
    "if num_img != 1:\n",
    "    for i in range(len(ardso_comp_vectors)):\n",
    "        fig, ax = plt.subplots(1, num_img, figsize=(5*num_img, 5))\n",
    "        for j in range(num_img):\n",
    "            tmp = ax[j].imshow(coeffs_reshape[j][:, :, i], cmap=\"viridis\")\n",
    "            ax[j].set_title(\"loading vector %d map\"%(i+1), fontsize=10)\n",
    "            ax[j].axis(\"off\")\n",
    "            fig.colorbar(tmp, cax=fig.add_axes([0.92, 0.15, 0.04, 0.7]))\n",
    "        plt.show()\n",
    "else:            \n",
    "    for i in range(len(ardso_comp_vectors)):\n",
    "        fig, ax = plt.subplots(1, 1, figsize=(5*num_img, 5))\n",
    "        tmp = ax.imshow(coeffs_reshape[0][:, :, i], cmap=\"viridis\")\n",
    "        ax.set_title(\"loading vector %d map\"%(i+1), fontsize=10)\n",
    "        ax.axis(\"off\")\n",
    "        fig.colorbar(tmp, cax=fig.add_axes([0.92, 0.15, 0.04, 0.7]))\n",
    "        plt.show()"
   ]
  },
  {
   "cell_type": "code",
   "execution_count": null,
   "id": "d3915267",
   "metadata": {},
   "outputs": [],
   "source": [
    "import tifffile\n",
    "for i in range(num_comp):\n",
    "    tilt_series = []\n",
    "    for j in range(num_img):\n",
    "        tilt_series.append(coeffs_reshape[j][:, :, i].astype(np.float32))\n",
    "    tilt_series = np.asarray(tilt_series)\n",
    "    tifffile.imsave(\"tilt_series_latent_%02d.tif\"%(i+1), tilt_series)"
   ]
  },
  {
   "cell_type": "code",
   "execution_count": null,
   "id": "cfd0868e",
   "metadata": {
    "tags": []
   },
   "outputs": [],
   "source": [
    "# https://github.com/MotokiShiga/malspy\n",
    "# NMF with soft orthogonality penalty\n",
    "model_nmf_so = malspy.NMF_SO(n_components=num_comp, wo=0.10, reps=5, max_itr=100)\n",
    "model_nmf_so.fit(dataset_input)\n",
    "so_coeffs = model_nmf_so.C_\n",
    "print(so_coeffs.shape)\n",
    "so_comp_vectors = model_nmf_so.S_\n",
    "so_comp_vectors = np.rollaxis(so_comp_vectors, 1, 0)\n",
    "print(so_comp_vectors.shape)"
   ]
  },
  {
   "cell_type": "code",
   "execution_count": null,
   "id": "744f43c8",
   "metadata": {},
   "outputs": [],
   "source": [
    "# convert the coefficient matrix into coefficient maps\n",
    "coeffs = np.zeros_like(so_coeffs)\n",
    "coeffs[ri] = so_coeffs.copy()\n",
    "coeffs_reshape = reshape_coeff(coeffs, data_shape)"
   ]
  },
  {
   "cell_type": "code",
   "execution_count": null,
   "id": "a7fb7a12",
   "metadata": {},
   "outputs": [],
   "source": [
    "fig, ax = plt.subplots(1, 1, figsize=(5, 5)) # all loading vectors\n",
    "for i in range(num_comp):\n",
    "    ax.plot(e_range, so_comp_vectors[i], \"-\", c=color_rep[i+1], label=\"loading vector %d\"%(i+1))\n",
    "ax.grid()\n",
    "ax.legend(fontsize=\"large\")\n",
    "ax.set_xlabel(\"eV\", fontsize=10)\n",
    "ax.tick_params(axis=\"x\", labelsize=10)\n",
    "ax.axes.get_yaxis().set_visible(False)\n",
    "\n",
    "fig.tight_layout()\n",
    "plt.show()"
   ]
  },
  {
   "cell_type": "code",
   "execution_count": null,
   "id": "4f1fe1ca",
   "metadata": {},
   "outputs": [],
   "source": [
    "# visualize the coefficient maps\n",
    "if num_img != 1:\n",
    "    for i in range(num_comp):\n",
    "        fig, ax = plt.subplots(1, num_img, figsize=(5*num_img, 5))\n",
    "        for j in range(num_img):\n",
    "            tmp = ax[j].imshow(coeffs_reshape[j][:, :, i], cmap=\"viridis\")\n",
    "            ax[j].set_title(\"loading vector %d map\"%(i+1), fontsize=10)\n",
    "            ax[j].axis(\"off\")\n",
    "            fig.colorbar(tmp, cax=fig.add_axes([0.92, 0.15, 0.04, 0.7]))\n",
    "        plt.show()\n",
    "else:            \n",
    "    for i in range(num_comp):\n",
    "        fig, ax = plt.subplots(1, 1, figsize=(5*num_img, 5))\n",
    "        tmp = ax.imshow(coeffs_reshape[0][:, :, i], cmap=\"viridis\")\n",
    "        ax.set_title(\"loading vector %d map\"%(i+1), fontsize=10)\n",
    "        ax.axis(\"off\")\n",
    "        fig.colorbar(tmp, cax=fig.add_axes([0.92, 0.15, 0.04, 0.7]))\n",
    "        plt.show()"
   ]
  },
  {
   "cell_type": "code",
   "execution_count": null,
   "id": "23e442d2",
   "metadata": {},
   "outputs": [],
   "source": [
    "import tifffile\n",
    "for i in range(num_comp):\n",
    "    tilt_series = []\n",
    "    for j in range(num_img):\n",
    "        tilt_series.append(coeffs_reshape[j][:, :, i].astype(np.float32))\n",
    "    tilt_series = np.asarray(tilt_series)\n",
    "    tifffile.imsave(\"tilt_series_latent_%02d.tif\"%(i+1), tilt_series)"
   ]
  },
  {
   "cell_type": "code",
   "execution_count": null,
   "id": "cb49c9d4",
   "metadata": {},
   "outputs": [],
   "source": [
    "# NMF decomposition (linear dimensionality reduction)\n",
    "# please visit the below link for detailed information on NMF\n",
    "# https://scikit-learn.org/stable/modules/generated/sklearn.decomposition.NMF.html?highlight=nmf#sklearn.decomposition.NMF\n",
    "\n",
    "skl_nmf = NMF(n_components=num_comp, init=\"nndsvda\", solver=\"mu\", max_iter=2000, \n",
    "              verbose=True, beta_loss=\"frobenius\", l1_ratio=0.0, alpha=0.0)\n",
    "\n",
    "skl_coeffs = skl_nmf.fit_transform(dataset_input)\n",
    "skl_comp_vectors = skl_nmf.components_\n",
    "print(skl_coeffs.shape)\n",
    "print(skl_comp_vectors.shape)"
   ]
  },
  {
   "cell_type": "code",
   "execution_count": null,
   "id": "ee6a9cff",
   "metadata": {},
   "outputs": [],
   "source": [
    "# convert the coefficient matrix into coefficient maps\n",
    "coeffs = np.zeros_like(skl_coeffs)\n",
    "coeffs[ri] = skl_coeffs.copy()\n",
    "coeffs_reshape = reshape_coeff(coeffs, data_shape)"
   ]
  },
  {
   "cell_type": "code",
   "execution_count": null,
   "id": "6019c0b3",
   "metadata": {},
   "outputs": [],
   "source": [
    "# visualize loading vectors\n",
    "\n",
    "fig, ax = plt.subplots(1, 2, figsize=(10, 4)) # all loading vectors\n",
    "for i in range(num_comp):\n",
    "    ax[0].plot(e_range, skl_comp_vectors[i], \"-\", c=color_rep[i+1], label=\"loading vector %d\"%(i+1))\n",
    "ax[0].grid()\n",
    "ax[0].legend(fontsize=\"large\")\n",
    "ax[0].set_xlabel(\"eV\", fontsize=10)\n",
    "ax[0].tick_params(axis=\"x\", labelsize=10)\n",
    "ax[0].axes.get_yaxis().set_visible(False)\n",
    "\n",
    "sel_nmf_comp = [2, 3, 4, 5] # choose several loading vectors to visualize\n",
    "for i in sel_nmf_comp:\n",
    "    ax[1].plot(e_range, skl_comp_vectors[i-1], \"-\", c=color_rep[i], label=\"loading vector %d\"%(i))\n",
    "ax[1].grid()\n",
    "ax[1].legend(fontsize=\"large\")\n",
    "ax[1].set_xlabel(\"eV\", fontsize=10)\n",
    "ax[1].tick_params(axis=\"x\", labelsize=10)\n",
    "ax[1].axes.get_yaxis().set_visible(False)\n",
    "\n",
    "fig.tight_layout()\n",
    "plt.show()"
   ]
  },
  {
   "cell_type": "code",
   "execution_count": null,
   "id": "dac63995",
   "metadata": {},
   "outputs": [],
   "source": [
    "# visualize the coefficient maps\n",
    "if num_img != 1:\n",
    "    for i in range(num_comp):\n",
    "        fig, ax = plt.subplots(1, num_img, figsize=(5*num_img, 5))\n",
    "        for j in range(num_img):\n",
    "            tmp = ax[j].imshow(coeffs_reshape[j][:, :, i], cmap=\"viridis\")\n",
    "            ax[j].set_title(\"loading vector %d map\"%(i+1), fontsize=10)\n",
    "            ax[j].axis(\"off\")\n",
    "            fig.colorbar(tmp, cax=fig.add_axes([0.92, 0.15, 0.04, 0.7]))\n",
    "        plt.show()\n",
    "else:            \n",
    "    for i in range(num_comp):\n",
    "        fig, ax = plt.subplots(1, 1, figsize=(5*num_img, 5))\n",
    "        tmp = ax.imshow(coeffs_reshape[0][:, :, i], cmap=\"viridis\")\n",
    "        ax.set_title(\"loading vector %d map\"%(i+1), fontsize=10)\n",
    "        ax.axis(\"off\")\n",
    "        fig.colorbar(tmp, cax=fig.add_axes([0.92, 0.15, 0.04, 0.7]))\n",
    "        plt.show()"
   ]
  },
  {
   "cell_type": "code",
   "execution_count": null,
   "id": "d29102bf",
   "metadata": {},
   "outputs": [],
   "source": [
    "import tifffile\n",
    "for i in range(num_comp):\n",
    "    tilt_series = []\n",
    "    for j in range(num_img):\n",
    "        tilt_series.append(coeffs_reshape[j][:, :, i].astype(np.float32))\n",
    "    tilt_series = np.asarray(tilt_series)\n",
    "    tifffile.imsave(\"tilt_series_latent_%02d.tif\"%(i+1), tilt_series)"
   ]
  }
 ],
 "metadata": {
  "kernelspec": {
   "display_name": "Python 3 (ipykernel)",
   "language": "python",
   "name": "python3"
  },
  "language_info": {
   "codemirror_mode": {
    "name": "ipython",
    "version": 3
   },
   "file_extension": ".py",
   "mimetype": "text/x-python",
   "name": "python",
   "nbconvert_exporter": "python",
   "pygments_lexer": "ipython3",
   "version": "3.9.6"
  },
  "widgets": {
   "application/vnd.jupyter.widget-state+json": {
    "state": {},
    "version_major": 2,
    "version_minor": 0
   }
  }
 },
 "nbformat": 4,
 "nbformat_minor": 5
}
