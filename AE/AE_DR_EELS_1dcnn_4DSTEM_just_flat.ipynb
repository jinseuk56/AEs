{
 "cells": [
  {
   "cell_type": "code",
   "execution_count": null,
   "id": "c5e42df8",
   "metadata": {},
   "outputs": [],
   "source": [
    "import time\n",
    "import numpy as np\n",
    "import matplotlib.pyplot as plt\n",
    "import matplotlib.colors as mcolors\n",
    "import matplotlib.cm as cm\n",
    "import ipywidgets as pyw\n",
    "import hyperspy.api as hys\n",
    "import tkinter.filedialog as tkf\n",
    "from tabulate import tabulate\n",
    "import torch\n",
    "import torch.nn as nn\n",
    "import torch.nn.functional as F\n",
    "import torch.optim as optim\n",
    "from torch import linalg as LA\n",
    "from torch.utils.tensorboard import SummaryWriter\n",
    "from torchvision.utils import make_grid"
   ]
  },
  {
   "cell_type": "code",
   "execution_count": null,
   "id": "17286f33",
   "metadata": {},
   "outputs": [],
   "source": [
    "# create a customized colorbar\n",
    "color_rep = [\"black\", \"red\", \"green\", \"blue\", \"orange\", \"purple\", \"yellow\", \"lime\", \n",
    "             \"cyan\", \"magenta\", \"lightgray\", \"peru\", \"springgreen\", \"deepskyblue\", \n",
    "             \"hotpink\", \"darkgray\"]\n",
    "print(len(color_rep))\n",
    "custom_cmap = mcolors.ListedColormap(color_rep)\n",
    "bounds = np.arange(-1, len(color_rep))\n",
    "norm = mcolors.BoundaryNorm(boundaries=bounds, ncolors=len(color_rep))\n",
    "sm = cm.ScalarMappable(cmap=custom_cmap, norm=norm)\n",
    "sm.set_array([])\n",
    "\n",
    "cm_rep = [\"gray\", \"Reds\", \"Greens\", \"Blues\", \"Oranges\", \"Purples\"]\n",
    "print(len(cm_rep))"
   ]
  },
  {
   "cell_type": "code",
   "execution_count": null,
   "id": "ff3f5a42",
   "metadata": {},
   "outputs": [],
   "source": [
    "def zero_one_rescale(spectrum):\n",
    "    \"\"\"\n",
    "    normalize one spectrum from 0.0 to 1.0\n",
    "    \"\"\"\n",
    "    spectrum = spectrum.clip(min=0.0)\n",
    "    min_val = np.min(spectrum)\n",
    "    \n",
    "    rescaled = spectrum - min_val\n",
    "    \n",
    "    if np.max(rescaled) != 0:\n",
    "        rescaled = rescaled / np.max(rescaled)\n",
    "    \n",
    "    return rescaled\n",
    "\n",
    "def reshape_coeff(coeffs, new_shape):\n",
    "    \"\"\"\n",
    "    reshape a coefficient matrix to restore the original scanning shapes.\n",
    "    \"\"\"\n",
    "    coeff_reshape = []\n",
    "    for i in range(len(new_shape)):\n",
    "        temp = coeffs[:int(new_shape[i, 0]*new_shape[i, 1]), :]\n",
    "        coeffs = np.delete(coeffs, range(int(new_shape[i, 0]*new_shape[i, 1])), axis=0)\n",
    "        temp = np.reshape(temp, (new_shape[i, 0], new_shape[i, 1], -1))\n",
    "        #print(temp.shape)\n",
    "        coeff_reshape.append(temp)\n",
    "        \n",
    "    return coeff_reshape\n",
    "\n",
    "def fourd_roll_axis(stack):\n",
    "    stack = np.rollaxis(np.rollaxis(stack, 2, 0), 3, 1)\n",
    "    return stack\n",
    "\n",
    "def radial_indices(shape, radial_range, center=None):\n",
    "    y, x = np.indices(shape)\n",
    "    if not center:\n",
    "        center = np.array([(y.max()-y.min())/2.0, (x.max()-x.min())/2.0])\n",
    "    \n",
    "    r = np.hypot(y - center[0], x - center[1])\n",
    "    ri = np.ones(r.shape)\n",
    "    \n",
    "    if len(np.unique(radial_range)) > 1:\n",
    "        ri[np.where(r <= radial_range[0])] = 0\n",
    "        ri[np.where(r > radial_range[1])] = 0\n",
    "        \n",
    "    else:\n",
    "        r = np.round(r)\n",
    "        ri[np.where(r != round(radial_range[0]))] = 0\n",
    "    \n",
    "    return ri"
   ]
  },
  {
   "cell_type": "code",
   "execution_count": null,
   "id": "9251cc73",
   "metadata": {},
   "outputs": [],
   "source": [
    "file_adr = []"
   ]
  },
  {
   "cell_type": "code",
   "execution_count": null,
   "id": "5d9ec084",
   "metadata": {},
   "outputs": [],
   "source": [
    "file_adr.extend(tkf.askopenfilenames())\n",
    "print(len(file_adr))\n",
    "print(*file_adr, sep=\"\\n\")"
   ]
  },
  {
   "cell_type": "code",
   "execution_count": null,
   "id": "3361916f",
   "metadata": {},
   "outputs": [],
   "source": [
    "num_img = len(file_adr)\n",
    "print(num_img)"
   ]
  },
  {
   "cell_type": "code",
   "execution_count": null,
   "id": "f82c1faf",
   "metadata": {},
   "outputs": [],
   "source": [
    "data_original = []\n",
    "data_shape = []\n",
    "for i in range(num_img):\n",
    "    tmp = hys.load(file_adr[i]).data\n",
    "    tmp = fourd_roll_axis(tmp)\n",
    "    print(tmp.shape)\n",
    "    tmp = tmp / np.max(tmp)\n",
    "    data_shape.append(list(tmp.shape[:2]))\n",
    "    data_original.append(tmp)\n",
    "    \n",
    "data_shape = np.asarray(data_shape)"
   ]
  },
  {
   "cell_type": "code",
   "execution_count": null,
   "id": "68b34170",
   "metadata": {},
   "outputs": [],
   "source": [
    "center_pos = []\n",
    "cbox_edge = 100\n",
    "for i in range(num_img):\n",
    "    mean_dp = np.mean(data_original[i], axis=(0, 1))\n",
    "    cbox_outy = int(mean_dp.shape[0]/2 - cbox_edge/2)\n",
    "    cbox_outx = int(mean_dp.shape[1]/2 - cbox_edge/2)\n",
    "    center_box = mean_dp[cbox_outy:-cbox_outy, cbox_outx:-cbox_outx]\n",
    "    Y, X = np.indices(center_box.shape)\n",
    "    com_y = np.sum(center_box * Y) / np.sum(center_box)\n",
    "    com_x = np.sum(center_box * X) / np.sum(center_box)\n",
    "    c_pos = [np.around(com_y+cbox_outy), np.around(com_x+cbox_outx)]\n",
    "    center_pos.append(c_pos)\n",
    "print(center_pos)"
   ]
  },
  {
   "cell_type": "code",
   "execution_count": null,
   "id": "fb5897d0",
   "metadata": {},
   "outputs": [],
   "source": [
    "center_radius = 10\n",
    "for i in range(num_img):\n",
    "    ri = radial_indices(data_original[i].shape[2:], [center_radius, 100], center=center_pos[i])\n",
    "    data_original[i] = np.multiply(data_original[i], ri)"
   ]
  },
  {
   "cell_type": "code",
   "execution_count": null,
   "id": "8c5e155d",
   "metadata": {},
   "outputs": [],
   "source": [
    "box_size = np.array([30, 30])\n",
    "dataset = []\n",
    "for i in range(num_img):\n",
    "    h_si = np.floor(center_pos[i][0]-box_size[0]).astype(int)\n",
    "    h_fi = np.ceil(center_pos[i][0]+box_size[0]).astype(int)\n",
    "    w_si = np.floor(center_pos[i][1]-box_size[1]).astype(int)\n",
    "    w_fi = np.ceil(center_pos[i][1]+box_size[1]).astype(int)\n",
    "    \n",
    "    tmp = data_original[i][:, :, h_si:h_fi, w_si:w_fi]\n",
    "    tmp = tmp.reshape(data_shape[i][0], data_shape[i][1], -1)\n",
    "    \n",
    "    dataset.extend(tmp.tolist())\n",
    "\n",
    "dataset = np.asarray(dataset)\n",
    "print(dataset.shape)\n",
    "s_length = dataset.shape[2]"
   ]
  },
  {
   "cell_type": "code",
   "execution_count": null,
   "id": "4af24713",
   "metadata": {},
   "outputs": [],
   "source": [
    "# create the input dataset\n",
    "dataset_flat = dataset.reshape(-1, s_length)\n",
    "print(dataset_flat.shape)"
   ]
  },
  {
   "cell_type": "code",
   "execution_count": null,
   "id": "f1e2282b",
   "metadata": {},
   "outputs": [],
   "source": [
    "total_num = len(dataset_flat)\n",
    "ri = np.random.choice(total_num, total_num, replace=False)\n",
    "\n",
    "dataset_input = dataset_flat[ri]"
   ]
  },
  {
   "cell_type": "code",
   "execution_count": null,
   "id": "c3bf04e5",
   "metadata": {},
   "outputs": [],
   "source": [
    "class conv_ae(nn.Module):\n",
    "    def __init__(self, input_size, encoded_dimension, channels, kernels, poolings):\n",
    "        super(conv_ae, self).__init__()\n",
    "\n",
    "        self.input_size = input_size\n",
    "        self.encoded_dimension = encoded_dimension\n",
    "        \n",
    "        self.cnn_encoder = nn.Sequential(\n",
    "            nn.Conv1d(1, channels[0], kernels[0], bias=True),\n",
    "            nn.BatchNorm1d(channels[0]),\n",
    "            nn.ReLU(),\n",
    "            nn.AvgPool1d(poolings[0]),\n",
    "            nn.Conv1d(channels[0], channels[1], kernels[1], bias=True),\n",
    "            nn.BatchNorm1d(channels[1]),\n",
    "            nn.ReLU(),\n",
    "            nn.AvgPool1d(poolings[1]),\n",
    "            nn.Conv1d(channels[1], channels[2], kernels[2], bias=True),\n",
    "            nn.BatchNorm1d(channels[2]),\n",
    "            nn.ReLU(),\n",
    "            nn.AvgPool1d(poolings[2]),\n",
    "            nn.Conv1d(channels[2], channels[3], kernels[3], bias=True),\n",
    "            nn.BatchNorm1d(channels[3]),\n",
    "            nn.ReLU(),\n",
    "            nn.AvgPool1d(poolings[3]),\n",
    "            nn.Flatten(),\n",
    "        )\n",
    "        \n",
    "        self.decoder = nn.Sequential(\n",
    "            nn.Linear(self.encoded_dimension[1], self.input_size, bias=False),\n",
    "            nn.ReLU(),\n",
    "        )\n",
    "    def forward(self, x):\n",
    "        x = x.view(-1, 1, self.input_size)\n",
    "        encoded = self.cnn_encoder(x)\n",
    "        decoded = self.decoder(encoded)\n",
    "        return encoded, decoded"
   ]
  },
  {
   "cell_type": "code",
   "execution_count": null,
   "id": "1ab66dfc",
   "metadata": {},
   "outputs": [],
   "source": [
    "if torch.cuda.is_available():\n",
    "    print(\"%d gpu available\"%(torch.cuda.device_count()))\n",
    "    cuda_device = torch.device(\"cuda:1\")\n",
    "    print(torch.cuda.get_device_name(cuda_device))\n",
    "    torch.cuda.set_device(cuda_device)\n",
    "else:\n",
    "    cuda_device = None"
   ]
  },
  {
   "cell_type": "code",
   "execution_count": null,
   "id": "362afd84",
   "metadata": {},
   "outputs": [],
   "source": [
    "num_comp = 5\n",
    "channels = [100, 50, 50, num_comp]\n",
    "kernels = [60, 60, 60, 0]\n",
    "pooling = [3, 3, 3, 3]\n",
    "\n",
    "dat_dim = []\n",
    "tmp_dim = s_length\n",
    "for i in range(len(kernels)):\n",
    "    tmp_dim += (-kernels[i]+1)\n",
    "    tmp_dim /= pooling[i]\n",
    "    dat_dim.append(int(tmp_dim))\n",
    "    \n",
    "kernels[-1] = dat_dim[-2] - pooling[-1] + 1\n",
    "dat_dim[-1] = 1\n",
    "\n",
    "print(dat_dim)\n",
    "print(kernels)\n",
    "print(channels)\n",
    "print(pooling)"
   ]
  },
  {
   "cell_type": "code",
   "execution_count": null,
   "id": "da0fff64",
   "metadata": {},
   "outputs": [],
   "source": [
    "model = conv_ae(s_length, [dat_dim[-1]*channels[-1], num_comp], channels, kernels, pooling)\n",
    "model.cuda(cuda_device)\n",
    "print(model)"
   ]
  },
  {
   "cell_type": "code",
   "execution_count": null,
   "id": "9bf5f2ca",
   "metadata": {},
   "outputs": [],
   "source": [
    "batch_size = 1000\n",
    "mini_batches = [dataset_input[k:k+batch_size] for k in range(0, len(dataset_input), batch_size)]"
   ]
  },
  {
   "cell_type": "code",
   "execution_count": null,
   "id": "6f44cb78",
   "metadata": {},
   "outputs": [],
   "source": [
    "n_epoch = 100\n",
    "l_rate = 0.08\n",
    "lmbd_tv = 0.0000\n",
    "lmbd_reg = 0\n",
    "alpha = 1.0"
   ]
  },
  {
   "cell_type": "code",
   "execution_count": null,
   "id": "5c858950",
   "metadata": {},
   "outputs": [],
   "source": [
    "#optimizer = optim.SGD(model.parameters(), lr=l_rate)\n",
    "optimizer = optim.Adam(model.parameters())\n",
    "torch.nn.init.orthogonal_(model.decoder[0].weight)\n",
    "print(optimizer)"
   ]
  },
  {
   "cell_type": "code",
   "execution_count": null,
   "id": "e374d3d1",
   "metadata": {
    "tags": []
   },
   "outputs": [],
   "source": [
    "start = time.time()\n",
    "ae_coeffs = []\n",
    "ae_bias = []\n",
    "for epoch in range(n_epoch):\n",
    "    for i, m_batch in enumerate(mini_batches):\n",
    "        \n",
    "        x = torch.from_numpy(mini_batches[i])\n",
    "        x = x.to(torch.float32)\n",
    "        x = x.to(cuda_device)\n",
    "        x.requires_grad_(requires_grad=False)\n",
    "        \n",
    "        encoded, decoded = model(x)\n",
    "        \n",
    "        l1_reg = 0\n",
    "        l2_reg = 0\n",
    "        tv_reg = 0\n",
    "\n",
    "        for i in range(num_comp):\n",
    "            tv_reg += lmbd_tv*LA.norm(torch.gradient(model.decoder[0].weight[:, i])[0], 1)\n",
    "            l1_reg += lmbd_reg*alpha*(LA.norm(model.decoder[0].weight[:, i], 1))\n",
    "            l2_reg += lmbd_reg*(1-alpha)*(LA.norm(model.decoder[0].weight[:, i], 2))\n",
    "        \n",
    "        #main_loss = F.binary_cross_entropy(decoded, x)\n",
    "        main_loss = LA.norm((decoded - x), 2) / len(m_batch)\n",
    "        total_loss = main_loss + l1_reg + l2_reg + tv_reg\n",
    "        \n",
    "        optimizer.zero_grad()\n",
    "        total_loss.backward()\n",
    "        optimizer.step()\n",
    "        \n",
    "        model.decoder[0].weight.data.clamp_(min=0.0)\n",
    "        \n",
    "        if epoch == n_epoch-1:\n",
    "            coeff_batch = encoded.data.cpu().numpy().tolist()\n",
    "            ae_coeffs.extend(coeff_batch)            \n",
    "    \n",
    "    \n",
    "    if epoch == 0:\n",
    "        print(torch.cuda.memory_summary(device=cuda_device))\n",
    "    \n",
    "    if (epoch+1) % int(n_epoch/10) == 0:\n",
    "        print(tabulate([\n",
    "                        [\"epoch\", epoch+1], \n",
    "                        [\"total loss\", total_loss.item()],\n",
    "                        [\"-main loss\", main_loss.item(), main_loss.item()*100/total_loss.item()],\n",
    "                        [\"-L1 reg.\", l1_reg.item(), l1_reg.item()*100/total_loss.item()],\n",
    "                        [\"-L2 reg.\", l2_reg.item(), l2_reg.item()*100/total_loss.item()],\n",
    "                        [\"-TV reg.\", tv_reg.item(), tv_reg.item()*100/total_loss.item()],\n",
    "                        ]))\n",
    "        print(\"%.2f minutes have passed\"%((time.time()-start)/60))\n",
    "        \n",
    "        fig, ax = plt.subplots(1, num_comp, figsize=(5*num_comp, 5))\n",
    "        for i in range(num_comp):\n",
    "            ax[i].imshow(model.decoder[0].weight.data.cpu()[:, i].reshape(box_size[0]*2, box_size[1]*2), cmap=\"viridis\")\n",
    "            ax[i].axis(\"off\")\n",
    "        fig.tight_layout()\n",
    "        plt.show()\n",
    "\n",
    "print(\"The training has been finished.\")"
   ]
  },
  {
   "cell_type": "code",
   "execution_count": null,
   "id": "98e7d2c2",
   "metadata": {},
   "outputs": [],
   "source": [
    "ae_coeffs = np.asarray(ae_coeffs)\n",
    "ae_comp_vectors = model.decoder[0].weight.data.cpu().numpy().T\n",
    "print(ae_coeffs.shape)\n",
    "print(ae_comp_vectors.shape)\n",
    "\n",
    "# convert the coefficient matrix into coefficient maps\n",
    "coeffs = np.zeros_like(ae_coeffs)\n",
    "coeffs[ri] = ae_coeffs.copy()\n",
    "coeffs_reshape = reshape_coeff(coeffs, data_shape)"
   ]
  },
  {
   "cell_type": "code",
   "execution_count": null,
   "id": "848ed758",
   "metadata": {},
   "outputs": [],
   "source": [
    "# visualize loading vectors\n",
    "for i in range(num_comp):\n",
    "    fig, ax = plt.subplots(1, 1, figsize=(5, 5))\n",
    "    ax.imshow(ae_comp_vectors[i].reshape(box_size*2), cmap=\"viridis\")\n",
    "    ax.axis(\"off\")\n",
    "    fig.tight_layout()\n",
    "    plt.show()"
   ]
  },
  {
   "cell_type": "code",
   "execution_count": null,
   "id": "6f8c3ab4",
   "metadata": {},
   "outputs": [],
   "source": [
    "%matplotlib inline"
   ]
  },
  {
   "cell_type": "code",
   "execution_count": null,
   "id": "8800eaa4",
   "metadata": {},
   "outputs": [],
   "source": [
    "%matplotlib qt"
   ]
  },
  {
   "cell_type": "code",
   "execution_count": null,
   "id": "2c0bbab9",
   "metadata": {
    "tags": []
   },
   "outputs": [],
   "source": [
    "# visualize the coefficient maps\n",
    "if num_img != 1:\n",
    "    for i in range(num_comp):\n",
    "        fig, ax = plt.subplots(1, num_img, figsize=(5*num_img, 5))\n",
    "        for j in range(num_img):\n",
    "            tmp = ax[j].imshow(coeffs_reshape[j][:, :, i], cmap=\"viridis\")\n",
    "            ax[j].set_title(\"loading vector %d map\"%(i+1), fontsize=10)\n",
    "            ax[j].axis(\"off\")\n",
    "            #fig.colorbar(tmp, cax=fig.add_axes([0.92, 0.15, 0.04, 0.7]))\n",
    "        plt.show()\n",
    "else:            \n",
    "    for i in range(num_comp):\n",
    "        fig, ax = plt.subplots(1, 1, figsize=(5*num_img, 5))\n",
    "        tmp = ax.imshow(coeffs_reshape[0][:, :, i], cmap=\"viridis\")\n",
    "        ax.set_title(\"loading vector %d map\"%(i+1), fontsize=10)\n",
    "        ax.axis(\"off\")\n",
    "        #fig.colorbar(tmp, cax=fig.add_axes([0.92, 0.15, 0.04, 0.7]))\n",
    "        plt.show()"
   ]
  },
  {
   "cell_type": "code",
   "execution_count": null,
   "id": "1085b0ce",
   "metadata": {},
   "outputs": [],
   "source": [
    "# 2D subspace\n",
    "%matplotlib qt\n",
    "fig, ax = plt.subplots(1, 1, figsize=(7, 7))\n",
    "\n",
    "def projection(c1, c2):\n",
    "    ax.cla()\n",
    "    ax.scatter(coeffs[:, c1], coeffs[:, c2], s=30, c=\"black\", alpha=0.5)\n",
    "    ax.grid()\n",
    "    ax.set_xlabel(\"loading vector %d\"%(c1+1), fontsize=15)\n",
    "    ax.set_ylabel(\"loading vector %d\"%(c2+1), fontsize=15)\n",
    "    ax.tick_params(axis=\"both\", labelsize=15)\n",
    "    fig.canvas.draw()\n",
    "    fig.tight_layout()\n",
    "\n",
    "x_widget = pyw.IntSlider(min=0, max=num_comp-1, step=1, value=1)\n",
    "y_widget = pyw.IntSlider(min=0, max=num_comp-1, step=1, value=2)\n",
    "\n",
    "pyw.interact(projection, c1=x_widget, c2=y_widget)\n",
    "plt.show()"
   ]
  }
 ],
 "metadata": {
  "kernelspec": {
   "display_name": "Python 3 (ipykernel)",
   "language": "python",
   "name": "python3"
  },
  "language_info": {
   "codemirror_mode": {
    "name": "ipython",
    "version": 3
   },
   "file_extension": ".py",
   "mimetype": "text/x-python",
   "name": "python",
   "nbconvert_exporter": "python",
   "pygments_lexer": "ipython3",
   "version": "3.8.11"
  },
  "widgets": {
   "application/vnd.jupyter.widget-state+json": {
    "state": {},
    "version_major": 2,
    "version_minor": 0
   }
  }
 },
 "nbformat": 4,
 "nbformat_minor": 5
}
