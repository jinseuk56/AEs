{
 "cells": [
  {
   "cell_type": "code",
   "execution_count": null,
   "id": "0b0afc03",
   "metadata": {},
   "outputs": [],
   "source": [
    "from VAEs_module import *\n",
    "import time\n",
    "import numpy as np\n",
    "import matplotlib.pyplot as plt\n",
    "import matplotlib.colors as mcolors\n",
    "import matplotlib.cm as cm\n",
    "import ipywidgets as pyw\n",
    "import hyperspy.api as hys\n",
    "import tkinter.filedialog as tkf\n",
    "from tabulate import tabulate\n",
    "import torch\n",
    "import torch.nn as nn\n",
    "import torch.nn.functional as F\n",
    "import torch.optim as optim\n",
    "from torch import linalg as LA"
   ]
  },
  {
   "cell_type": "code",
   "execution_count": null,
   "id": "e13ca5e2",
   "metadata": {},
   "outputs": [],
   "source": [
    "file_adr = []"
   ]
  },
  {
   "cell_type": "code",
   "execution_count": null,
   "id": "acbe245e",
   "metadata": {},
   "outputs": [],
   "source": [
    "file_adr.extend(tkf.askopenfilenames())\n",
    "print(len(file_adr))\n",
    "print(*file_adr, sep=\"\\n\")"
   ]
  },
  {
   "cell_type": "code",
   "execution_count": null,
   "id": "48613457-d5f3-4d68-bcab-d41d3c0ea9bd",
   "metadata": {},
   "outputs": [],
   "source": [
    "data_load = load_data(file_adr, dat_dim=4, dat_unit='1/nm', rescale=False)"
   ]
  },
  {
   "cell_type": "code",
   "execution_count": null,
   "id": "70c758c9-0ace-4371-826c-6a40a12c94f5",
   "metadata": {},
   "outputs": [],
   "source": [
    "data_load.find_center(cbox_edge=40, center_remove=0, result_visual=True, log_scale=False)"
   ]
  },
  {
   "cell_type": "code",
   "execution_count": null,
   "id": "653d5c1c-f136-4571-9cec-7be7568f8bfa",
   "metadata": {},
   "outputs": [],
   "source": [
    "data_load.make_input(min_val=1E-6, max_normalize=True, \n",
    "           log_scale=False, radial_flat=False, \n",
    "           w_size=64, radial_range=None, final_dim=1)"
   ]
  },
  {
   "cell_type": "code",
   "execution_count": null,
   "id": "e2e8e839-6a6a-4791-aef0-4b978004a681",
   "metadata": {},
   "outputs": [],
   "source": [
    "if torch.cuda.is_available():\n",
    "    print(\"%d gpu available\"%(torch.cuda.device_count()))\n",
    "    cuda_device = torch.device(\"cuda:0\")\n",
    "    print(torch.cuda.get_device_name(cuda_device))\n",
    "    torch.cuda.set_device(cuda_device)\n",
    "    print(torch.cuda.memory_summary(device=cuda_device))\n",
    "else:\n",
    "    cuda_device = None"
   ]
  },
  {
   "cell_type": "code",
   "execution_count": null,
   "id": "c87a864c",
   "metadata": {},
   "outputs": [],
   "source": [
    "parallel_ = True\n",
    "\n",
    "num_comp = 2\n",
    "enc_hid_dim = [512]\n",
    "\n",
    "enc_model = VAEFCNN_encoder(data_load.s_length, num_comp, enc_hid_dim)\n",
    "\n",
    "if parallel_:\n",
    "    enc_model = nn.DataParallel(enc_model)\n",
    "enc_model.cuda(cuda_device)\n",
    "print(enc_model)"
   ]
  },
  {
   "cell_type": "code",
   "execution_count": null,
   "id": "445bb7ee-daef-49cf-8f0e-416b8d2ace3a",
   "metadata": {},
   "outputs": [],
   "source": [
    "hidden_dim = [512]\n",
    "\n",
    "dec_model = VAEFCNN_decoder(num_comp, hidden_dim, data_load.s_length)\n",
    "\n",
    "if parallel_:\n",
    "    dec_model = nn.DataParallel(dec_model)\n",
    "    \n",
    "dec_model.cuda(cuda_device)\n",
    "print(dec_model)"
   ]
  },
  {
   "cell_type": "code",
   "execution_count": null,
   "id": "9449b0d4",
   "metadata": {},
   "outputs": [],
   "source": [
    "batch_size = 783\n",
    "mini_batches = [dataset_input[k:k+batch_size] for k in range(0, len(dataset_input), batch_size)]\n",
    "print(len(mini_batches))"
   ]
  },
  {
   "cell_type": "code",
   "execution_count": null,
   "id": "a452397f",
   "metadata": {},
   "outputs": [],
   "source": [
    "n_epoch = 100\n",
    "l_rate = 0.001\n",
    "params = list(enc_model.parameters()) + list(dec_model.parameters())\n",
    "optimizer = optim.Adam(params, lr=l_rate)"
   ]
  },
  {
   "cell_type": "code",
   "execution_count": null,
   "id": "ec8da554",
   "metadata": {},
   "outputs": [],
   "source": [
    "start = time.time()\n",
    "loss_plot = []\n",
    "n_fig = 5\n",
    "for epoch in range(n_epoch):\n",
    "    loss_epoch = 0\n",
    "    recon_loss = 0\n",
    "    KLD_loss = 0\n",
    "    \n",
    "    latent_z = []\n",
    "    z_mu = []\n",
    "    z_logvar = []\n",
    "    for i, m_batch in enumerate(mini_batches):\n",
    "        \n",
    "        x = torch.from_numpy(m_batch).clamp_(min=0.001, max=0.999)\n",
    "        x = x.to(torch.float32)\n",
    "        x = x.to(cuda_device)\n",
    "        x.requires_grad_(requires_grad=False)\n",
    "        \n",
    "        mu, logvar, z = enc_model(x)\n",
    "        x_ = dec_model(z)\n",
    "        \n",
    "        reconstruction_error = F.binary_cross_entropy(x_.squeeze(), x, reduction=\"sum\")\n",
    "        KL_divergence = -0.5*torch.sum(1+logvar-mu**2-logvar.exp())\n",
    "        \n",
    "        loss = reconstruction_error + KL_divergence\n",
    "        loss_epoch += loss.item()\n",
    "        recon_loss += reconstruction_error.item()\n",
    "        KLD_loss += KL_divergence.item()\n",
    "        \n",
    "        optimizer.zero_grad()\n",
    "        loss.backward()\n",
    "        optimizer.step()\n",
    "        \n",
    "        latent_z.extend(z.data.cpu().numpy().tolist())\n",
    "        z_mu.extend(mu.data.cpu().numpy().tolist())\n",
    "        z_logvar.extend(logvar.data.cpu().numpy().tolist())\n",
    "    \n",
    "    loss_plot.append(loss_epoch/total_num)       \n",
    "    \n",
    "    latent_z = np.asarray(latent_z)\n",
    "    z_mu = np.asarray(z_mu)\n",
    "    z_logvar = np.asarray(z_logvar)\n",
    "            \n",
    "    if epoch == 0:\n",
    "        print(torch.cuda.memory_summary(device=cuda_device))\n",
    "        \n",
    "    if (epoch+1) % int(n_epoch/10) == 0:\n",
    "        fig, ax = plt.subplots(1, 1)\n",
    "        ax.plot(np.arange(epoch+1)+1, loss_plot, \"k-\")\n",
    "        ax.grid()\n",
    "        plt.show()        \n",
    "        \n",
    "        print(tabulate([\n",
    "                        [\"epoch\", epoch+1], \n",
    "                        [\"total loss\", loss_epoch/total_num],\n",
    "                        [\"reconstruction error\", recon_loss/total_num],\n",
    "                        [\"KL divergence\", KLD_loss/total_num],\n",
    "                        [\"error ratio\", reconstruction_error/KL_divergence],\n",
    "                        ]))\n",
    "        print(\"%.2f minutes have passed\"%((time.time()-start)/60))\n",
    "        \n",
    "        fig, ax = plt.subplots(2, n_fig, figsize=(5*n_fig, 5*2))\n",
    "        for i in range(n_fig):\n",
    "            ax[0][i].imshow(x[i].data.cpu().reshape(data_load.w_size, data_load.w_size), cmap=\"inferno\")\n",
    "            ax[1][i].imshow(x_[i].squeeze().data.cpu().reshape(data_load.w_size, data_load.w_size), cmap=\"inferno\")\n",
    "        fig.tight_layout()\n",
    "        plt.show()\n",
    "        \n",
    "        coeffs = np.zeros_like(latent_z)\n",
    "        coeffs[ri] = latent_z.copy()\n",
    "        coeffs_reshape = reshape_coeff(coeffs, data_shape)  \n",
    "\n",
    "        fig, ax = plt.subplots(1, 1)\n",
    "        ax.grid()\n",
    "        for i in range(num_comp):\n",
    "            ax.hist(coeffs[:, i], bins=50, alpha=(1.0-i*(1/num_comp)))\n",
    "        plt.show()\n",
    "\n",
    "        if num_img != 1:\n",
    "            for i in range(num_comp):\n",
    "                fig, ax = plt.subplots(1, num_img, figsize=(7*num_img, 7))\n",
    "                for j in range(num_img):\n",
    "                    tmp = ax[j].imshow(coeffs_reshape[j][:, :, i], cmap=\"viridis\")\n",
    "                    ax[j].axis(\"off\")\n",
    "                    #fig.colorbar(tmp, cax=fig.add_axes([0.92, 0.15, 0.04, 0.7]))\n",
    "                plt.show()\n",
    "        else:            \n",
    "            for i in range(num_comp):\n",
    "                fig, ax = plt.subplots(1, 1, figsize=(7, 7*num_img))\n",
    "                tmp = ax.imshow(coeffs_reshape[0][:, :, i], cmap=\"viridis\")\n",
    "                ax.axis(\"off\")\n",
    "                #fig.colorbar(tmp, cax=fig.add_axes([0.92, 0.15, 0.04, 0.7]))\n",
    "                plt.show()        \n",
    "        \n",
    "print(\"The training has been finished.\")"
   ]
  },
  {
   "cell_type": "code",
   "execution_count": null,
   "id": "f7055c91",
   "metadata": {},
   "outputs": [],
   "source": [
    "%matplotlib inline"
   ]
  },
  {
   "cell_type": "code",
   "execution_count": null,
   "id": "0f3eeda6",
   "metadata": {},
   "outputs": [],
   "source": [
    "%matplotlib qt"
   ]
  },
  {
   "cell_type": "code",
   "execution_count": null,
   "id": "a705bb48",
   "metadata": {},
   "outputs": [],
   "source": [
    "coeffs = np.zeros_like(latent_z)\n",
    "coeffs[ri] = latent_z.copy()\n",
    "coeffs_reshape = reshape_coeff(coeffs, data_shape)\n",
    "\n",
    "fig, ax = plt.subplots(1, 1)\n",
    "ax.grid()\n",
    "for i in range(num_comp):\n",
    "    ax.hist(coeffs[:, i], bins=50, alpha=(1.0-i*(1/num_comp)))\n",
    "plt.show()\n",
    "\n",
    "if num_img != 1:\n",
    "    for i in range(num_comp):\n",
    "        fig, ax = plt.subplots(1, num_img, figsize=(7*num_img, 7))\n",
    "        for j in range(num_img):\n",
    "            tmp = ax[j].imshow(coeffs_reshape[j][:, :, i], cmap=\"viridis\")\n",
    "            ax[j].axis(\"off\")\n",
    "            #fig.colorbar(tmp, cax=fig.add_axes([0.92, 0.15, 0.04, 0.7]))\n",
    "        plt.show()\n",
    "else:            \n",
    "    for i in range(num_comp):\n",
    "        fig, ax = plt.subplots(1, 1, figsize=(7, 7*num_img))\n",
    "        tmp = ax.imshow(coeffs_reshape[0][:, :, i], cmap=\"viridis\")\n",
    "        ax.axis(\"off\")\n",
    "        #fig.colorbar(tmp, cax=fig.add_axes([0.92, 0.15, 0.04, 0.7]))\n",
    "        plt.show()"
   ]
  },
  {
   "cell_type": "code",
   "execution_count": null,
   "id": "687adca9-3980-497b-8cce-19f8a7307e72",
   "metadata": {},
   "outputs": [],
   "source": [
    "coeffs = np.zeros_like(z_mu)\n",
    "coeffs[ri] = z_mu.copy()\n",
    "coeffs_reshape = reshape_coeff(coeffs, data_shape)\n",
    "\n",
    "fig, ax = plt.subplots(1, 1)\n",
    "ax.grid()\n",
    "for i in range(num_comp):\n",
    "    ax.hist(coeffs[:, i], bins=50, alpha=(1.0-i*(1/num_comp)))\n",
    "plt.show()\n",
    "\n",
    "if num_img != 1:\n",
    "    for i in range(num_comp):\n",
    "        fig, ax = plt.subplots(1, num_img, figsize=(7*num_img, 7))\n",
    "        for j in range(num_img):\n",
    "            tmp = ax[j].imshow(coeffs_reshape[j][:, :, i], cmap=\"viridis\")\n",
    "            ax[j].axis(\"off\")\n",
    "            #fig.colorbar(tmp, cax=fig.add_axes([0.92, 0.15, 0.04, 0.7]))\n",
    "        plt.show()\n",
    "else:            \n",
    "    for i in range(num_comp):\n",
    "        fig, ax = plt.subplots(1, 1, figsize=(7, 7*num_img))\n",
    "        tmp = ax.imshow(coeffs_reshape[0][:, :, i], cmap=\"viridis\")\n",
    "        ax.axis(\"off\")\n",
    "        #fig.colorbar(tmp, cax=fig.add_axes([0.92, 0.15, 0.04, 0.7]))\n",
    "        plt.show()"
   ]
  },
  {
   "cell_type": "code",
   "execution_count": null,
   "id": "32d17f55-afdf-4925-8bb7-d7ed26ded3a3",
   "metadata": {},
   "outputs": [],
   "source": [
    "coeffs = np.zeros_like(z_logvar)\n",
    "coeffs[ri] = np.exp(0.5*z_logvar)\n",
    "coeffs_reshape = reshape_coeff(coeffs, data_shape)\n",
    "\n",
    "fig, ax = plt.subplots(1, 1)\n",
    "ax.grid()\n",
    "for i in range(num_comp):\n",
    "    ax.hist(coeffs[:, i], bins=50, alpha=(1.0-i*(1/num_comp)))\n",
    "plt.show()\n",
    "\n",
    "if num_img != 1:\n",
    "    for i in range(num_comp):\n",
    "        fig, ax = plt.subplots(1, num_img, figsize=(7*num_img, 7))\n",
    "        for j in range(num_img):\n",
    "            tmp = ax[j].imshow(coeffs_reshape[j][:, :, i], cmap=\"viridis\")\n",
    "            ax[j].axis(\"off\")\n",
    "            #fig.colorbar(tmp, cax=fig.add_axes([0.92, 0.15, 0.04, 0.7]))\n",
    "        plt.show()\n",
    "else:            \n",
    "    for i in range(num_comp):\n",
    "        fig, ax = plt.subplots(1, 1, figsize=(7, 7*num_img))\n",
    "        tmp = ax.imshow(coeffs_reshape[0][:, :, i], cmap=\"viridis\")\n",
    "        ax.axis(\"off\")\n",
    "        #fig.colorbar(tmp, cax=fig.add_axes([0.92, 0.15, 0.04, 0.7]))\n",
    "        plt.show()"
   ]
  },
  {
   "cell_type": "code",
   "execution_count": null,
   "id": "e7a6d4cb-2e3a-4fc4-b4c9-faf89bf96c93",
   "metadata": {},
   "outputs": [],
   "source": [
    "n_sample = 10\n",
    "sigma = 5.0\n",
    "z_test = np.linspace(-sigma, sigma, n_sample*10, endpoint=True)\n",
    "rv = stats.norm(0, 1)\n",
    "norm_pdf = rv.pdf(z_test)\n",
    "norm_pdf = norm_pdf / np.sum(norm_pdf)\n",
    "z_test = np.sort(np.random.choice(z_test, n_sample, replace=False, p=norm_pdf))\n",
    "z_test = np.meshgrid(z_test, z_test)\n",
    "z_test = np.stack((z_test[0].flatten(), z_test[1].flatten()), axis=1)\n",
    "print(z_test.shape)\n",
    "z_test = torch.from_numpy(z_test).to(torch.float32).to(cuda_device)"
   ]
  },
  {
   "cell_type": "code",
   "execution_count": null,
   "id": "45ee2106-9813-4809-82fc-c37f7f13019c",
   "metadata": {},
   "outputs": [],
   "source": [
    "dec_model.eval()\n",
    "generated = dec_model(z_test)\n",
    "print(generated.shape)"
   ]
  },
  {
   "cell_type": "code",
   "execution_count": null,
   "id": "b8d8e24b-ad0a-4b07-a495-2e2b5a4f08a0",
   "metadata": {},
   "outputs": [],
   "source": [
    "fig, ax = plt.subplots(n_sample, n_sample, figsize=(30, 30))\n",
    "for i, a in enumerate(ax.flat):\n",
    "    a.imshow(generated[i].squeeze().data.cpu().reshape(data_load.w_size, data_load.w_size), cmap=\"jet\")\n",
    "    a.axis(\"off\")\n",
    "plt.subplots_adjust(hspace=0.01, wspace=0.01)\n",
    "plt.show()"
   ]
  },
  {
   "cell_type": "code",
   "execution_count": null,
   "id": "fb3c520d",
   "metadata": {},
   "outputs": [],
   "source": [
    "# 2D subspace\n",
    "%matplotlib qt\n",
    "fig, ax = plt.subplots(1, 1, figsize=(7, 7))\n",
    "\n",
    "def projection(c1, c2):\n",
    "    ax.cla()\n",
    "    ax.scatter(coeffs[:, c1], coeffs[:, c2], s=30, c=\"black\", alpha=0.5)\n",
    "    ax.grid()\n",
    "    ax.set_xlabel(\"loading vector %d\"%(c1+1), fontsize=15)\n",
    "    ax.set_ylabel(\"loading vector %d\"%(c2+1), fontsize=15)\n",
    "    ax.tick_params(axis=\"both\", labelsize=15)\n",
    "    fig.canvas.draw()\n",
    "    fig.tight_layout()\n",
    "\n",
    "x_widget = pyw.IntSlider(min=0, max=z_dim-1, step=1, value=1)\n",
    "y_widget = pyw.IntSlider(min=0, max=z_dim-1, step=1, value=2)\n",
    "\n",
    "pyw.interact(projection, c1=x_widget, c2=y_widget)\n",
    "plt.show()"
   ]
  }
 ],
 "metadata": {
  "kernelspec": {
   "display_name": "Python 3 (ipykernel)",
   "language": "python",
   "name": "python3"
  },
  "language_info": {
   "codemirror_mode": {
    "name": "ipython",
    "version": 3
   },
   "file_extension": ".py",
   "mimetype": "text/x-python",
   "name": "python",
   "nbconvert_exporter": "python",
   "pygments_lexer": "ipython3",
   "version": "3.10.4"
  },
  "widgets": {
   "application/vnd.jupyter.widget-state+json": {
    "state": {},
    "version_major": 2,
    "version_minor": 0
   }
  }
 },
 "nbformat": 4,
 "nbformat_minor": 5
}
