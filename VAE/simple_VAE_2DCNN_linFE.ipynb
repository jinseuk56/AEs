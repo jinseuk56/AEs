{
 "cells": [
  {
   "cell_type": "code",
   "execution_count": null,
   "id": "6de3dba8",
   "metadata": {},
   "outputs": [],
   "source": [
    "import sys\n",
    "sys.path.append(\"/home/jinseuk56/Desktop/github_repo/AEs/VAE/\")\n",
    "from AEs_module import *\n",
    "import time\n",
    "import numpy as np\n",
    "import scipy.stats as stats\n",
    "import matplotlib.pyplot as plt\n",
    "import matplotlib.colors as mcolors\n",
    "import matplotlib.cm as cm\n",
    "import ipywidgets as pyw\n",
    "import tkinter.filedialog as tkf\n",
    "import tifffile\n",
    "from tabulate import tabulate\n",
    "import torch\n",
    "import torch.nn as nn\n",
    "import torch.nn.functional as F\n",
    "import torch.optim as optim\n",
    "from torch import linalg as LA"
   ]
  },
  {
   "cell_type": "code",
   "execution_count": null,
   "id": "cf46f7ca",
   "metadata": {},
   "outputs": [],
   "source": [
    "file_adr = tkf.askopenfilenames()\n",
    "print(*file_adr, sep=\"\\n\")"
   ]
  },
  {
   "cell_type": "code",
   "execution_count": null,
   "id": "fdf84f5e-3335-4da0-8720-e0d6ebadbfdf",
   "metadata": {},
   "outputs": [],
   "source": [
    "data_load = load_data(file_adr, dat_dim=4, dat_unit='1/nm', rescale=False)"
   ]
  },
  {
   "cell_type": "code",
   "execution_count": null,
   "id": "ad7f20d5-8fab-4b5e-beae-1e9fca4956c7",
   "metadata": {},
   "outputs": [],
   "source": [
    "data_load.find_center(cbox_edge=7, center_remove=0, result_visual=True, log_scale=True)"
   ]
  },
  {
   "cell_type": "code",
   "execution_count": null,
   "id": "2256a57f-6d48-48b9-a618-85d5efb09fbd",
   "metadata": {},
   "outputs": [],
   "source": [
    "data_load.make_input(min_val=1E-6, max_normalize=True, \n",
    "           log_scale=False, radial_flat=False, \n",
    "           w_size=32, radial_range=None, final_dim=2)"
   ]
  },
  {
   "cell_type": "code",
   "execution_count": null,
   "id": "3f32e26a",
   "metadata": {},
   "outputs": [],
   "source": [
    "if torch.cuda.is_available():\n",
    "    print(\"%d gpu available\"%(torch.cuda.device_count()))\n",
    "    cuda_device = torch.device(\"cuda:0\")\n",
    "    print(torch.cuda.get_device_name(cuda_device))\n",
    "    torch.cuda.set_device(cuda_device)\n",
    "    print(torch.cuda.memory_summary(device=cuda_device))\n",
    "else:\n",
    "    cuda_device = None"
   ]
  },
  {
   "cell_type": "code",
   "execution_count": null,
   "id": "0c74abe9",
   "metadata": {},
   "outputs": [],
   "source": [
    "num_comp = 2\n",
    "channels = [32, 64, 128, 256]\n",
    "kernels = [4, 4, 4, 4]\n",
    "padding = [1, 1, 1, 1]\n",
    "stride = [2, 2, 2, 2]\n",
    "pooling = [1, 1, 1, 1]\n",
    "\n",
    "dat_dim = []\n",
    "tmp_dim = data_load.w_size*2\n",
    "for i in range(len(kernels)):\n",
    "    tmp_dim += (-kernels[i]+2*padding[i])\n",
    "    tmp_dim /= stride[i]\n",
    "    tmp_dim += 1\n",
    "    tmp_dim /= pooling[i]\n",
    "    dat_dim.append(int(tmp_dim))\n",
    "\n",
    "print(dat_dim)\n",
    "print(kernels)\n",
    "print(channels)\n",
    "print(padding)\n",
    "print(stride)\n",
    "print(pooling)"
   ]
  },
  {
   "cell_type": "code",
   "execution_count": null,
   "id": "39d888c0-021e-42b6-8907-5f59ef83e9a4",
   "metadata": {},
   "outputs": [],
   "source": [
    "parallel_ = True\n",
    "\n",
    "enc_model = VAE2DCNN_encoder(dat_dim[-1], channels, kernels, stride, padding, pooling, num_comp)\n",
    "if parallel_:\n",
    "    enc_model = nn.DataParallel(enc_model)\n",
    "enc_model.cuda(cuda_device)\n",
    "print(enc_model)"
   ]
  },
  {
   "cell_type": "code",
   "execution_count": null,
   "id": "647c18e7",
   "metadata": {},
   "outputs": [],
   "source": [
    "dec_model = linFE_decoder(num_comp, data_load.s_length)\n",
    "\n",
    "if parallel_:\n",
    "    dec_model = nn.DataParallel(dec_model)\n",
    "    \n",
    "dec_model.cuda(cuda_device)\n",
    "print(dec_model)"
   ]
  },
  {
   "cell_type": "code",
   "execution_count": null,
   "id": "7498b624",
   "metadata": {},
   "outputs": [],
   "source": [
    "batch_size = 510\n",
    "mini_batches = [data_load.dataset_input[k:k+batch_size] for k in range(0, len(data_load.dataset_input), batch_size)]\n",
    "print(len(mini_batches))\n",
    "print(len(mini_batches[-1]))"
   ]
  },
  {
   "cell_type": "code",
   "execution_count": null,
   "id": "d09e2c51",
   "metadata": {},
   "outputs": [],
   "source": [
    "glob_iter = 0\n",
    "params = list(enc_model.parameters()) + list(dec_model.parameters())\n",
    "optimizer = optim.Adam(params)"
   ]
  },
  {
   "cell_type": "code",
   "execution_count": null,
   "id": "7ea86b79",
   "metadata": {},
   "outputs": [],
   "source": [
    "start = time.time()\n",
    "n_fig = 5\n",
    "n_epoch = 100\n",
    "\n",
    "beta = 4.0\n",
    "gamma = 1000\n",
    "C_max = torch.Tensor([25.0]).to(cuda_device)\n",
    "C_stop_iter = int(n_epoch/3)\n",
    "\n",
    "l_rate = 0.001\n",
    "optimizer.param_groups[0]['lr'] = l_rate\n",
    "\n",
    "loss_plot = []\n",
    "for epoch in range(n_epoch):\n",
    "    glob_iter += 1\n",
    "    loss_epoch = 0\n",
    "    recon_loss = 0\n",
    "    KLD_loss = 0\n",
    "    \n",
    "    latent_z = []\n",
    "    z_mu = []\n",
    "    z_logvar = []\n",
    "    for i, m_batch in enumerate(mini_batches):\n",
    "        \n",
    "        x = torch.from_numpy(m_batch).clamp_(min=0.001, max=0.999)\n",
    "        x = x.to(torch.float32)\n",
    "        x = x.to(cuda_device)\n",
    "        x.requires_grad_(requires_grad=False)\n",
    "        \n",
    "        mu, logvar, z = enc_model(x)\n",
    "        x_ = dec_model(z)\n",
    "        \n",
    "        x_ = x_.view(-1, data_load.w_size*2, data_load.w_size*2)\n",
    "        \n",
    "        reconstruction_error = reconstruction_loss(x_.squeeze(), x, mean=False, loss_fn=\"BCE\")\n",
    "        KL_divergence = VAE_KLD(mu, logvar, mean=False, mode=\"normal\", beta=beta,\n",
    "                                gamma=gamma, C_max=C_max, C_stop_iter=C_stop_iter, glob_iter=glob_iter)\n",
    "        \n",
    "        loss = reconstruction_error + KL_divergence\n",
    "        loss_epoch += loss.item()\n",
    "        recon_loss += reconstruction_error.item()\n",
    "        KLD_loss += KL_divergence.item()\n",
    "        \n",
    "        optimizer.zero_grad()\n",
    "        loss.backward()\n",
    "        optimizer.step()\n",
    "        \n",
    "        latent_z.extend(z.data.cpu().numpy().tolist())\n",
    "        z_mu.extend(mu.data.cpu().numpy().tolist())\n",
    "        z_logvar.extend(logvar.data.cpu().numpy().tolist())\n",
    "    \n",
    "    loss_plot.append(loss_epoch/data_load.total_num)       \n",
    "    \n",
    "    latent_z = np.asarray(latent_z)\n",
    "    z_mu = np.asarray(z_mu)\n",
    "    z_logvar = np.asarray(z_logvar)\n",
    "            \n",
    "    if epoch == 0:\n",
    "        print(torch.cuda.memory_summary(device=cuda_device))\n",
    "        \n",
    "    if (epoch+1) % int(n_epoch/10) == 0:\n",
    "        fig, ax = plt.subplots(1, 1)\n",
    "        ax.plot(np.arange(epoch+1)+1, loss_plot, \"k-\")\n",
    "        ax.grid()\n",
    "        plt.show()        \n",
    "        \n",
    "        print(tabulate([\n",
    "                        [\"epoch\", epoch+1], \n",
    "                        [\"total loss\", loss_epoch/data_load.total_num],\n",
    "                        [\"reconstruction error\", recon_loss/data_load.total_num],\n",
    "                        [\"KL divergence\", KLD_loss/data_load.total_num],\n",
    "                        [\"error ratio\", reconstruction_error/KL_divergence],\n",
    "                        [\"iteration ratio\", C_stop_iter/glob_iter]\n",
    "                        ]))\n",
    "        print(\"%.2f minutes have passed\"%((time.time()-start)/60))\n",
    "        \n",
    "        fig, ax = plt.subplots(2, n_fig, figsize=(5*n_fig, 5*2))\n",
    "        for i in range(n_fig):\n",
    "            ax[0][i].imshow(x[i].data.cpu(), cmap=\"inferno\")\n",
    "            ax[1][i].imshow(x_[i].squeeze().data.cpu(), cmap=\"inferno\")\n",
    "        fig.tight_layout()\n",
    "        plt.show()\n",
    "        \n",
    "        fig, ax = plt.subplots(1, 3, figsize=(15, 5))\n",
    "\n",
    "        coeffs = np.zeros_like(latent_z)\n",
    "        coeffs[data_load.ri] = latent_z.copy()\n",
    "        latent_z_coeffs_reshape = reshape_coeff(coeffs, data_load.data_shape)  \n",
    "\n",
    "        ax[0].set_title(\"latent z distribution\")\n",
    "        for i in range(num_comp):\n",
    "            ax[0].hist(coeffs[:, i], bins=50, alpha=(1.0-i*(1/num_comp)))\n",
    "\n",
    "        coeffs = np.zeros_like(z_mu)\n",
    "        coeffs[data_load.ri] = z_mu.copy()\n",
    "        z_mu_coeffs_reshape = reshape_coeff(coeffs, data_load.data_shape)\n",
    "\n",
    "        ax[1].set_title(\"z mu distribution\")\n",
    "        for i in range(num_comp):\n",
    "            ax[1].hist(coeffs[:, i], bins=50, alpha=(1.0-i*(1/num_comp)))\n",
    "\n",
    "        coeffs = np.zeros_like(z_logvar)\n",
    "        coeffs[data_load.ri] = z_logvar.copy()\n",
    "        z_logvar_coeffs_reshape = reshape_coeff(coeffs, data_load.data_shape) \n",
    "\n",
    "        ax[2].set_title(\"z log(var) distribution\")\n",
    "        for i in range(num_comp):\n",
    "            ax[2].hist(coeffs[:, i], bins=50, alpha=(1.0-i*(1/num_comp)))      \n",
    "\n",
    "        plt.show()\n",
    "\n",
    "        for i in range(data_load.num_img):\n",
    "            fig, ax = plt.subplots(3, num_comp, figsize=(5*num_comp, 15))\n",
    "            for j in range(num_comp):\n",
    "                tmp = ax[0][j].imshow(latent_z_coeffs_reshape[i][:, :, j], cmap=\"inferno\")\n",
    "                ax[0][j].axis(\"off\")\n",
    "                tmp = ax[1][j].imshow(z_mu_coeffs_reshape[i][:, :, j], cmap=\"inferno\")\n",
    "                ax[1][j].axis(\"off\")\n",
    "                tmp = ax[2][j].imshow(z_logvar_coeffs_reshape[i][:, :, j], cmap=\"inferno\")\n",
    "                ax[2][j].axis(\"off\")\n",
    "            plt.show()\n",
    "\n",
    "        fig, ax = plt.subplots(1, num_comp, figsize=(5*num_comp, 5))\n",
    "        if parallel_:\n",
    "            fc = dec_model.module.decoder[0].weight.data.cpu().numpy()\n",
    "\n",
    "        else:\n",
    "            fc = dec_model.decoder[0].weight.data.cpu().numpy()\n",
    "\n",
    "        for i in range(num_comp):\n",
    "            ax[i].imshow(fc[:, i].reshape(data_load.w_size*2, data_load.w_size*2), cmap=\"inferno\")\n",
    "            ax[i].axis(\"off\")\n",
    "        fig.tight_layout()\n",
    "        plt.show()       \n",
    "print(\"The training has been finished.\")"
   ]
  },
  {
   "cell_type": "code",
   "execution_count": null,
   "id": "0ae91349",
   "metadata": {},
   "outputs": [],
   "source": [
    "save_result = False\n",
    "\n",
    "for i in range(data_load.num_img):\n",
    "    fig, ax = plt.subplots(1, num_comp, figsize=(5*num_comp, 5))\n",
    "    for j in range(num_comp):\n",
    "        tmp = ax[j].imshow(z_mu_coeffs_reshape[i][:, :, j], cmap=\"inferno\")\n",
    "        ax[j].axis(\"off\")\n",
    "        if save_result:\n",
    "            tifffile.imwrite(\"z_mu_comp_%d.tif\"%(j+1), z_mu_coeffs_reshape[i][:, :, j])\n",
    "    plt.show()"
   ]
  },
  {
   "cell_type": "code",
   "execution_count": null,
   "id": "92f58085",
   "metadata": {},
   "outputs": [],
   "source": [
    "save_result = False\n",
    "\n",
    "for i in range(data_load.num_img):\n",
    "    fig, ax = plt.subplots(1, num_comp, figsize=(5*num_comp, 5))\n",
    "    for j in range(num_comp):\n",
    "        tmp = ax[j].imshow(z_logvar_coeffs_reshape[i][:, :, j], cmap=\"inferno\")\n",
    "        ax[j].axis(\"off\")\n",
    "        if save_result:\n",
    "            tifffile.imwrite(\"z_mu_comp_%d.tif\"%(j+1), z_logvar_coeffs_reshape[i][:, :, j])\n",
    "    plt.show()"
   ]
  },
  {
   "cell_type": "code",
   "execution_count": null,
   "id": "acdafdc3",
   "metadata": {},
   "outputs": [],
   "source": [
    "%matplotlib inline"
   ]
  },
  {
   "cell_type": "code",
   "execution_count": null,
   "id": "5c3358d4",
   "metadata": {},
   "outputs": [],
   "source": [
    "%matplotlib widget"
   ]
  },
  {
   "cell_type": "code",
   "execution_count": null,
   "id": "943a8006",
   "metadata": {},
   "outputs": [],
   "source": [
    "n_sample = 10\n",
    "sigma = 5.0\n",
    "z_test = np.linspace(-sigma, sigma, n_sample*10, endpoint=True)\n",
    "rv = stats.norm(0, 1)\n",
    "norm_pdf = rv.pdf(z_test)\n",
    "norm_pdf = norm_pdf / np.sum(norm_pdf)\n",
    "z_test = np.sort(np.random.choice(z_test, n_sample, replace=False, p=norm_pdf))\n",
    "z_test = np.meshgrid(z_test, z_test)\n",
    "z_test = np.stack((z_test[0].flatten(), z_test[1].flatten()), axis=1)\n",
    "print(z_test.shape)\n",
    "z_test = torch.from_numpy(z_test).to(torch.float32).to(cuda_device)"
   ]
  },
  {
   "cell_type": "code",
   "execution_count": null,
   "id": "f06763e2",
   "metadata": {},
   "outputs": [],
   "source": [
    "dec_model.eval()\n",
    "generated = dec_model(z_test)\n",
    "print(generated.shape)"
   ]
  },
  {
   "cell_type": "code",
   "execution_count": null,
   "id": "297fbf40",
   "metadata": {},
   "outputs": [],
   "source": [
    "fig, ax = plt.subplots(n_sample, n_sample, figsize=(30, 30))\n",
    "for i, a in enumerate(ax.flat):\n",
    "    a.imshow(generated[i].squeeze().data.cpu().reshape(data_load.w_size*2, data_load.w_size*2), cmap=\"jet\")\n",
    "    a.axis(\"off\")\n",
    "plt.subplots_adjust(hspace=0.01, wspace=0.01)\n",
    "plt.show()"
   ]
  },
  {
   "cell_type": "code",
   "execution_count": null,
   "id": "797f8f1f",
   "metadata": {},
   "outputs": [],
   "source": [
    "# 2D subspace\n",
    "%matplotlib widget\n",
    "fig, ax = plt.subplots(1, 1, figsize=(7, 7))\n",
    "\n",
    "def projection(c1, c2):\n",
    "    ax.cla()\n",
    "    ax.scatter(coeffs[:, c1], coeffs[:, c2], s=30, c=\"black\", alpha=0.5)\n",
    "    ax.grid()\n",
    "    ax.set_xlabel(\"loading vector %d\"%(c1+1), fontsize=15)\n",
    "    ax.set_ylabel(\"loading vector %d\"%(c2+1), fontsize=15)\n",
    "    ax.tick_params(axis=\"both\", labelsize=15)\n",
    "    fig.canvas.draw()\n",
    "    fig.tight_layout()\n",
    "\n",
    "x_widget = pyw.IntSlider(min=0, max=num_comp-1, step=1, value=0)\n",
    "y_widget = pyw.IntSlider(min=0, max=num_comp-1, step=1, value=1)\n",
    "\n",
    "pyw.interact(projection, c1=x_widget, c2=y_widget)\n",
    "plt.show()"
   ]
  }
 ],
 "metadata": {
  "kernelspec": {
   "display_name": "Python 3 (ipykernel)",
   "language": "python",
   "name": "python3"
  },
  "language_info": {
   "codemirror_mode": {
    "name": "ipython",
    "version": 3
   },
   "file_extension": ".py",
   "mimetype": "text/x-python",
   "name": "python",
   "nbconvert_exporter": "python",
   "pygments_lexer": "ipython3",
   "version": "3.10.4"
  },
  "widgets": {
   "application/vnd.jupyter.widget-state+json": {
    "state": {},
    "version_major": 2,
    "version_minor": 0
   }
  }
 },
 "nbformat": 4,
 "nbformat_minor": 5
}
